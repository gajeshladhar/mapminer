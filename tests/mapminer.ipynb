{
 "cells": [
  {
   "cell_type": "markdown",
   "metadata": {
    "id": "4TsspBbtWyBj"
   },
   "source": [
    " <h1>🌍 <strong>MapMiner</strong> </h1>\n",
    "    <p>\n",
    "    <a href=\"https://colab.research.google.com/drive/1steVa5hY0SqUabvFLb0J4ypRWgSs7io9?usp=sharing\" target=\"_blank\">\n",
    "    <img src=\"https://colab.research.google.com/assets/colab-badge.svg\" alt=\"Open in Colab\"/>\n",
    "</a>\n",
    "        <img src=\"https://img.shields.io/badge/Python-3.x-blue.svg?style=flat-square&logo=python\" alt=\"Python\">\n",
    "        <img src=\"https://img.shields.io/badge/Xarray-0.18+-orange.svg?style=flat-square&logo=xarray\" alt=\"Xarray\">\n",
    "        <img src=\"https://img.shields.io/badge/Dask-Powered-yellow.svg?style=flat-square&logo=dask\" alt=\"Dask\">\n",
    "        <img src=\"https://img.shields.io/badge/Numba-Accelerated-green.svg?style=flat-square&logo=numba\" alt=\"Numba\">\n",
    "        <img src=\"https://img.shields.io/badge/Selenium-Automated-informational.svg?style=flat-square&logo=selenium\" alt=\"Selenium\">\n",
    "    </p>\n",
    "    <p><strong>MapMiner</strong> is a geospatial tool designed to efficiently download and process geospatial data and metadata from various sources. It leverages powerful Python libraries like <strong>Selenium</strong>, <strong>Dask</strong>, <strong>Numba</strong>, and <strong>Xarray</strong> to provide high-performance data retrieval and processing capabilities for geospatial analysis and visualization.</p><br>\n",
    "\n",
    "<br><h2>📚 <strong>Supported Datasets</strong></h2>\n",
    "<p>MapMiner supports a variety of geospatial datasets across multiple categories:</p>\n",
    "<div>\n",
    "\n",
    "| Category                            | Datasets                                                                 |\n",
    "|-------------------------------------|--------------------------------------------------------------------------|\n",
    "| 🌍 **Satellite**                    | `Sentinel-2`, `Sentinel-1`, `MODIS`, `Landsat`                            |\n",
    "| 🚁 **Aerial**                       | `NAIP`                                                                   |\n",
    "| 🗺️ **Basemap**                      | `Google`, `ESRI`                                                         |\n",
    "| 📍 **Vectors**                      | `Google Building Footprint`, `OSM`                                        |\n",
    "| 🏔️ **DEM (Digital Elevation Model)** | `Copernicus DEM 30m`, `ALOS DEM`                                          |\n",
    "| 🌍 **LULC (Land Use Land Cover)**    | `ESRI LULC`                                                              |\n",
    "| 🌾 **Crop Layer**                   | `CDL Crop Mask`    \n",
    "\n",
    "\n",
    "<br>"
   ]
  },
  {
   "cell_type": "markdown",
   "metadata": {
    "id": "SFY-Xb2OY_Rg"
   },
   "source": [
    "<div style=\"text-align: center;\">\n",
    "  <img src=\"https://www.thalesgroup.com/sites/default/files/database/assets/images/2020-01/EUTELSAT%20KONNECT_1100.jpg\" alt=\"MapMiner Image\" height=400 width=800>\n",
    "</div>\n"
   ]
  },
  {
   "cell_type": "code",
   "execution_count": null,
   "metadata": {
    "colab": {
     "base_uri": "https://localhost:8080/",
     "height": 1000
    },
    "id": "j4w4i_UqkgrA",
    "outputId": "75594808-8dd0-41bd-c0ea-278a6600c9b7",
    "tags": []
   },
   "outputs": [],
   "source": [
    "#Install MapMiner from PIP\n",
    "!pip3 install mapminer"
   ]
  },
  {
   "cell_type": "markdown",
   "metadata": {
    "id": "JzUBqsA4ZudO"
   },
   "source": [
    "<br><hr><br><strong><h2 style=\"text-align: center; color: #2ecc71; font-family: Arial, sans-serif;\">\n",
    "  🔍 Data Mining & Visualization: Extract and Visualize Earth Observation Data with MapMiner\n",
    "</h2></strong>\n",
    "<p style=\"text-align: center; font-size: 18px; color: #555;\">\n",
    "  This code imports the powerful MapMiner tools and utilizes <strong>hvPlot</strong> for interactive data visualization. Get ready to explore your geospatial data like never before!\n",
    "</p>\n"
   ]
  },
  {
   "cell_type": "code",
   "execution_count": 3,
   "metadata": {
    "id": "Ie2NP3HVktgj",
    "tags": []
   },
   "outputs": [
    {
     "data": {
      "text/html": [
       "<script type=\"esms-options\">{\"shimMode\": true}</script><style>*[data-root-id],\n",
       "*[data-root-id] > * {\n",
       "  box-sizing: border-box;\n",
       "  font-family: var(--jp-ui-font-family);\n",
       "  font-size: var(--jp-ui-font-size1);\n",
       "  color: var(--vscode-editor-foreground, var(--jp-ui-font-color1));\n",
       "}\n",
       "\n",
       "/* Override VSCode background color */\n",
       ".cell-output-ipywidget-background:has(\n",
       "    > .cell-output-ipywidget-background > .lm-Widget > *[data-root-id]\n",
       "  ),\n",
       ".cell-output-ipywidget-background:has(> .lm-Widget > *[data-root-id]) {\n",
       "  background-color: transparent !important;\n",
       "}\n",
       "</style>"
      ]
     },
     "metadata": {},
     "output_type": "display_data"
    },
    {
     "data": {
      "application/javascript": [
       "(function(root) {\n",
       "  function now() {\n",
       "    return new Date();\n",
       "  }\n",
       "\n",
       "  const force = true;\n",
       "  const py_version = '3.5.2'.replace('rc', '-rc.').replace('.dev', '-dev.');\n",
       "  const reloading = false;\n",
       "  const Bokeh = root.Bokeh;\n",
       "\n",
       "  // Set a timeout for this load but only if we are not already initializing\n",
       "  if (typeof (root._bokeh_timeout) === \"undefined\" || (force || !root._bokeh_is_initializing)) {\n",
       "    root._bokeh_timeout = Date.now() + 5000;\n",
       "    root._bokeh_failed_load = false;\n",
       "  }\n",
       "\n",
       "  function run_callbacks() {\n",
       "    try {\n",
       "      root._bokeh_onload_callbacks.forEach(function(callback) {\n",
       "        if (callback != null)\n",
       "          callback();\n",
       "      });\n",
       "    } finally {\n",
       "      delete root._bokeh_onload_callbacks;\n",
       "    }\n",
       "    console.debug(\"Bokeh: all callbacks have finished\");\n",
       "  }\n",
       "\n",
       "  function load_libs(css_urls, js_urls, js_modules, js_exports, callback) {\n",
       "    if (css_urls == null) css_urls = [];\n",
       "    if (js_urls == null) js_urls = [];\n",
       "    if (js_modules == null) js_modules = [];\n",
       "    if (js_exports == null) js_exports = {};\n",
       "\n",
       "    root._bokeh_onload_callbacks.push(callback);\n",
       "\n",
       "    if (root._bokeh_is_loading > 0) {\n",
       "      // Don't load bokeh if it is still initializing\n",
       "      console.debug(\"Bokeh: BokehJS is being loaded, scheduling callback at\", now());\n",
       "      return null;\n",
       "    } else if (js_urls.length === 0 && js_modules.length === 0 && Object.keys(js_exports).length === 0) {\n",
       "      // There is nothing to load\n",
       "      run_callbacks();\n",
       "      return null;\n",
       "    }\n",
       "\n",
       "    function on_load() {\n",
       "      root._bokeh_is_loading--;\n",
       "      if (root._bokeh_is_loading === 0) {\n",
       "        console.debug(\"Bokeh: all BokehJS libraries/stylesheets loaded\");\n",
       "        run_callbacks()\n",
       "      }\n",
       "    }\n",
       "    window._bokeh_on_load = on_load\n",
       "\n",
       "    function on_error(e) {\n",
       "      const src_el = e.srcElement\n",
       "      console.error(\"failed to load \" + (src_el.href || src_el.src));\n",
       "    }\n",
       "\n",
       "    const skip = [];\n",
       "    if (window.requirejs) {\n",
       "      window.requirejs.config({'packages': {}, 'paths': {}, 'shim': {}});\n",
       "      root._bokeh_is_loading = css_urls.length + 0;\n",
       "    } else {\n",
       "      root._bokeh_is_loading = css_urls.length + js_urls.length + js_modules.length + Object.keys(js_exports).length;\n",
       "    }\n",
       "\n",
       "    const existing_stylesheets = []\n",
       "    const links = document.getElementsByTagName('link')\n",
       "    for (let i = 0; i < links.length; i++) {\n",
       "      const link = links[i]\n",
       "      if (link.href != null) {\n",
       "        existing_stylesheets.push(link.href)\n",
       "      }\n",
       "    }\n",
       "    for (let i = 0; i < css_urls.length; i++) {\n",
       "      const url = css_urls[i];\n",
       "      const escaped = encodeURI(url)\n",
       "      if (existing_stylesheets.indexOf(escaped) !== -1) {\n",
       "        on_load()\n",
       "        continue;\n",
       "      }\n",
       "      const element = document.createElement(\"link\");\n",
       "      element.onload = on_load;\n",
       "      element.onerror = on_error;\n",
       "      element.rel = \"stylesheet\";\n",
       "      element.type = \"text/css\";\n",
       "      element.href = url;\n",
       "      console.debug(\"Bokeh: injecting link tag for BokehJS stylesheet: \", url);\n",
       "      document.body.appendChild(element);\n",
       "    }    var existing_scripts = []\n",
       "    const scripts = document.getElementsByTagName('script')\n",
       "    for (let i = 0; i < scripts.length; i++) {\n",
       "      var script = scripts[i]\n",
       "      if (script.src != null) {\n",
       "        existing_scripts.push(script.src)\n",
       "      }\n",
       "    }\n",
       "    for (let i = 0; i < js_urls.length; i++) {\n",
       "      const url = js_urls[i];\n",
       "      const escaped = encodeURI(url)\n",
       "      if (skip.indexOf(escaped) !== -1 || existing_scripts.indexOf(escaped) !== -1) {\n",
       "        if (!window.requirejs) {\n",
       "          on_load();\n",
       "        }\n",
       "        continue;\n",
       "      }\n",
       "      const element = document.createElement('script');\n",
       "      element.onload = on_load;\n",
       "      element.onerror = on_error;\n",
       "      element.async = false;\n",
       "      element.src = url;\n",
       "      console.debug(\"Bokeh: injecting script tag for BokehJS library: \", url);\n",
       "      document.head.appendChild(element);\n",
       "    }\n",
       "    for (let i = 0; i < js_modules.length; i++) {\n",
       "      const url = js_modules[i];\n",
       "      const escaped = encodeURI(url)\n",
       "      if (skip.indexOf(escaped) !== -1 || existing_scripts.indexOf(escaped) !== -1) {\n",
       "        if (!window.requirejs) {\n",
       "          on_load();\n",
       "        }\n",
       "        continue;\n",
       "      }\n",
       "      var element = document.createElement('script');\n",
       "      element.onload = on_load;\n",
       "      element.onerror = on_error;\n",
       "      element.async = false;\n",
       "      element.src = url;\n",
       "      element.type = \"module\";\n",
       "      console.debug(\"Bokeh: injecting script tag for BokehJS library: \", url);\n",
       "      document.head.appendChild(element);\n",
       "    }\n",
       "    for (const name in js_exports) {\n",
       "      const url = js_exports[name];\n",
       "      const escaped = encodeURI(url)\n",
       "      if (skip.indexOf(escaped) >= 0 || root[name] != null) {\n",
       "        if (!window.requirejs) {\n",
       "          on_load();\n",
       "        }\n",
       "        continue;\n",
       "      }\n",
       "      var element = document.createElement('script');\n",
       "      element.onerror = on_error;\n",
       "      element.async = false;\n",
       "      element.type = \"module\";\n",
       "      console.debug(\"Bokeh: injecting script tag for BokehJS library: \", url);\n",
       "      element.textContent = `\n",
       "      import ${name} from \"${url}\"\n",
       "      window.${name} = ${name}\n",
       "      window._bokeh_on_load()\n",
       "      `\n",
       "      document.head.appendChild(element);\n",
       "    }\n",
       "    if (!js_urls.length && !js_modules.length) {\n",
       "      on_load()\n",
       "    }\n",
       "  };\n",
       "\n",
       "  function inject_raw_css(css) {\n",
       "    const element = document.createElement(\"style\");\n",
       "    element.appendChild(document.createTextNode(css));\n",
       "    document.body.appendChild(element);\n",
       "  }\n",
       "\n",
       "  const js_urls = [\"https://cdn.holoviz.org/panel/1.5.3/dist/bundled/reactiveesm/es-module-shims@^1.10.0/dist/es-module-shims.min.js\", \"https://cdn.bokeh.org/bokeh/release/bokeh-3.5.2.min.js\", \"https://cdn.bokeh.org/bokeh/release/bokeh-gl-3.5.2.min.js\", \"https://cdn.bokeh.org/bokeh/release/bokeh-widgets-3.5.2.min.js\", \"https://cdn.bokeh.org/bokeh/release/bokeh-tables-3.5.2.min.js\", \"https://cdn.holoviz.org/panel/1.5.3/dist/panel.min.js\"];\n",
       "  const js_modules = [];\n",
       "  const js_exports = {};\n",
       "  const css_urls = [];\n",
       "  const inline_js = [    function(Bokeh) {\n",
       "      Bokeh.set_log_level(\"info\");\n",
       "    },\n",
       "function(Bokeh) {} // ensure no trailing comma for IE\n",
       "  ];\n",
       "\n",
       "  function run_inline_js() {\n",
       "    if ((root.Bokeh !== undefined) || (force === true)) {\n",
       "      for (let i = 0; i < inline_js.length; i++) {\n",
       "        try {\n",
       "          inline_js[i].call(root, root.Bokeh);\n",
       "        } catch(e) {\n",
       "          if (!reloading) {\n",
       "            throw e;\n",
       "          }\n",
       "        }\n",
       "      }\n",
       "      // Cache old bokeh versions\n",
       "      if (Bokeh != undefined && !reloading) {\n",
       "        var NewBokeh = root.Bokeh;\n",
       "        if (Bokeh.versions === undefined) {\n",
       "          Bokeh.versions = new Map();\n",
       "        }\n",
       "        if (NewBokeh.version !== Bokeh.version) {\n",
       "          Bokeh.versions.set(NewBokeh.version, NewBokeh)\n",
       "        }\n",
       "        root.Bokeh = Bokeh;\n",
       "      }\n",
       "    } else if (Date.now() < root._bokeh_timeout) {\n",
       "      setTimeout(run_inline_js, 100);\n",
       "    } else if (!root._bokeh_failed_load) {\n",
       "      console.log(\"Bokeh: BokehJS failed to load within specified timeout.\");\n",
       "      root._bokeh_failed_load = true;\n",
       "    }\n",
       "    root._bokeh_is_initializing = false\n",
       "  }\n",
       "\n",
       "  function load_or_wait() {\n",
       "    // Implement a backoff loop that tries to ensure we do not load multiple\n",
       "    // versions of Bokeh and its dependencies at the same time.\n",
       "    // In recent versions we use the root._bokeh_is_initializing flag\n",
       "    // to determine whether there is an ongoing attempt to initialize\n",
       "    // bokeh, however for backward compatibility we also try to ensure\n",
       "    // that we do not start loading a newer (Panel>=1.0 and Bokeh>3) version\n",
       "    // before older versions are fully initialized.\n",
       "    if (root._bokeh_is_initializing && Date.now() > root._bokeh_timeout) {\n",
       "      // If the timeout and bokeh was not successfully loaded we reset\n",
       "      // everything and try loading again\n",
       "      root._bokeh_timeout = Date.now() + 5000;\n",
       "      root._bokeh_is_initializing = false;\n",
       "      root._bokeh_onload_callbacks = undefined;\n",
       "      root._bokeh_is_loading = 0\n",
       "      console.log(\"Bokeh: BokehJS was loaded multiple times but one version failed to initialize.\");\n",
       "      load_or_wait();\n",
       "    } else if (root._bokeh_is_initializing || (typeof root._bokeh_is_initializing === \"undefined\" && root._bokeh_onload_callbacks !== undefined)) {\n",
       "      setTimeout(load_or_wait, 100);\n",
       "    } else {\n",
       "      root._bokeh_is_initializing = true\n",
       "      root._bokeh_onload_callbacks = []\n",
       "      const bokeh_loaded = root.Bokeh != null && (root.Bokeh.version === py_version || (root.Bokeh.versions !== undefined && root.Bokeh.versions.has(py_version)));\n",
       "      if (!reloading && !bokeh_loaded) {\n",
       "        if (root.Bokeh) {\n",
       "          root.Bokeh = undefined;\n",
       "        }\n",
       "        console.debug(\"Bokeh: BokehJS not loaded, scheduling load and callback at\", now());\n",
       "      }\n",
       "      load_libs(css_urls, js_urls, js_modules, js_exports, function() {\n",
       "        console.debug(\"Bokeh: BokehJS plotting callback run at\", now());\n",
       "        run_inline_js();\n",
       "      });\n",
       "    }\n",
       "  }\n",
       "  // Give older versions of the autoload script a head-start to ensure\n",
       "  // they initialize before we start loading newer version.\n",
       "  setTimeout(load_or_wait, 100)\n",
       "}(window));"
      ],
      "application/vnd.holoviews_load.v0+json": "(function(root) {\n  function now() {\n    return new Date();\n  }\n\n  const force = true;\n  const py_version = '3.5.2'.replace('rc', '-rc.').replace('.dev', '-dev.');\n  const reloading = false;\n  const Bokeh = root.Bokeh;\n\n  // Set a timeout for this load but only if we are not already initializing\n  if (typeof (root._bokeh_timeout) === \"undefined\" || (force || !root._bokeh_is_initializing)) {\n    root._bokeh_timeout = Date.now() + 5000;\n    root._bokeh_failed_load = false;\n  }\n\n  function run_callbacks() {\n    try {\n      root._bokeh_onload_callbacks.forEach(function(callback) {\n        if (callback != null)\n          callback();\n      });\n    } finally {\n      delete root._bokeh_onload_callbacks;\n    }\n    console.debug(\"Bokeh: all callbacks have finished\");\n  }\n\n  function load_libs(css_urls, js_urls, js_modules, js_exports, callback) {\n    if (css_urls == null) css_urls = [];\n    if (js_urls == null) js_urls = [];\n    if (js_modules == null) js_modules = [];\n    if (js_exports == null) js_exports = {};\n\n    root._bokeh_onload_callbacks.push(callback);\n\n    if (root._bokeh_is_loading > 0) {\n      // Don't load bokeh if it is still initializing\n      console.debug(\"Bokeh: BokehJS is being loaded, scheduling callback at\", now());\n      return null;\n    } else if (js_urls.length === 0 && js_modules.length === 0 && Object.keys(js_exports).length === 0) {\n      // There is nothing to load\n      run_callbacks();\n      return null;\n    }\n\n    function on_load() {\n      root._bokeh_is_loading--;\n      if (root._bokeh_is_loading === 0) {\n        console.debug(\"Bokeh: all BokehJS libraries/stylesheets loaded\");\n        run_callbacks()\n      }\n    }\n    window._bokeh_on_load = on_load\n\n    function on_error(e) {\n      const src_el = e.srcElement\n      console.error(\"failed to load \" + (src_el.href || src_el.src));\n    }\n\n    const skip = [];\n    if (window.requirejs) {\n      window.requirejs.config({'packages': {}, 'paths': {}, 'shim': {}});\n      root._bokeh_is_loading = css_urls.length + 0;\n    } else {\n      root._bokeh_is_loading = css_urls.length + js_urls.length + js_modules.length + Object.keys(js_exports).length;\n    }\n\n    const existing_stylesheets = []\n    const links = document.getElementsByTagName('link')\n    for (let i = 0; i < links.length; i++) {\n      const link = links[i]\n      if (link.href != null) {\n        existing_stylesheets.push(link.href)\n      }\n    }\n    for (let i = 0; i < css_urls.length; i++) {\n      const url = css_urls[i];\n      const escaped = encodeURI(url)\n      if (existing_stylesheets.indexOf(escaped) !== -1) {\n        on_load()\n        continue;\n      }\n      const element = document.createElement(\"link\");\n      element.onload = on_load;\n      element.onerror = on_error;\n      element.rel = \"stylesheet\";\n      element.type = \"text/css\";\n      element.href = url;\n      console.debug(\"Bokeh: injecting link tag for BokehJS stylesheet: \", url);\n      document.body.appendChild(element);\n    }    var existing_scripts = []\n    const scripts = document.getElementsByTagName('script')\n    for (let i = 0; i < scripts.length; i++) {\n      var script = scripts[i]\n      if (script.src != null) {\n        existing_scripts.push(script.src)\n      }\n    }\n    for (let i = 0; i < js_urls.length; i++) {\n      const url = js_urls[i];\n      const escaped = encodeURI(url)\n      if (skip.indexOf(escaped) !== -1 || existing_scripts.indexOf(escaped) !== -1) {\n        if (!window.requirejs) {\n          on_load();\n        }\n        continue;\n      }\n      const element = document.createElement('script');\n      element.onload = on_load;\n      element.onerror = on_error;\n      element.async = false;\n      element.src = url;\n      console.debug(\"Bokeh: injecting script tag for BokehJS library: \", url);\n      document.head.appendChild(element);\n    }\n    for (let i = 0; i < js_modules.length; i++) {\n      const url = js_modules[i];\n      const escaped = encodeURI(url)\n      if (skip.indexOf(escaped) !== -1 || existing_scripts.indexOf(escaped) !== -1) {\n        if (!window.requirejs) {\n          on_load();\n        }\n        continue;\n      }\n      var element = document.createElement('script');\n      element.onload = on_load;\n      element.onerror = on_error;\n      element.async = false;\n      element.src = url;\n      element.type = \"module\";\n      console.debug(\"Bokeh: injecting script tag for BokehJS library: \", url);\n      document.head.appendChild(element);\n    }\n    for (const name in js_exports) {\n      const url = js_exports[name];\n      const escaped = encodeURI(url)\n      if (skip.indexOf(escaped) >= 0 || root[name] != null) {\n        if (!window.requirejs) {\n          on_load();\n        }\n        continue;\n      }\n      var element = document.createElement('script');\n      element.onerror = on_error;\n      element.async = false;\n      element.type = \"module\";\n      console.debug(\"Bokeh: injecting script tag for BokehJS library: \", url);\n      element.textContent = `\n      import ${name} from \"${url}\"\n      window.${name} = ${name}\n      window._bokeh_on_load()\n      `\n      document.head.appendChild(element);\n    }\n    if (!js_urls.length && !js_modules.length) {\n      on_load()\n    }\n  };\n\n  function inject_raw_css(css) {\n    const element = document.createElement(\"style\");\n    element.appendChild(document.createTextNode(css));\n    document.body.appendChild(element);\n  }\n\n  const js_urls = [\"https://cdn.holoviz.org/panel/1.5.3/dist/bundled/reactiveesm/es-module-shims@^1.10.0/dist/es-module-shims.min.js\", \"https://cdn.bokeh.org/bokeh/release/bokeh-3.5.2.min.js\", \"https://cdn.bokeh.org/bokeh/release/bokeh-gl-3.5.2.min.js\", \"https://cdn.bokeh.org/bokeh/release/bokeh-widgets-3.5.2.min.js\", \"https://cdn.bokeh.org/bokeh/release/bokeh-tables-3.5.2.min.js\", \"https://cdn.holoviz.org/panel/1.5.3/dist/panel.min.js\"];\n  const js_modules = [];\n  const js_exports = {};\n  const css_urls = [];\n  const inline_js = [    function(Bokeh) {\n      Bokeh.set_log_level(\"info\");\n    },\nfunction(Bokeh) {} // ensure no trailing comma for IE\n  ];\n\n  function run_inline_js() {\n    if ((root.Bokeh !== undefined) || (force === true)) {\n      for (let i = 0; i < inline_js.length; i++) {\n        try {\n          inline_js[i].call(root, root.Bokeh);\n        } catch(e) {\n          if (!reloading) {\n            throw e;\n          }\n        }\n      }\n      // Cache old bokeh versions\n      if (Bokeh != undefined && !reloading) {\n        var NewBokeh = root.Bokeh;\n        if (Bokeh.versions === undefined) {\n          Bokeh.versions = new Map();\n        }\n        if (NewBokeh.version !== Bokeh.version) {\n          Bokeh.versions.set(NewBokeh.version, NewBokeh)\n        }\n        root.Bokeh = Bokeh;\n      }\n    } else if (Date.now() < root._bokeh_timeout) {\n      setTimeout(run_inline_js, 100);\n    } else if (!root._bokeh_failed_load) {\n      console.log(\"Bokeh: BokehJS failed to load within specified timeout.\");\n      root._bokeh_failed_load = true;\n    }\n    root._bokeh_is_initializing = false\n  }\n\n  function load_or_wait() {\n    // Implement a backoff loop that tries to ensure we do not load multiple\n    // versions of Bokeh and its dependencies at the same time.\n    // In recent versions we use the root._bokeh_is_initializing flag\n    // to determine whether there is an ongoing attempt to initialize\n    // bokeh, however for backward compatibility we also try to ensure\n    // that we do not start loading a newer (Panel>=1.0 and Bokeh>3) version\n    // before older versions are fully initialized.\n    if (root._bokeh_is_initializing && Date.now() > root._bokeh_timeout) {\n      // If the timeout and bokeh was not successfully loaded we reset\n      // everything and try loading again\n      root._bokeh_timeout = Date.now() + 5000;\n      root._bokeh_is_initializing = false;\n      root._bokeh_onload_callbacks = undefined;\n      root._bokeh_is_loading = 0\n      console.log(\"Bokeh: BokehJS was loaded multiple times but one version failed to initialize.\");\n      load_or_wait();\n    } else if (root._bokeh_is_initializing || (typeof root._bokeh_is_initializing === \"undefined\" && root._bokeh_onload_callbacks !== undefined)) {\n      setTimeout(load_or_wait, 100);\n    } else {\n      root._bokeh_is_initializing = true\n      root._bokeh_onload_callbacks = []\n      const bokeh_loaded = root.Bokeh != null && (root.Bokeh.version === py_version || (root.Bokeh.versions !== undefined && root.Bokeh.versions.has(py_version)));\n      if (!reloading && !bokeh_loaded) {\n        if (root.Bokeh) {\n          root.Bokeh = undefined;\n        }\n        console.debug(\"Bokeh: BokehJS not loaded, scheduling load and callback at\", now());\n      }\n      load_libs(css_urls, js_urls, js_modules, js_exports, function() {\n        console.debug(\"Bokeh: BokehJS plotting callback run at\", now());\n        run_inline_js();\n      });\n    }\n  }\n  // Give older versions of the autoload script a head-start to ensure\n  // they initialize before we start loading newer version.\n  setTimeout(load_or_wait, 100)\n}(window));"
     },
     "metadata": {},
     "output_type": "display_data"
    },
    {
     "data": {
      "application/javascript": [
       "\n",
       "if ((window.PyViz === undefined) || (window.PyViz instanceof HTMLElement)) {\n",
       "  window.PyViz = {comms: {}, comm_status:{}, kernels:{}, receivers: {}, plot_index: []}\n",
       "}\n",
       "\n",
       "\n",
       "    function JupyterCommManager() {\n",
       "    }\n",
       "\n",
       "    JupyterCommManager.prototype.register_target = function(plot_id, comm_id, msg_handler) {\n",
       "      if (window.comm_manager || ((window.Jupyter !== undefined) && (Jupyter.notebook.kernel != null))) {\n",
       "        var comm_manager = window.comm_manager || Jupyter.notebook.kernel.comm_manager;\n",
       "        comm_manager.register_target(comm_id, function(comm) {\n",
       "          comm.on_msg(msg_handler);\n",
       "        });\n",
       "      } else if ((plot_id in window.PyViz.kernels) && (window.PyViz.kernels[plot_id])) {\n",
       "        window.PyViz.kernels[plot_id].registerCommTarget(comm_id, function(comm) {\n",
       "          comm.onMsg = msg_handler;\n",
       "        });\n",
       "      } else if (typeof google != 'undefined' && google.colab.kernel != null) {\n",
       "        google.colab.kernel.comms.registerTarget(comm_id, (comm) => {\n",
       "          var messages = comm.messages[Symbol.asyncIterator]();\n",
       "          function processIteratorResult(result) {\n",
       "            var message = result.value;\n",
       "            console.log(message)\n",
       "            var content = {data: message.data, comm_id};\n",
       "            var buffers = []\n",
       "            for (var buffer of message.buffers || []) {\n",
       "              buffers.push(new DataView(buffer))\n",
       "            }\n",
       "            var metadata = message.metadata || {};\n",
       "            var msg = {content, buffers, metadata}\n",
       "            msg_handler(msg);\n",
       "            return messages.next().then(processIteratorResult);\n",
       "          }\n",
       "          return messages.next().then(processIteratorResult);\n",
       "        })\n",
       "      }\n",
       "    }\n",
       "\n",
       "    JupyterCommManager.prototype.get_client_comm = function(plot_id, comm_id, msg_handler) {\n",
       "      if (comm_id in window.PyViz.comms) {\n",
       "        return window.PyViz.comms[comm_id];\n",
       "      } else if (window.comm_manager || ((window.Jupyter !== undefined) && (Jupyter.notebook.kernel != null))) {\n",
       "        var comm_manager = window.comm_manager || Jupyter.notebook.kernel.comm_manager;\n",
       "        var comm = comm_manager.new_comm(comm_id, {}, {}, {}, comm_id);\n",
       "        if (msg_handler) {\n",
       "          comm.on_msg(msg_handler);\n",
       "        }\n",
       "      } else if ((plot_id in window.PyViz.kernels) && (window.PyViz.kernels[plot_id])) {\n",
       "        var comm = window.PyViz.kernels[plot_id].connectToComm(comm_id);\n",
       "        comm.open();\n",
       "        if (msg_handler) {\n",
       "          comm.onMsg = msg_handler;\n",
       "        }\n",
       "      } else if (typeof google != 'undefined' && google.colab.kernel != null) {\n",
       "        var comm_promise = google.colab.kernel.comms.open(comm_id)\n",
       "        comm_promise.then((comm) => {\n",
       "          window.PyViz.comms[comm_id] = comm;\n",
       "          if (msg_handler) {\n",
       "            var messages = comm.messages[Symbol.asyncIterator]();\n",
       "            function processIteratorResult(result) {\n",
       "              var message = result.value;\n",
       "              var content = {data: message.data};\n",
       "              var metadata = message.metadata || {comm_id};\n",
       "              var msg = {content, metadata}\n",
       "              msg_handler(msg);\n",
       "              return messages.next().then(processIteratorResult);\n",
       "            }\n",
       "            return messages.next().then(processIteratorResult);\n",
       "          }\n",
       "        }) \n",
       "        var sendClosure = (data, metadata, buffers, disposeOnDone) => {\n",
       "          return comm_promise.then((comm) => {\n",
       "            comm.send(data, metadata, buffers, disposeOnDone);\n",
       "          });\n",
       "        };\n",
       "        var comm = {\n",
       "          send: sendClosure\n",
       "        };\n",
       "      }\n",
       "      window.PyViz.comms[comm_id] = comm;\n",
       "      return comm;\n",
       "    }\n",
       "    window.PyViz.comm_manager = new JupyterCommManager();\n",
       "    \n",
       "\n",
       "\n",
       "var JS_MIME_TYPE = 'application/javascript';\n",
       "var HTML_MIME_TYPE = 'text/html';\n",
       "var EXEC_MIME_TYPE = 'application/vnd.holoviews_exec.v0+json';\n",
       "var CLASS_NAME = 'output';\n",
       "\n",
       "/**\n",
       " * Render data to the DOM node\n",
       " */\n",
       "function render(props, node) {\n",
       "  var div = document.createElement(\"div\");\n",
       "  var script = document.createElement(\"script\");\n",
       "  node.appendChild(div);\n",
       "  node.appendChild(script);\n",
       "}\n",
       "\n",
       "/**\n",
       " * Handle when a new output is added\n",
       " */\n",
       "function handle_add_output(event, handle) {\n",
       "  var output_area = handle.output_area;\n",
       "  var output = handle.output;\n",
       "  if ((output.data == undefined) || (!output.data.hasOwnProperty(EXEC_MIME_TYPE))) {\n",
       "    return\n",
       "  }\n",
       "  var id = output.metadata[EXEC_MIME_TYPE][\"id\"];\n",
       "  var toinsert = output_area.element.find(\".\" + CLASS_NAME.split(' ')[0]);\n",
       "  if (id !== undefined) {\n",
       "    var nchildren = toinsert.length;\n",
       "    var html_node = toinsert[nchildren-1].children[0];\n",
       "    html_node.innerHTML = output.data[HTML_MIME_TYPE];\n",
       "    var scripts = [];\n",
       "    var nodelist = html_node.querySelectorAll(\"script\");\n",
       "    for (var i in nodelist) {\n",
       "      if (nodelist.hasOwnProperty(i)) {\n",
       "        scripts.push(nodelist[i])\n",
       "      }\n",
       "    }\n",
       "\n",
       "    scripts.forEach( function (oldScript) {\n",
       "      var newScript = document.createElement(\"script\");\n",
       "      var attrs = [];\n",
       "      var nodemap = oldScript.attributes;\n",
       "      for (var j in nodemap) {\n",
       "        if (nodemap.hasOwnProperty(j)) {\n",
       "          attrs.push(nodemap[j])\n",
       "        }\n",
       "      }\n",
       "      attrs.forEach(function(attr) { newScript.setAttribute(attr.name, attr.value) });\n",
       "      newScript.appendChild(document.createTextNode(oldScript.innerHTML));\n",
       "      oldScript.parentNode.replaceChild(newScript, oldScript);\n",
       "    });\n",
       "    if (JS_MIME_TYPE in output.data) {\n",
       "      toinsert[nchildren-1].children[1].textContent = output.data[JS_MIME_TYPE];\n",
       "    }\n",
       "    output_area._hv_plot_id = id;\n",
       "    if ((window.Bokeh !== undefined) && (id in Bokeh.index)) {\n",
       "      window.PyViz.plot_index[id] = Bokeh.index[id];\n",
       "    } else {\n",
       "      window.PyViz.plot_index[id] = null;\n",
       "    }\n",
       "  } else if (output.metadata[EXEC_MIME_TYPE][\"server_id\"] !== undefined) {\n",
       "    var bk_div = document.createElement(\"div\");\n",
       "    bk_div.innerHTML = output.data[HTML_MIME_TYPE];\n",
       "    var script_attrs = bk_div.children[0].attributes;\n",
       "    for (var i = 0; i < script_attrs.length; i++) {\n",
       "      toinsert[toinsert.length - 1].childNodes[1].setAttribute(script_attrs[i].name, script_attrs[i].value);\n",
       "    }\n",
       "    // store reference to server id on output_area\n",
       "    output_area._bokeh_server_id = output.metadata[EXEC_MIME_TYPE][\"server_id\"];\n",
       "  }\n",
       "}\n",
       "\n",
       "/**\n",
       " * Handle when an output is cleared or removed\n",
       " */\n",
       "function handle_clear_output(event, handle) {\n",
       "  var id = handle.cell.output_area._hv_plot_id;\n",
       "  var server_id = handle.cell.output_area._bokeh_server_id;\n",
       "  if (((id === undefined) || !(id in PyViz.plot_index)) && (server_id !== undefined)) { return; }\n",
       "  var comm = window.PyViz.comm_manager.get_client_comm(\"hv-extension-comm\", \"hv-extension-comm\", function () {});\n",
       "  if (server_id !== null) {\n",
       "    comm.send({event_type: 'server_delete', 'id': server_id});\n",
       "    return;\n",
       "  } else if (comm !== null) {\n",
       "    comm.send({event_type: 'delete', 'id': id});\n",
       "  }\n",
       "  delete PyViz.plot_index[id];\n",
       "  if ((window.Bokeh !== undefined) & (id in window.Bokeh.index)) {\n",
       "    var doc = window.Bokeh.index[id].model.document\n",
       "    doc.clear();\n",
       "    const i = window.Bokeh.documents.indexOf(doc);\n",
       "    if (i > -1) {\n",
       "      window.Bokeh.documents.splice(i, 1);\n",
       "    }\n",
       "  }\n",
       "}\n",
       "\n",
       "/**\n",
       " * Handle kernel restart event\n",
       " */\n",
       "function handle_kernel_cleanup(event, handle) {\n",
       "  delete PyViz.comms[\"hv-extension-comm\"];\n",
       "  window.PyViz.plot_index = {}\n",
       "}\n",
       "\n",
       "/**\n",
       " * Handle update_display_data messages\n",
       " */\n",
       "function handle_update_output(event, handle) {\n",
       "  handle_clear_output(event, {cell: {output_area: handle.output_area}})\n",
       "  handle_add_output(event, handle)\n",
       "}\n",
       "\n",
       "function register_renderer(events, OutputArea) {\n",
       "  function append_mime(data, metadata, element) {\n",
       "    // create a DOM node to render to\n",
       "    var toinsert = this.create_output_subarea(\n",
       "    metadata,\n",
       "    CLASS_NAME,\n",
       "    EXEC_MIME_TYPE\n",
       "    );\n",
       "    this.keyboard_manager.register_events(toinsert);\n",
       "    // Render to node\n",
       "    var props = {data: data, metadata: metadata[EXEC_MIME_TYPE]};\n",
       "    render(props, toinsert[0]);\n",
       "    element.append(toinsert);\n",
       "    return toinsert\n",
       "  }\n",
       "\n",
       "  events.on('output_added.OutputArea', handle_add_output);\n",
       "  events.on('output_updated.OutputArea', handle_update_output);\n",
       "  events.on('clear_output.CodeCell', handle_clear_output);\n",
       "  events.on('delete.Cell', handle_clear_output);\n",
       "  events.on('kernel_ready.Kernel', handle_kernel_cleanup);\n",
       "\n",
       "  OutputArea.prototype.register_mime_type(EXEC_MIME_TYPE, append_mime, {\n",
       "    safe: true,\n",
       "    index: 0\n",
       "  });\n",
       "}\n",
       "\n",
       "if (window.Jupyter !== undefined) {\n",
       "  try {\n",
       "    var events = require('base/js/events');\n",
       "    var OutputArea = require('notebook/js/outputarea').OutputArea;\n",
       "    if (OutputArea.prototype.mime_types().indexOf(EXEC_MIME_TYPE) == -1) {\n",
       "      register_renderer(events, OutputArea);\n",
       "    }\n",
       "  } catch(err) {\n",
       "  }\n",
       "}\n"
      ],
      "application/vnd.holoviews_load.v0+json": "\nif ((window.PyViz === undefined) || (window.PyViz instanceof HTMLElement)) {\n  window.PyViz = {comms: {}, comm_status:{}, kernels:{}, receivers: {}, plot_index: []}\n}\n\n\n    function JupyterCommManager() {\n    }\n\n    JupyterCommManager.prototype.register_target = function(plot_id, comm_id, msg_handler) {\n      if (window.comm_manager || ((window.Jupyter !== undefined) && (Jupyter.notebook.kernel != null))) {\n        var comm_manager = window.comm_manager || Jupyter.notebook.kernel.comm_manager;\n        comm_manager.register_target(comm_id, function(comm) {\n          comm.on_msg(msg_handler);\n        });\n      } else if ((plot_id in window.PyViz.kernels) && (window.PyViz.kernels[plot_id])) {\n        window.PyViz.kernels[plot_id].registerCommTarget(comm_id, function(comm) {\n          comm.onMsg = msg_handler;\n        });\n      } else if (typeof google != 'undefined' && google.colab.kernel != null) {\n        google.colab.kernel.comms.registerTarget(comm_id, (comm) => {\n          var messages = comm.messages[Symbol.asyncIterator]();\n          function processIteratorResult(result) {\n            var message = result.value;\n            console.log(message)\n            var content = {data: message.data, comm_id};\n            var buffers = []\n            for (var buffer of message.buffers || []) {\n              buffers.push(new DataView(buffer))\n            }\n            var metadata = message.metadata || {};\n            var msg = {content, buffers, metadata}\n            msg_handler(msg);\n            return messages.next().then(processIteratorResult);\n          }\n          return messages.next().then(processIteratorResult);\n        })\n      }\n    }\n\n    JupyterCommManager.prototype.get_client_comm = function(plot_id, comm_id, msg_handler) {\n      if (comm_id in window.PyViz.comms) {\n        return window.PyViz.comms[comm_id];\n      } else if (window.comm_manager || ((window.Jupyter !== undefined) && (Jupyter.notebook.kernel != null))) {\n        var comm_manager = window.comm_manager || Jupyter.notebook.kernel.comm_manager;\n        var comm = comm_manager.new_comm(comm_id, {}, {}, {}, comm_id);\n        if (msg_handler) {\n          comm.on_msg(msg_handler);\n        }\n      } else if ((plot_id in window.PyViz.kernels) && (window.PyViz.kernels[plot_id])) {\n        var comm = window.PyViz.kernels[plot_id].connectToComm(comm_id);\n        comm.open();\n        if (msg_handler) {\n          comm.onMsg = msg_handler;\n        }\n      } else if (typeof google != 'undefined' && google.colab.kernel != null) {\n        var comm_promise = google.colab.kernel.comms.open(comm_id)\n        comm_promise.then((comm) => {\n          window.PyViz.comms[comm_id] = comm;\n          if (msg_handler) {\n            var messages = comm.messages[Symbol.asyncIterator]();\n            function processIteratorResult(result) {\n              var message = result.value;\n              var content = {data: message.data};\n              var metadata = message.metadata || {comm_id};\n              var msg = {content, metadata}\n              msg_handler(msg);\n              return messages.next().then(processIteratorResult);\n            }\n            return messages.next().then(processIteratorResult);\n          }\n        }) \n        var sendClosure = (data, metadata, buffers, disposeOnDone) => {\n          return comm_promise.then((comm) => {\n            comm.send(data, metadata, buffers, disposeOnDone);\n          });\n        };\n        var comm = {\n          send: sendClosure\n        };\n      }\n      window.PyViz.comms[comm_id] = comm;\n      return comm;\n    }\n    window.PyViz.comm_manager = new JupyterCommManager();\n    \n\n\nvar JS_MIME_TYPE = 'application/javascript';\nvar HTML_MIME_TYPE = 'text/html';\nvar EXEC_MIME_TYPE = 'application/vnd.holoviews_exec.v0+json';\nvar CLASS_NAME = 'output';\n\n/**\n * Render data to the DOM node\n */\nfunction render(props, node) {\n  var div = document.createElement(\"div\");\n  var script = document.createElement(\"script\");\n  node.appendChild(div);\n  node.appendChild(script);\n}\n\n/**\n * Handle when a new output is added\n */\nfunction handle_add_output(event, handle) {\n  var output_area = handle.output_area;\n  var output = handle.output;\n  if ((output.data == undefined) || (!output.data.hasOwnProperty(EXEC_MIME_TYPE))) {\n    return\n  }\n  var id = output.metadata[EXEC_MIME_TYPE][\"id\"];\n  var toinsert = output_area.element.find(\".\" + CLASS_NAME.split(' ')[0]);\n  if (id !== undefined) {\n    var nchildren = toinsert.length;\n    var html_node = toinsert[nchildren-1].children[0];\n    html_node.innerHTML = output.data[HTML_MIME_TYPE];\n    var scripts = [];\n    var nodelist = html_node.querySelectorAll(\"script\");\n    for (var i in nodelist) {\n      if (nodelist.hasOwnProperty(i)) {\n        scripts.push(nodelist[i])\n      }\n    }\n\n    scripts.forEach( function (oldScript) {\n      var newScript = document.createElement(\"script\");\n      var attrs = [];\n      var nodemap = oldScript.attributes;\n      for (var j in nodemap) {\n        if (nodemap.hasOwnProperty(j)) {\n          attrs.push(nodemap[j])\n        }\n      }\n      attrs.forEach(function(attr) { newScript.setAttribute(attr.name, attr.value) });\n      newScript.appendChild(document.createTextNode(oldScript.innerHTML));\n      oldScript.parentNode.replaceChild(newScript, oldScript);\n    });\n    if (JS_MIME_TYPE in output.data) {\n      toinsert[nchildren-1].children[1].textContent = output.data[JS_MIME_TYPE];\n    }\n    output_area._hv_plot_id = id;\n    if ((window.Bokeh !== undefined) && (id in Bokeh.index)) {\n      window.PyViz.plot_index[id] = Bokeh.index[id];\n    } else {\n      window.PyViz.plot_index[id] = null;\n    }\n  } else if (output.metadata[EXEC_MIME_TYPE][\"server_id\"] !== undefined) {\n    var bk_div = document.createElement(\"div\");\n    bk_div.innerHTML = output.data[HTML_MIME_TYPE];\n    var script_attrs = bk_div.children[0].attributes;\n    for (var i = 0; i < script_attrs.length; i++) {\n      toinsert[toinsert.length - 1].childNodes[1].setAttribute(script_attrs[i].name, script_attrs[i].value);\n    }\n    // store reference to server id on output_area\n    output_area._bokeh_server_id = output.metadata[EXEC_MIME_TYPE][\"server_id\"];\n  }\n}\n\n/**\n * Handle when an output is cleared or removed\n */\nfunction handle_clear_output(event, handle) {\n  var id = handle.cell.output_area._hv_plot_id;\n  var server_id = handle.cell.output_area._bokeh_server_id;\n  if (((id === undefined) || !(id in PyViz.plot_index)) && (server_id !== undefined)) { return; }\n  var comm = window.PyViz.comm_manager.get_client_comm(\"hv-extension-comm\", \"hv-extension-comm\", function () {});\n  if (server_id !== null) {\n    comm.send({event_type: 'server_delete', 'id': server_id});\n    return;\n  } else if (comm !== null) {\n    comm.send({event_type: 'delete', 'id': id});\n  }\n  delete PyViz.plot_index[id];\n  if ((window.Bokeh !== undefined) & (id in window.Bokeh.index)) {\n    var doc = window.Bokeh.index[id].model.document\n    doc.clear();\n    const i = window.Bokeh.documents.indexOf(doc);\n    if (i > -1) {\n      window.Bokeh.documents.splice(i, 1);\n    }\n  }\n}\n\n/**\n * Handle kernel restart event\n */\nfunction handle_kernel_cleanup(event, handle) {\n  delete PyViz.comms[\"hv-extension-comm\"];\n  window.PyViz.plot_index = {}\n}\n\n/**\n * Handle update_display_data messages\n */\nfunction handle_update_output(event, handle) {\n  handle_clear_output(event, {cell: {output_area: handle.output_area}})\n  handle_add_output(event, handle)\n}\n\nfunction register_renderer(events, OutputArea) {\n  function append_mime(data, metadata, element) {\n    // create a DOM node to render to\n    var toinsert = this.create_output_subarea(\n    metadata,\n    CLASS_NAME,\n    EXEC_MIME_TYPE\n    );\n    this.keyboard_manager.register_events(toinsert);\n    // Render to node\n    var props = {data: data, metadata: metadata[EXEC_MIME_TYPE]};\n    render(props, toinsert[0]);\n    element.append(toinsert);\n    return toinsert\n  }\n\n  events.on('output_added.OutputArea', handle_add_output);\n  events.on('output_updated.OutputArea', handle_update_output);\n  events.on('clear_output.CodeCell', handle_clear_output);\n  events.on('delete.Cell', handle_clear_output);\n  events.on('kernel_ready.Kernel', handle_kernel_cleanup);\n\n  OutputArea.prototype.register_mime_type(EXEC_MIME_TYPE, append_mime, {\n    safe: true,\n    index: 0\n  });\n}\n\nif (window.Jupyter !== undefined) {\n  try {\n    var events = require('base/js/events');\n    var OutputArea = require('notebook/js/outputarea').OutputArea;\n    if (OutputArea.prototype.mime_types().indexOf(EXEC_MIME_TYPE) == -1) {\n      register_renderer(events, OutputArea);\n    }\n  } catch(err) {\n  }\n}\n"
     },
     "metadata": {},
     "output_type": "display_data"
    },
    {
     "data": {
      "application/vnd.holoviews_exec.v0+json": "",
      "text/html": [
       "<div id='p1002'>\n",
       "  <div id=\"f287472f-68a0-4cab-8747-f6fc28a23ae6\" data-root-id=\"p1002\" style=\"display: contents;\"></div>\n",
       "</div>\n",
       "<script type=\"application/javascript\">(function(root) {\n",
       "  var docs_json = {\"186e6697-faf5-461f-81c9-2c5f6c9d4d2d\":{\"version\":\"3.5.2\",\"title\":\"Bokeh Application\",\"roots\":[{\"type\":\"object\",\"name\":\"panel.models.browser.BrowserInfo\",\"id\":\"p1002\"},{\"type\":\"object\",\"name\":\"panel.models.comm_manager.CommManager\",\"id\":\"p1003\",\"attributes\":{\"plot_id\":\"p1002\",\"comm_id\":\"b6a9d39af70044838f8850bed3272fcd\",\"client_comm_id\":\"9cf9c9263a034358b05bf9ed04a8fc48\"}}],\"defs\":[{\"type\":\"model\",\"name\":\"ReactiveHTML1\"},{\"type\":\"model\",\"name\":\"FlexBox1\",\"properties\":[{\"name\":\"align_content\",\"kind\":\"Any\",\"default\":\"flex-start\"},{\"name\":\"align_items\",\"kind\":\"Any\",\"default\":\"flex-start\"},{\"name\":\"flex_direction\",\"kind\":\"Any\",\"default\":\"row\"},{\"name\":\"flex_wrap\",\"kind\":\"Any\",\"default\":\"wrap\"},{\"name\":\"gap\",\"kind\":\"Any\",\"default\":\"\"},{\"name\":\"justify_content\",\"kind\":\"Any\",\"default\":\"flex-start\"}]},{\"type\":\"model\",\"name\":\"FloatPanel1\",\"properties\":[{\"name\":\"config\",\"kind\":\"Any\",\"default\":{\"type\":\"map\"}},{\"name\":\"contained\",\"kind\":\"Any\",\"default\":true},{\"name\":\"position\",\"kind\":\"Any\",\"default\":\"right-top\"},{\"name\":\"offsetx\",\"kind\":\"Any\",\"default\":null},{\"name\":\"offsety\",\"kind\":\"Any\",\"default\":null},{\"name\":\"theme\",\"kind\":\"Any\",\"default\":\"primary\"},{\"name\":\"status\",\"kind\":\"Any\",\"default\":\"normalized\"}]},{\"type\":\"model\",\"name\":\"GridStack1\",\"properties\":[{\"name\":\"mode\",\"kind\":\"Any\",\"default\":\"warn\"},{\"name\":\"ncols\",\"kind\":\"Any\",\"default\":null},{\"name\":\"nrows\",\"kind\":\"Any\",\"default\":null},{\"name\":\"allow_resize\",\"kind\":\"Any\",\"default\":true},{\"name\":\"allow_drag\",\"kind\":\"Any\",\"default\":true},{\"name\":\"state\",\"kind\":\"Any\",\"default\":[]}]},{\"type\":\"model\",\"name\":\"drag1\",\"properties\":[{\"name\":\"slider_width\",\"kind\":\"Any\",\"default\":5},{\"name\":\"slider_color\",\"kind\":\"Any\",\"default\":\"black\"},{\"name\":\"value\",\"kind\":\"Any\",\"default\":50}]},{\"type\":\"model\",\"name\":\"click1\",\"properties\":[{\"name\":\"terminal_output\",\"kind\":\"Any\",\"default\":\"\"},{\"name\":\"debug_name\",\"kind\":\"Any\",\"default\":\"\"},{\"name\":\"clears\",\"kind\":\"Any\",\"default\":0}]},{\"type\":\"model\",\"name\":\"FastWrapper1\",\"properties\":[{\"name\":\"object\",\"kind\":\"Any\",\"default\":null},{\"name\":\"style\",\"kind\":\"Any\",\"default\":null}]},{\"type\":\"model\",\"name\":\"NotificationAreaBase1\",\"properties\":[{\"name\":\"js_events\",\"kind\":\"Any\",\"default\":{\"type\":\"map\"}},{\"name\":\"position\",\"kind\":\"Any\",\"default\":\"bottom-right\"},{\"name\":\"_clear\",\"kind\":\"Any\",\"default\":0}]},{\"type\":\"model\",\"name\":\"NotificationArea1\",\"properties\":[{\"name\":\"js_events\",\"kind\":\"Any\",\"default\":{\"type\":\"map\"}},{\"name\":\"notifications\",\"kind\":\"Any\",\"default\":[]},{\"name\":\"position\",\"kind\":\"Any\",\"default\":\"bottom-right\"},{\"name\":\"_clear\",\"kind\":\"Any\",\"default\":0},{\"name\":\"types\",\"kind\":\"Any\",\"default\":[{\"type\":\"map\",\"entries\":[[\"type\",\"warning\"],[\"background\",\"#ffc107\"],[\"icon\",{\"type\":\"map\",\"entries\":[[\"className\",\"fas fa-exclamation-triangle\"],[\"tagName\",\"i\"],[\"color\",\"white\"]]}]]},{\"type\":\"map\",\"entries\":[[\"type\",\"info\"],[\"background\",\"#007bff\"],[\"icon\",{\"type\":\"map\",\"entries\":[[\"className\",\"fas fa-info-circle\"],[\"tagName\",\"i\"],[\"color\",\"white\"]]}]]}]}]},{\"type\":\"model\",\"name\":\"Notification\",\"properties\":[{\"name\":\"background\",\"kind\":\"Any\",\"default\":null},{\"name\":\"duration\",\"kind\":\"Any\",\"default\":3000},{\"name\":\"icon\",\"kind\":\"Any\",\"default\":null},{\"name\":\"message\",\"kind\":\"Any\",\"default\":\"\"},{\"name\":\"notification_type\",\"kind\":\"Any\",\"default\":null},{\"name\":\"_destroyed\",\"kind\":\"Any\",\"default\":false}]},{\"type\":\"model\",\"name\":\"TemplateActions1\",\"properties\":[{\"name\":\"open_modal\",\"kind\":\"Any\",\"default\":0},{\"name\":\"close_modal\",\"kind\":\"Any\",\"default\":0}]},{\"type\":\"model\",\"name\":\"BootstrapTemplateActions1\",\"properties\":[{\"name\":\"open_modal\",\"kind\":\"Any\",\"default\":0},{\"name\":\"close_modal\",\"kind\":\"Any\",\"default\":0}]},{\"type\":\"model\",\"name\":\"TemplateEditor1\",\"properties\":[{\"name\":\"layout\",\"kind\":\"Any\",\"default\":[]}]},{\"type\":\"model\",\"name\":\"MaterialTemplateActions1\",\"properties\":[{\"name\":\"open_modal\",\"kind\":\"Any\",\"default\":0},{\"name\":\"close_modal\",\"kind\":\"Any\",\"default\":0}]},{\"type\":\"model\",\"name\":\"ReactiveESM1\"},{\"type\":\"model\",\"name\":\"JSComponent1\"},{\"type\":\"model\",\"name\":\"ReactComponent1\"},{\"type\":\"model\",\"name\":\"AnyWidgetComponent1\"},{\"type\":\"model\",\"name\":\"request_value1\",\"properties\":[{\"name\":\"fill\",\"kind\":\"Any\",\"default\":\"none\"},{\"name\":\"_synced\",\"kind\":\"Any\",\"default\":null},{\"name\":\"_request_sync\",\"kind\":\"Any\",\"default\":0}]}]}};\n",
       "  var render_items = [{\"docid\":\"186e6697-faf5-461f-81c9-2c5f6c9d4d2d\",\"roots\":{\"p1002\":\"f287472f-68a0-4cab-8747-f6fc28a23ae6\"},\"root_ids\":[\"p1002\"]}];\n",
       "  var docs = Object.values(docs_json)\n",
       "  if (!docs) {\n",
       "    return\n",
       "  }\n",
       "  const py_version = docs[0].version.replace('rc', '-rc.').replace('.dev', '-dev.')\n",
       "  async function embed_document(root) {\n",
       "    var Bokeh = get_bokeh(root)\n",
       "    await Bokeh.embed.embed_items_notebook(docs_json, render_items);\n",
       "    for (const render_item of render_items) {\n",
       "      for (const root_id of render_item.root_ids) {\n",
       "\tconst id_el = document.getElementById(root_id)\n",
       "\tif (id_el.children.length && id_el.children[0].hasAttribute('data-root-id')) {\n",
       "\t  const root_el = id_el.children[0]\n",
       "\t  root_el.id = root_el.id + '-rendered'\n",
       "\t  for (const child of root_el.children) {\n",
       "            // Ensure JupyterLab does not capture keyboard shortcuts\n",
       "            // see: https://jupyterlab.readthedocs.io/en/4.1.x/extension/notebook.html#keyboard-interaction-model\n",
       "\t    child.setAttribute('data-lm-suppress-shortcuts', 'true')\n",
       "\t  }\n",
       "\t}\n",
       "      }\n",
       "    }\n",
       "  }\n",
       "  function get_bokeh(root) {\n",
       "    if (root.Bokeh === undefined) {\n",
       "      return null\n",
       "    } else if (root.Bokeh.version !== py_version) {\n",
       "      if (root.Bokeh.versions === undefined || !root.Bokeh.versions.has(py_version)) {\n",
       "\treturn null\n",
       "      }\n",
       "      return root.Bokeh.versions.get(py_version);\n",
       "    } else if (root.Bokeh.version === py_version) {\n",
       "      return root.Bokeh\n",
       "    }\n",
       "    return null\n",
       "  }\n",
       "  function is_loaded(root) {\n",
       "    var Bokeh = get_bokeh(root)\n",
       "    return (Bokeh != null && Bokeh.Panel !== undefined)\n",
       "  }\n",
       "  if (is_loaded(root)) {\n",
       "    embed_document(root);\n",
       "  } else {\n",
       "    var attempts = 0;\n",
       "    var timer = setInterval(function(root) {\n",
       "      if (is_loaded(root)) {\n",
       "        clearInterval(timer);\n",
       "        embed_document(root);\n",
       "      } else if (document.readyState == \"complete\") {\n",
       "        attempts++;\n",
       "        if (attempts > 200) {\n",
       "          clearInterval(timer);\n",
       "\t  var Bokeh = get_bokeh(root)\n",
       "\t  if (Bokeh == null || Bokeh.Panel == null) {\n",
       "            console.warn(\"Panel: ERROR: Unable to run Panel code because Bokeh or Panel library is missing\");\n",
       "\t  } else {\n",
       "\t    console.warn(\"Panel: WARNING: Attempting to render but not all required libraries could be resolved.\")\n",
       "\t    embed_document(root)\n",
       "\t  }\n",
       "        }\n",
       "      }\n",
       "    }, 25, root)\n",
       "  }\n",
       "})(window);</script>"
      ]
     },
     "metadata": {
      "application/vnd.holoviews_exec.v0+json": {
       "id": "p1002"
      }
     },
     "output_type": "display_data"
    }
   ],
   "source": [
    "from mapminer.miner import *\n",
    "import holoviews\n",
    "import panel as pn\n",
    "import hvplot.xarray\n",
    "import hvplot.pandas"
   ]
  },
  {
   "cell_type": "markdown",
   "metadata": {},
   "source": [
    "<h2 style=\"text-align: center; color: #1DB954; font-family: Arial, sans-serif;\">\n",
    "  🌐✨ Unveiling Foursquare's Open Source Places Dataset\n",
    "</h2>\n",
    "<p style=\"text-align: center; font-size: 16px; color: #555;\">\n",
    "  Discover a vast collection of over 100 million global Points of Interest (POIs) 🏙️, curated for your geospatial analysis and application development needs.\n",
    "</p>\n"
   ]
  },
  {
   "cell_type": "code",
   "execution_count": 4,
   "metadata": {
    "tags": []
   },
   "outputs": [],
   "source": [
    "miner = FourSquareMiner()"
   ]
  },
  {
   "cell_type": "code",
   "execution_count": 32,
   "metadata": {
    "tags": []
   },
   "outputs": [
    {
     "data": {
      "application/vnd.jupyter.widget-view+json": {
       "model_id": "300829d864774408bbdfc06041d3ca17",
       "version_major": 2,
       "version_minor": 0
      },
      "text/plain": [
       "FloatProgress(value=0.0, layout=Layout(width='auto'), style=ProgressStyle(bar_color='black'))"
      ]
     },
     "metadata": {},
     "output_type": "display_data"
    },
    {
     "name": "stdout",
     "output_type": "stream",
     "text": [
      "CPU times: user 4min 10s, sys: 22.2 s, total: 4min 32s\n",
      "Wall time: 3min 28s\n"
     ]
    }
   ],
   "source": [
    "%%time\n",
    "# Define the latitude and longitude of the center point\n",
    "lat, lon = 48.29739909,4.0804594\n",
    "\n",
    "# Define the radius in meters for fetching data around the center point\n",
    "radius = 1000\n",
    "\n",
    "# Fetch data using lat/lon and radius\n",
    "df = miner.fetch(lat, lon, radius)"
   ]
  },
  {
   "cell_type": "code",
   "execution_count": 33,
   "metadata": {
    "tags": []
   },
   "outputs": [
    {
     "data": {
      "text/html": [
       "<div>\n",
       "<style scoped>\n",
       "    .dataframe tbody tr th:only-of-type {\n",
       "        vertical-align: middle;\n",
       "    }\n",
       "\n",
       "    .dataframe tbody tr th {\n",
       "        vertical-align: top;\n",
       "    }\n",
       "\n",
       "    .dataframe thead th {\n",
       "        text-align: right;\n",
       "    }\n",
       "</style>\n",
       "<table border=\"1\" class=\"dataframe\">\n",
       "  <thead>\n",
       "    <tr style=\"text-align: right;\">\n",
       "      <th></th>\n",
       "      <th>fsq_place_id</th>\n",
       "      <th>name</th>\n",
       "      <th>latitude</th>\n",
       "      <th>longitude</th>\n",
       "      <th>address</th>\n",
       "      <th>locality</th>\n",
       "      <th>region</th>\n",
       "      <th>postcode</th>\n",
       "      <th>admin_region</th>\n",
       "      <th>post_town</th>\n",
       "      <th>...</th>\n",
       "      <th>website</th>\n",
       "      <th>email</th>\n",
       "      <th>facebook_id</th>\n",
       "      <th>instagram</th>\n",
       "      <th>twitter</th>\n",
       "      <th>fsq_category_ids</th>\n",
       "      <th>fsq_category_labels</th>\n",
       "      <th>dt</th>\n",
       "      <th>wkt_geometry</th>\n",
       "      <th>geometry</th>\n",
       "    </tr>\n",
       "  </thead>\n",
       "  <tbody>\n",
       "    <tr>\n",
       "      <th>0</th>\n",
       "      <td>46473aab5e2a4d00be8e0fb3</td>\n",
       "      <td>Pascal Dubost</td>\n",
       "      <td>48.293166</td>\n",
       "      <td>4.076049</td>\n",
       "      <td>48-50 boulevard du Quatorze Juillet</td>\n",
       "      <td>Troyes</td>\n",
       "      <td>Aube</td>\n",
       "      <td>10000</td>\n",
       "      <td>Champagne-Ardenne</td>\n",
       "      <td>None</td>\n",
       "      <td>...</td>\n",
       "      <td>https://dubost-troyes.notaires.fr</td>\n",
       "      <td>None</td>\n",
       "      <td>NaN</td>\n",
       "      <td>None</td>\n",
       "      <td>None</td>\n",
       "      <td>[5ae95d208a6f17002ce792b2]</td>\n",
       "      <td>[Business and Professional Services &gt; Legal Se...</td>\n",
       "      <td>2024-11-19</td>\n",
       "      <td>POINT (4.076048567105257 48.293165515616685)</td>\n",
       "      <td>POINT (4.07605 48.29317)</td>\n",
       "    </tr>\n",
       "  </tbody>\n",
       "</table>\n",
       "<p>1 rows × 26 columns</p>\n",
       "</div>"
      ],
      "text/plain": [
       "               fsq_place_id           name   latitude  longitude  \\\n",
       "0  46473aab5e2a4d00be8e0fb3  Pascal Dubost  48.293166   4.076049   \n",
       "\n",
       "                               address locality region postcode  \\\n",
       "0  48-50 boulevard du Quatorze Juillet   Troyes   Aube    10000   \n",
       "\n",
       "        admin_region post_town  ...                            website email  \\\n",
       "0  Champagne-Ardenne      None  ...  https://dubost-troyes.notaires.fr  None   \n",
       "\n",
       "  facebook_id instagram twitter            fsq_category_ids  \\\n",
       "0         NaN      None    None  [5ae95d208a6f17002ce792b2]   \n",
       "\n",
       "                                 fsq_category_labels         dt  \\\n",
       "0  [Business and Professional Services > Legal Se... 2024-11-19   \n",
       "\n",
       "                                   wkt_geometry                  geometry  \n",
       "0  POINT (4.076048567105257 48.293165515616685)  POINT (4.07605 48.29317)  \n",
       "\n",
       "[1 rows x 26 columns]"
      ]
     },
     "execution_count": 33,
     "metadata": {},
     "output_type": "execute_result"
    }
   ],
   "source": [
    "df.head(1)"
   ]
  },
  {
   "cell_type": "code",
   "execution_count": 34,
   "metadata": {
    "tags": []
   },
   "outputs": [
    {
     "data": {},
     "metadata": {},
     "output_type": "display_data"
    },
    {
     "data": {
      "application/vnd.holoviews_exec.v0+json": "",
      "text/html": [
       "<div id='p2023'>\n",
       "  <div id=\"ef9fd52b-3076-47b6-941e-38567871a6fc\" data-root-id=\"p2023\" style=\"display: contents;\"></div>\n",
       "</div>\n",
       "<script type=\"application/javascript\">(function(root) {\n",
       "  var docs_json = {\"4d1fe71d-5777-4f23-8ff6-a3bfab4a287a\":{\"version\":\"3.5.2\",\"title\":\"Bokeh Application\",\"roots\":[{\"type\":\"object\",\"name\":\"Row\",\"id\":\"p2023\",\"attributes\":{\"name\":\"Row03921\",\"tags\":[\"embedded\"],\"stylesheets\":[\"\\n:host(.pn-loading):before, .pn-loading:before {\\n  background-color: #c3c3c3;\\n  mask-size: auto calc(min(50%, 400px));\\n  -webkit-mask-size: auto calc(min(50%, 400px));\\n}\",{\"type\":\"object\",\"name\":\"ImportedStyleSheet\",\"id\":\"p2026\",\"attributes\":{\"url\":\"https://cdn.holoviz.org/panel/1.5.3/dist/css/loading.css\"}},{\"type\":\"object\",\"name\":\"ImportedStyleSheet\",\"id\":\"p2122\",\"attributes\":{\"url\":\"https://cdn.holoviz.org/panel/1.5.3/dist/css/listpanel.css\"}},{\"type\":\"object\",\"name\":\"ImportedStyleSheet\",\"id\":\"p2024\",\"attributes\":{\"url\":\"https://cdn.holoviz.org/panel/1.5.3/dist/bundled/theme/default.css\"}},{\"type\":\"object\",\"name\":\"ImportedStyleSheet\",\"id\":\"p2025\",\"attributes\":{\"url\":\"https://cdn.holoviz.org/panel/1.5.3/dist/bundled/theme/native.css\"}}],\"min_width\":1200,\"margin\":0,\"sizing_mode\":\"stretch_width\",\"align\":\"start\",\"children\":[{\"type\":\"object\",\"name\":\"Spacer\",\"id\":\"p2027\",\"attributes\":{\"name\":\"HSpacer03928\",\"stylesheets\":[\"\\n:host(.pn-loading):before, .pn-loading:before {\\n  background-color: #c3c3c3;\\n  mask-size: auto calc(min(50%, 400px));\\n  -webkit-mask-size: auto calc(min(50%, 400px));\\n}\",{\"id\":\"p2026\"},{\"id\":\"p2024\"},{\"id\":\"p2025\"}],\"margin\":0,\"sizing_mode\":\"stretch_width\",\"align\":\"start\"}},{\"type\":\"object\",\"name\":\"Figure\",\"id\":\"p2061\",\"attributes\":{\"width\":1200,\"margin\":[5,10],\"sizing_mode\":\"fixed\",\"align\":\"start\",\"x_range\":{\"type\":\"object\",\"name\":\"Range1d\",\"id\":\"p2038\",\"attributes\":{\"tags\":[[[\"Longitude\",null]],[]],\"start\":450699.3420932038,\"end\":457759.4223179078,\"reset_start\":450699.3420932038,\"reset_end\":457759.4223179078,\"min_interval\":5}},\"y_range\":{\"type\":\"object\",\"name\":\"Range1d\",\"id\":\"p2039\",\"attributes\":{\"tags\":[[[\"Latitude\",null]],{\"type\":\"map\",\"entries\":[[\"invert_yaxis\",false],[\"autorange\",false]]}],\"start\":6154692.287403176,\"end\":6158222.327515528,\"reset_start\":6154692.287403176,\"reset_end\":6158222.327515528,\"min_interval\":5}},\"x_scale\":{\"type\":\"object\",\"name\":\"LinearScale\",\"id\":\"p2071\"},\"y_scale\":{\"type\":\"object\",\"name\":\"LinearScale\",\"id\":\"p2072\"},\"title\":{\"type\":\"object\",\"name\":\"Title\",\"id\":\"p2064\",\"attributes\":{\"text\":\"FourSquare POI DataPoints on ESRI Basemap\",\"text_color\":\"black\",\"text_font_size\":\"12pt\"}},\"renderers\":[{\"type\":\"object\",\"name\":\"TileRenderer\",\"id\":\"p2102\",\"attributes\":{\"level\":\"glyph\",\"tile_source\":{\"type\":\"object\",\"name\":\"WMTSTileSource\",\"id\":\"p2098\",\"attributes\":{\"url\":\"https://server.arcgisonline.com/ArcGIS/rest/services/World_Imagery/MapServer/tile/{Z}/{Y}/{X}.jpg\",\"attribution\":\"&copy; <a href=\\\"http://downloads.esri.com/ArcGISOnline/docs/tou_summary.pdf\\\">Esri</a>, Earthstar Geographics\"}},\"alpha\":0.8}},{\"type\":\"object\",\"name\":\"GlyphRenderer\",\"id\":\"p2113\",\"attributes\":{\"data_source\":{\"type\":\"object\",\"name\":\"ColumnDataSource\",\"id\":\"p2104\",\"attributes\":{\"selected\":{\"type\":\"object\",\"name\":\"Selection\",\"id\":\"p2105\",\"attributes\":{\"indices\":[],\"line_indices\":[]}},\"selection_policy\":{\"type\":\"object\",\"name\":\"UnionRenderers\",\"id\":\"p2106\"},\"data\":{\"type\":\"map\",\"entries\":[[\"Longitude\",{\"type\":\"ndarray\",\"array\":{\"type\":\"bytes\",\"data\":\"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\"},\"shape\":[1738],\"dtype\":\"float64\",\"order\":\"little\"}],[\"Latitude\",{\"type\":\"ndarray\",\"array\":{\"type\":\"bytes\",\"data\":\"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\"},\"shape\":[1738],\"dtype\":\"float64\",\"order\":\"little\"}],[\"name\",[\"Pascal Dubost\",\"Buisson Anais Anais Buisson\",\"Supplay\",\"Audit. Du Centre De Cong. De L'aube\",\"Rota Fran\\u00e7ois\",\"Pharmacie du 14 Juillet\",\"N.G.L. Immobilier\",\"Cellier Saint Pierre\",\"R.D. Habitat\",\"Phedoroff Cyrille\",\"Interior's\",\"Photomaton\",\"La Ribambelle Joyeuse\",\"Les Passeurs de Temps\",\"Maisons du Monde\",\"Cfdp Assurances\",\"Aux Tables des Peintres\",\"Nouvelles Fronti\\u00e8res\",\"BELABBAS WAFA\",\"Bethune Christophe\",\"On The Shop Again\",\"Apart Loulou\",\"Calzedonia\",\"Taktik\",\"La Compagnie des Petits\",\"Renate Boutique\",\"Organi'Tech\",\"ALC France A l'Eau Climatisation D\\u00e9pannage\",\"Yafohi\",\"Chambre Syndicale des Propri\\u00e9taires de l'Aube\",\"Triangle Centre Establissements\",\"Eclaireurs et Eclaireuses de France\",\"G\\u00e9matic Pressing\",\"Guidez Patrick\",\"Vir\\u00e9 de cours\",\"Canal de Troyes\",\"Place de la Lib\\u00e9ration\",\"Selectour - Transgallia\",\"Duval\",\"Socotec\",\"Troyes Appartement Centre Ville\",\"Cafe du Bon Coin\",\"Espace Lolita\",\"L'Instant sur Mesure\",\"Glob'Tour\",\"We Green Produits Bio&cbd\",\"Foire de Mars Troyes 2017\",\"Le Spa By Sothys\",\"Aurel Sports\",\"Eglise St. Aventin\",\"H\\u00f4tel du cirque troyes centre historique\",\"Soci\\u00e9t\\u00e9 Pr\\u00e9voir-Vie\",\"Les Clefs de Saint Pierre\",\"ACG et Associ\\u00e9s\",\"Droux Philippe\",\"Epicerie de Saint Dizier\",\"Arriba\",\"Dos Santos Fanny\",\"L.A.D.A.P.T.\",\"L\\u2019Ivoire Star\",\"Le Montabert\",\"Poussi\\u00e8res d'Etoiles\",\"L'Odyss\\u00e9e\",\"Coeur de Troyes\",\"Helgedis\",\"Coiff'Lui\",\"Jade Invitation A la Beaut\\u00e9\",\"Cr\\u00eaperie Champenoise\",\"Monast\\u00e8re des Clarisses\",\"CARRE3\",\"Aubertin Patricia\",\"Louis Maryvonne\",\"Agence Victor Hugo\",\"Nguyen Thi-Mai\",\"A la une de Troyes\",\"Eric Marcilly Guitare\",\"L'\\u00e9toile\",\"Syndicat des Chirurgiens-Dentistes de l'Aube\",\"L'Aristo\",\"Patinoire Troyes\",\"Pharmacie Anne Roizard\",\"La malterie\",\"Boutique Isis\",\"Cr\\u00e9dit Agricole de Champagne-Bourgogne\",\"Le Grand Caf\\u00e9\",\"Neptunia\",\"Fromagerie Pouillot\",\"Union D\\u00e9partementale des Syndicats C.F.T.C de l'Aube\",\"Grodard\",\"Banque CIC Troyes Hotel de Ville\",\"La Compagnie Du C\\u00e8dre\",\"Centre Etudes Cliniques Relations Familiales C.E.C.R.E.F\",\"Mandron Bertrand Bellet Thierry Maillard Thierry\",\"Le Relais d'Alsace\",\"Creperie Chez Arnaud\",\"Optique de la Cit\\u00e9\",\"Laser Quest Troyes\",\"Formont\",\"Artisans du Monde\",\"Le Clos Saint Nizier\",\"For\\u00eats & Bois de l'Est\",\"Le Carthage\",\"7, Rue Emile Clevy\",\"H\\u00f4tel de ville de Troyes\",\"Cabinet Ophtalmologistes\",\"docteur Jean-Fran\\u00e7ois JORRY\",\"Lm Beaute\",\"Boulevard Jules Guesde\",\"Audioproth\\u00e9siste Troyes Audika\",\"Maty\",\"Langella\",\"Centre Medical Mutualiste\",\"Ombellule\",\"Chapellerie Ganterie Haclin\",\"Chez Estelle et Olivier\",\"Ace Cr\\u00e9dit - Courtier en pr\\u00eat immobilier \\u00e0 TROYES\",\"Aux Charmilles\",\"Courir\",\"Vall\\u00e9e Gauthier S.A.R.L.\",\"Br\\u00e9geaut-Dorangeon Claire\",\"Lyc\\u00e9es Techniques et Professionnels Priv\\u00e9s\",\"Pierre SAAB Architecte\",\"Albert\",\"CASDEN Banque Populaire\",\"Klein Andr\\u00e9\",\"docteur Mazhar HAMATI\",\"Le Charme F\\u00e9minin\",\"Seedelys Cbd Shop Troyes\",\"Agence BNP Paribas\",\"S2Ci\",\"Solutech Technologies\",\"Centre de Formation de la Police\",\"AXA Assurance Correia Odent\",\"Soci\\u00e9t\\u00e9 Star\",\"Aux Oiseaux de Passage\",\"Little Gallery and Com\",\"Appartement de charme au Coeur de Troyes\",\"Maison du Tourisme\",\"Tchip Coiffure Troyes\",\"Statues Next To The Canal\",\"Pulp Sandwiches\",\"Sdeda\",\"Afc Pr\\u00e9vention\",\"Nuits de Champagne\",\"Conseil D\\u00e9partemental\",\"Les Lutins\",\"Bhs France\",\"R\\u00e9sidence Champagne\",\"RELAIS DE L'AVENUE - PEUGEOT\",\"Jourdain Paul\",\"Aux Dames de France\",\"Les Matines\",\"D\\u00e9clic\",\"Conservatoire d'espaces naturels de Champagne-Ardenne\",\"Hotel Juvenal Des Ursins\",\"Maury Patrick\",\"H\\u00f4tel de pr\\u00e9fecture de l'Aube\",\"Gifi\",\"Solubat Expertise\",\"City Coif'\",\"P\\u00e9tury-Meyer Thierry\",\"Vapostore Troyes\",\"Chez Daniel\\u2019s\",\"Hotel Le Trianon\",\"Bourgogne Controle\",\"Je Console\",\"Gautier Viviane\",\"Cafe Creme\",\"Maison du Transport\",\"Show Cr\\u00eape\",\"Le 3B\",\"Cidff de l'aube\",\"La Maison du Boulanger Centre Culturel\",\"Midi O Halles\",\"Norgil\",\"Espace Nautique Auguste-Delaune\",\"Centre d'Expertise Capillaire\",\"Dupont Chantal\",\"Bio Esth\\u00e9tique\",\"Brasserie Des Halles\",\"Lux'Hair Coiffure\",\"Agence BNP Paribas\",\"Fleurtez\",\"Papaz J\",\"Beryl\",\"Bar Le Saint Remy\",\"L'Elixir\",\"Maison de l'Outil et de la Pens\\u00e9e Ouvri\\u00e8re\",\"Coiffard\",\"Conseil G\\u00e9n\\u00e9ral de l'Aube\",\"Rue de la Cit\\u00e9\",\"Le Bourgogne\",\"Soci\\u00e9t\\u00e9 M\\u00e9dicale Brossolette\",\"Deloisy Serge\",\"Cordonnerie Multiservices Saint Remy\",\"Tante Reine\",\"Perrier Bruno\",\"Cartridge World\",\"Claire's France\",\"Mus\\u00e9e de l'outil\",\"Aza\\u00e9 Romilly-Sur-Seine\",\"Clarion Collection Hotel Saint Jean Troyes\",\"D\\u00e9l\\u00e9gation Entreprises Malakoff Humanis Troyes\",\"Agathe\",\"Namaste India\",\"Lock Academy Troyes\",\"Place Des Halles\",\"Look Pub\",\"Cr\\u00e9dit Agricole de Champagne-Bourgogne\",\"Agence Webup\",\"L'Arrivage Troyes\",\"Mediatheque\",\"Mignot R\\u00e9gis\",\"La RAM\",\"Adecco Industrie Troyes\",\"Agencement et Pose Pascal Stoltz\",\"Pressing Renova\",\"Western Union\",\"Campo Jean-Luc\",\"Holdiom S.A.\",\"G\\u00e9rard Fr\\u00e9d\\u00e9ric\",\"Cordonnerie des Halles\",\"Duchateau Jean Baptiste\",\"Au Tabac d'Orient\",\"Plique Eric\",\"Blanchard Catherine\",\"L'amphi\",\"La Banque Postale\",\"Baali\",\"DRI-MO\",\"La Familia association de troubadours\",\"SCM Endocrinologie\",\"Tablapizza Troyes\",\"Au Fournot.!\",\"Place du Pr\\u00e9au\",\"Jenneret-Moreau Dominique\",\"Ordinatyc\",\"Coppelia\",\"Halal D\\u00e9lice\",\"LnB Station\",\"La Fille Du Potager\",\"Af Courtage\",\"H\\u00f4tel Arlequin Troyes\",\"Opticien G\\u00e9n\\u00e9rale d\\u2019Optique\",\"Colombus Caf\\u00e9 & Co\",\"Holding Cvf\",\"Le bistrot de l'Artot\",\"Le Quai\",\"Troyes H\\u00f4tel de Ville Bureau Postale\",\"Maroquinerie Poignant\",\"Wat\",\"A Fleur de Pot\",\"Auto Ecole de l'Europe\",\"Tcat\",\"Save Games\",\"Le Cafe Midi\",\"R.L.Services\",\"Armand Thiery\",\"45, Rue Andr\\u00e9 Beury\",\"Plurial Entreprises\",\"McCaf\\u00e9\",\"CramDroin\",\"Fortier TCAT - [7]\",\"Aid'ordi 10\",\"Hauge Habitat\",\"Auto Stradale\",\"Le Fournil d'Herve\",\"Chez Samy mais avant.\",\"Sotelec\",\"BMD DUPONT Avocat Sant\\u00e9\",\"La Maison des Etudiants\",\"EPSM Aube Psychiatrie Adultes\",\"L'Tacos\",\"Office de Tourisme de Troyes et sa R\\u00e9gion\",\"Cak't\",\"Mon Boucher\",\"Halot M\\u00e9nage\",\"Cristal\",\"C A l\",\"Laverie du Vouldy\",\"Gcsms Maison de l'Adolescence de l'Aube\",\"Galerie du Jansanet\",\"Anubis\",\"Pizzeria Giusepino\",\"Decot\",\"Le Quartier Latin\",\"Allianz\",\"Taxi Onc Trans agglom\\u00e9ration troyenne\",\"Nicolas Troyes\",\"Antiquit\\u00e9s de la Cit\\u00e9\",\"C\\u00e9dra Aube Yonne\",\"Ruelle des Chats\",\"Le Concept\",\"Harmonie Des Sens\",\"Cewe Photo\",\"Le Pot Lyonnais\",\"Basilique Saint-Urbain\",\"Henryon Gilles\",\"Midnight Club\",\"Quartier Vauluisant\",\"Ma sant\\u00e9 facile\",\"Speed Rabbit\",\"Au Palais D'Asie\",\"Cr\\u00e9dit Lyonnais\",\"L'Espace Sucr\\u00e9 Chocolat\",\"Kebab Cappadoce\",\"AXA Assurance Musset Et Viard\",\"Caf\\u00e9 du Mus\\u00e9e\",\"Le Coeur de Troyes\",\"Rodier\",\"ADMG\",\"Enfantillages\",\"Loiselet G\\u00e9rard\",\"Chocolats et Delices\",\"Caroll\",\"Flix-Gilbert Odile\",\"Sofinco\",\"Troyes Parc-Auto\",\"Saisie Informatique\",\"Papy Time Boutique\",\"La Rozelle\",\"Mission Ouvri\\u00e8re de l'Aube\",\"QG Jeunes Socialistes de l'Aube\",\"Association Aide Victimes Infractions P\\u00e9nales\",\"Maisons Babeau Seguin\",\"Marine Lunetier\",\"\\u00c9cole Kebler\",\"Le Relais Saint-Jean\",\"Caisse d'Epargne Troyes Zola\",\"Megalithes\",\"Hospice Saint Nicolas\",\"Glob Tour\",\"Minimax\",\"Le Bosphore\",\"Western Union\",\"Tran Van Loc\",\"SCM M\\u00e9dicale Montabert 2\",\"Tanneries TCAT - [2][3][4][6][8][9]\",\"Agenda Diagnostics 10\",\"Andr' Immo\",\"Maison du Boulanger \\u2014 Th\\u00e9\\u00e2tre de Champagne\",\"H\\u00f4tel Mercure Troyes Centre\",\"Sport Saint Jean\",\"Husson Jacky\",\"Romane\",\"MAISON DU CIL\",\"M'Tes Ongles\",\"Ten Sport\",\"Beurnonville TCAT - [2][6][8][33]\",\"Qualiconsult\",\"L'\\u00e9choppe de bi\\u00e8res\",\"Le Colibri\",\"Stef\",\"Place Alexandre Isra\\u00ebl\",\"Allianz Anne Baillet\",\"Monoprix\",\"Let's Eat\",\"La Civette\",\"Cabinet V\\u00e9t\\u00e9rinaire des Docteurs Quiquer\\u00e9 et Bethune\",\"Anne-Marie Genet\",\"Okinawa\",\"Auto Ecole Central\",\"Mus\\u00e9e d'art moderne\",\"Troyes Automobile Services\",\"Coll\\u00e8ge Priv\\u00e9 Marguerite Bourgeoys\",\"Rue Gambey\",\"Nouvel Habitat\",\"1520 Gallery\",\"tanneries\",\"Hypnose Aube Evolution\",\"Marcilly Elise\",\"Leriche Daphn\\u00e9\",\"Jeuxvid\\u00e9o.fr\",\"Epsilon\",\"La Gerbe d'Or\",\"Cgr Cin\\u00e9mas\",\"Dessange Kim Lan Franchis\\u00e9 ind\\u00e9pendant\",\"S\\u00e9bastien Immobilier\",\"An\\u00e9mone\",\"Cr\\u00e9dit Agricole\",\"Le Tricasse\",\"Prugnot Jean-Jacques\",\"Jean Louis David Fauche A Franchis\\u00e9 Ind\\u00e9pendant Coiffeur Troyes\",\"Centre du Controle Technique de l'Aube Auto Control\",\"Reflexologue\",\"Secours Populaire Fran\\u00e7ais\",\"Cailleret Laurence\",\"Perfect Gentleman\",\"Le Polipo\",\"Billing Primeurs\",\"Synergie\",\"Fandart G\\u00e9raldine\",\"Actua\",\"Badsi\",\"Agence d'int\\u00e9rim PROMAN Troyes\",\"La Barge\",\"T\\u00e9qui Jacques et Pointeau Olivier\",\"Caf\\u00e9 Stop Bar des Charmilles\",\"Supermarch\\u00e9 Colruyt\",\"Philippe Tapprest\",\"C.C.I. de Troyes et de l'Aube\",\"Cit\\u00e9 du Vitrail\",\"La Maison Du Savon De Marseille\",\"Graines d'Elite Clause\",\"Ecole Saint Pierre\",\"Ga l' & Vous\",\"Cr\\u00e9dit Lyonnais\",\"La Sarrazine\",\"Droguerie du March\\u00e9\",\"Le Coeur de Troyes\",\"Mon Logis Groupe Action Logement\",\"DESSANGE\",\"Opticien Alain Afflelou\",\"Sissi P\\u00e2querette\",\"PARFUMERIE NICOLE GEORGES\",\"Bijouterie Masson\",\"O Ptit Troyen\",\"Martial Arts Systems Academy\",\"Boutique Boulot\",\"Amium\",\"Les Gourmandises Du Carrousel\",\"Running 3\",\"MAITRE DU FEU 10\",\"Act'Rh Conseils\",\"La Brasserie Vosgienne\",\"Studio L\\u2019Empreinte sp\\u00e9cialiste en maquillage permanent\",\"Accord Immobilier\",\"Cin\\u00e9 City\",\"Square Paul Feller\",\"Accueil des Villes Fran\\u00e7aises Troyes\",\"Bagelstein\",\"Ambiance et Styles\",\"Annelisa\",\"L'Aquarelle\",\"APRIL MON ASSURANCE TROYES\",\"Claudel TCAT - [3][21][33]\",\"Immo Pile\",\"Zucchi Thierry\",\"M Khaled Farage Bijoux Filigrain\",\"Hua Adeline\",\"Au Bec Fin\",\"Relais du Vouldy\",\"Pharmacie des Comtes de Champagne\",\"Bowling des 3 Seine\",\"Mutualit\\u00e9 Fran\\u00e7aise de l'Aube\",\"Zenao Appart'hotel\",\"Best Western de la For\\u00eat d'Orient Rouilly-Sacey\",\"College Beurnonville\",\"Rue Linard Gonthier\",\"Bilendo Placide\",\"L'officiel\",\"Loisirs Jeux\",\"Hair Duo Coiffure\",\"La Vue pour Tous\",\"Place Mar\\u00e9chal Foch\",\"Agora Immobilier\",\"Paslida\",\"Plomberie Chauffage Troyen\",\"Cabinet Ophtalmologique du Gros Raisin\",\"Bar Tabac Le Triannon\",\"Chocolaterie Duparcq\",\"Pigier\",\"Petit Casino\",\"La Maison des Petits Pas\",\"le st nizier bar\",\"Papto\",\"RENAULT Troyes - KEOS\",\"Carrefour City\",\"Le Lapin Bleu\",\"Jan Coiffure\",\"M.V.S\",\"Cyclone\",\"Facult\\u00e9 de Droit\",\"Little Korea\",\"Cabinet Juridique Lef\\u00e8vre et V\\u00e9ron\",\"Free\",\"Jardin des Innocents\",\"Le Tablier\",\"L'Ecu d'Or\",\"Cr\\u00e9dit Mutuel\",\"Assoc Diocesaine de Troyes\",\"Bijou Brigitte\",\"Duparcq\",\"Appartement Moderne Troyes Centre\",\"Laverie by KIS WASH\",\"Damoiseau Marie-Pierre\",\"Office National de l'Eau et des Milieux Aquatiques\",\"Clair et Net\",\"Pat \\u00c0 Pain\",\"T\\u00e9moins Chocolaterie\",\"MAPA Assurances\",\"CLS\",\"Les BeRThoM\",\"philippe bulles & douceurs\",\"Chez Gus\",\"pizzeria Italia Mia\",\"Etap Hotel Troyes Centre\",\"Urban Spa Appartement Romantique Chic\",\"Equilibre & Apaisement Sophrologie\",\"San marina\",\"Au Flexi-Troyen\",\"Les Loustics\",\"Allure Coiffure\",\"Mutuelle Epargne Retraite Pr\\u00e9voyance Carac\",\"S\\u00e9curitest - Cct des charmilles\",\"Galerie Eric Dumont\",\"Ronci\\u00e8re Caroline\",\"L Apothicaire\",\"Danny Bourson\",\"France Loisirs\",\"La Mie Caline\",\"Columbus Caf\\u00e9 Troyes\",\"Tel And Com\",\"Petits Petons\",\"La Lanterne\",\"La Cl\\u00e9 De Voute\",\"Duboeuf Jacques\",\"Chez Suzette\",\"Charly le Salon\",\"Padovani Philippe\",\"La Licorne Hotel & Spa Troyes MGallery\",\"Viardin Diffusion\",\"Chauvi\\u00e8re Muriel\",\"Thibault Charlotte\",\"Chocolaterie Jacques Bockel\",\"L'augustave\",\"P\\u00e9n\\u00e9lope\",\"Chambre de Commerce et d'Industrie de Troyes et de l'Aube\",\"Lucquin B\\u00e9atrice\",\"Appart'H\\u00f4tel Sainte Trinit\\u00e9\",\"L'Ame du Temple\",\"Maison M\",\"La Souris Plate\",\"Editions Reuben\",\"Or et Metaux Precieux\",\"Soci\\u00e9t\\u00e9 Civile Professionnelle Billion Thierry Massard Martine Richard Agn\\u00e8s\",\"Le Pekin\",\"Pressing Troyes Services\",\"Galerie Cayon\",\"Caf\\u00e9 Restaurant de l'Etoile\",\"C'Tendance\",\"Coll\\u00e8ge Priv\\u00e9 Saint Pierre en l'Isle\",\"Ibis Budget\",\"Chauveau Michel\",\"Hippopotamus\",\"Bouygues\",\"Quai des Comtes de Champagne\",\"Pharmacie Morin\",\"Prince Coiffure\",\"Le Bout du Monde Editions\",\"Rue Saussier\",\"Chlo\\u00e9 Mangin\",\"SYKO\",\"dsdfds\",\"A.B International\",\"Contr\\u00f4le Technique Dionysien\",\"La Le\\u00e7on De Piano.\",\"Carrefour Express\",\"Valentino\",\"Desmuyck Yvan\",\"Nuits de Champagne\",\"La 4\\u00e9me Dimension\",\"Lyc\\u00e9e la Salle Groupe Saint Joseph\",\"Aube Transports Services\",\"Diff\\u00e9rence\",\"Legere Cyrille\",\"Appia S.A.\",\"Interim'r Sant\\u00e9\",\"Rallye Boitelle\",\"Centre de congr\\u00e8s de l'Aube\",\"Cr\\u00e9dit Lyonnais\",\"Cambie Vanderschelden Marie-Paule\",\"L'Arrivage\",\"C\\u00e9line Coiffure\",\"Mademoiselle vrac Troyes\",\"Centre Universitaire de Troyes\",\"Carac\",\"Pole Emploi Agence Locale Troyes Porte des Arts\",\"Eutech\",\"Association d'imagerie Medicale\",\"M Couture\",\"Le Trait d'Union\",\"Le Phuket\",\"Chemin de Vie\",\"Universit\\u00e9 Hotel Dieu\",\"Allyson\",\"Cash Express\",\"Poincar\\u00e9 TCAT - [2][3][4][6][7][8][9]\",\"KparK Troyes Turenne\",\"La Pivoine Troyes\",\"Tasse Et Pinceau\",\"Bouygues Telecom\",\"Vlora\",\"Collinet Michel\",\"Le Potager\",\"Bijouterie LENRUME MARECHAL Guilde des Orf\\u00e8vres\",\"Le Valentino\",\"adopt'\",\"Paparazzy\",\"Radio Campus 3\",\"Comtesse Du Barry\",\"Urbain IV\",\"Pharmacie du Bowling\",\"Plan\\u00e8te Beaut\\u00e9\",\"D\\u00e9partement de l'Aube\",\"Godot et Fils\",\"Direction D\\u00e9partementale de la Coh\\u00e9sion Sociale et de la Protection des Populations\",\"JBH\",\"Atmosphair\",\"Mini Home\",\"taxi Onc Trans\",\"Le Carrousel Des Temps Modernes\",\"C Clair Conseil & Formation pour Entreprises\",\"G\\u00e9rard Boulanger Patissier artisan\",\"Audition Conseil\",\"RCF Aube\",\"Louis Pion\",\"Technijeux Mod\\u00e9lisme 2000\",\"VIP Piercing\",\"Comptoir des Saveurs\",\"Ecole El\\u00e9mentaire Kl\\u00e9ber\",\"33 Karl\",\"Abracadabra\",\"BERGAENTZLE RENE JOSEPH\",\"WeGreen\",\"La Poste\",\"Fen\\u00eatre Lorenove Troyes - GHM\",\"L' Exocet\",\"Boucherie Traditionelle\",\"Coffeeka\",\"Restaurant Antalya\",\"Relais du Vouldy\",\"Art'Caf\\u00e9\",\"Gendarmerie Nationale\",\"Macasami\",\"Franco Italiens\",\"Bar A Manger\",\"Fiduciaire Techni Compta Finan Europe\",\"Mus\\u00e9e de la pharmacie\",\"Tabac\",\"Manhattan\",\"Trinity Beauty 3\",\"C.L.C.T. Studio des Lacs Conseils\",\"Afro 3\",\"Au fil des maux - psychoth\\u00e9rapeute - Murielle Puvilland\",\"Nature et Sant\\u00e9\",\"Dedenon Thomas\",\"Sabrina Delahaie\",\"Langevin TCAT - [2][3][4][6][7][8]\",\"Bonja Nabil\",\"Adorables Toutous\",\"Interaction\",\"Pierre & Clement cuisine & vin\",\"syster's\",\"Soeurs Notre Dame de Bon Secours\",\"MMA TROYES PREIZE\",\"H\\u00e9nin Philippe\",\"Arr\\u00eat De Gaulle [5,6]\",\"Neosyst\",\"A la Ronde\",\"G.R.I.C.-R.O Greek Romanian International Center - Relaxation Only\",\"Mail Boxes Etc. - Centre MBE 2580\",\"Etam Lingerie\",\"Les Couleurs du Mexique\",\"The Originals Residence\",\"Fab Travel Troyes\",\"Body Minute\",\"L'Escale des Saveurs\",\"Galerie Clemval\",\"CIC\",\"Bonenfant SARL\",\"Salas Christine\",\"Brasserie De La Paix\",\"DU PAREIL\\u2026 au m\\u00eame\",\"Garcia Santiago Jos\\u00e9\",\"Transgallia Membre du R\\u00e9seau Selectour\",\"Ch\\u00e9rouvrier Jean Claude\",\"Kama Soutra\",\"Sainte-Savine\",\"Institut Jade\",\"Central SPA\",\"Boyer Evelyne\",\"La Boutique Nuit\",\"Edge Coiffure\",\"Petit Dominique\",\"L'Acrobate\",\"Pizza Margherita\",\"Western Union\",\"C.A.S.I\",\"\\u00c9glise Saint-Jean-du-March\\u00e9\",\"Gan Capitalisation\",\"Betoux-Rosticher No\\u00e9mie\",\"Showcr\\u00eape\",\"R\\u00e9sidence de l'Isle\",\"Aria\",\"Regies Services\",\"Theraform\",\"restaurant la commanderie\",\"l'Outil en Main de Troyes et de son Agglom\\u00e9ration\",\"Aube Champagne Tourisme\",\"C.A.T les Antes\",\"Le Jardin Gourmand\",\"Barber Shop Troyes\",\"C . R . C Concepts et R\\u00e9alisations Champenoises\",\"Patinoire des 3 Seine\",\"Un Angolo D'Italia\",\"Ambiance Outre-Mer\",\"Ellipso\\u00efd Tattoo\",\"Clinique V\\u00e9t\\u00e9rinaire Dampierre\",\"Ddp Woman\",\"Feel 2 Night\",\"Claire & Hugo Street Food\",\"Chrysobulle\",\"Living Bar Troyes\",\"Ramucho Six\",\"Start People Troyes\",\"Aliance 1 Pour Cent Logement\",\"Am\\u00e9lie Verjat\",\"E.A.2i\",\"Urban Spa Cosy Zen\",\"Sarah Doll\\u00e9 Modiste\",\"OGEC St Pierre en l'Isle\",\"Bowl\",\"Pref'Aube Equipements\",\"Baileul Ang\\u00e9lique\",\"Am2j\",\"Dupont Philat\\u00e9lie\",\"Noon\",\"\\u00c9cole Primaire Visitation St-Pierre\",\"Chez Axelle\",\"Troyes Cv\",\"La Taverne de Ma\\u00eetre Kanter\",\"Optic 2000\",\"ACS Interim\",\"le chat noir bar\",\"Terrain De Jeux Troyes\",\"F\\u00e9d\\u00e9ration PS de l'Aube\",\"Antiquit\\u00e9s du Mus\\u00e9e\",\"New fitness\",\"Rue Raymond Poincar\\u00e9\",\"\\u00c9couter Voir Audition Mutualiste\",\"Le Shamrock\",\"Le Grenier du Trappeur\",\"La Maison du Boulanger\",\"Furious\",\"Renaudineau\",\"For\\u00eats et Bois de l'Est\",\"Cassis-G\\u00e9rard Edith\",\"Quillerou Daniel\",\"Le C\\u00e9sar\",\"Sellerie Saint Jean\",\"Au Point du Jour\",\"Estevez Cedric Pierre Edouard\",\"Anne Jaouen\",\"Le Balto\",\"Ultrasun Center\",\"Kiko Make Up Milano\",\"Willys Design D\\u00e9co\",\"Pharmacie Mutualiste de Troyes\",\"Conduite Troyenne\",\"Yoanic Coiffure\",\"Bazot Virginie\",\"Morgan\",\"Mutuelle Pr\\u00e9vadi\\u00e8s\",\"Le 3 B\",\"Transgallia\",\"Protte-Barjot Fourrures\",\"L'Antre Pates\",\"Zitoli Marie\",\"James Joyce\",\"Black Side Tattoo\",\"Josette Coiffure\",\"Square Troyes\",\"Belb\\u00e9zier Eric\",\"Delaunay\",\"Magic Form\",\"Hotel du Cirque\",\"Reboot et bien-\\u00eatre\",\"Cr\\u00eaperie La Sarrazine\",\"Ecole de Danse Lamotte\",\"Art Beauty by i.Loredana Marin\",\"Oxo Document Agency\",\"Arr\\u00eat Jacobins [7,8,9]\",\"undiz Troyes\",\"Caf\\u00e9 de la Poste\",\"Auto Ecole Jacquot\",\"Coop\\u00e9rative Herm\\u00e8s\",\"Aubinfo3\",\"Geniutt\",\"five pizza original\",\"Sayan\",\"Tr\\u00e9sorerie G\\u00e9n\\u00e9rale de l'Aube\",\"celio\",\"Armand Thiery\",\"Fnac Troyes\",\"S.E.C.C St\\u00e9 d'Expertise Comptable de Champagne\",\"Zerbib Nelly\",\"Syscom'\",\"Fontaine TCAT - [1][5][7]\",\"Librairie Religieuse\",\"Hermant Michel\",\"O' Des Lys\",\"La Pichonaille\",\"Chez Bouchra\",\"Ariva\",\"BJH Conseil\",\"Ads Info\",\"Le MILL\\u00c9SIM\\u00c9\",\"Civet Denis\",\"L'Artiste\",\"Le Living\",\"Maisons d'en France Sud Champagne\",\"Sofidex\",\"Point Vision\",\"Maison de Retraite Saint Vincent de Paul\",\"Morel Dominique\",\"Eyes Stencil\",\"Subway\",\"Soeurs Oblates Saint Fran\\u00e7ois de Sales\",\"Le Comptoir \\u00e0 Salades\",\"Bellet Thierry\",\"Fusion 2 Coiffure Barbier\",\"Chaussures Protte\",\"Florian\",\"Collection Pour Un Musee\",\"Centre d'Incendie et de Secours de TROYES\",\"Foire de Champagne\",\"Miss El\\u00e9gante\",\"A2n Expertise\",\"Wok\",\"Jardin de l'H\\u00f4tel-Dieu-le-Comte\",\"Compagnie Auboise Immobili\\u00e8re de Gestion\",\"Cr\\u00e9dit Mutuel\",\"Rue Paillot de Montabert\",\"Bougnat\",\"Bougnat Des Pouilles\",\"D\\u00e9m\\u00e9nagements Lambot\",\"Agd D\\u00e9m\\u00e9nagements\",\"Rive Gauche Caf\\u00e9\",\"Maison Retraite Soins Infirmie\",\"radioparentheses.fr\",\"Centre Universitaire d'Etudes M\\u00e9dicales\",\"Smartappart\",\"Lyc\\u00e9e Leonie Aviat\",\"Cotton Club Night\",\"Lefevre John\",\"Le Plein Centre\",\"La femme qui donne un baiser\",\"O\\u2019Propre\",\"J.P.F Trade Connection\",\"Caf\\u00e9 de l'union\",\"Cr\\u00e8ches Municipales Familiales\",\"Agami\",\"Prez3\",\"\\u00c9cole De Design\",\"Maude C.\",\"Tout Simplement\",\"La Mie Caline\",\"Le Saint Claude\",\"Chapellerie Villeneuvienne\",\"Ragazzo's\",\"Commissariat Bd du 1Er R.A.M.\",\"L'Atelier du Sourcil - Troyes\",\"SEPHORA\",\"Ecoles Maternelles\",\"touche finale\",\"dessange paris\",\"Burger Christian\",\"Rapoport St\\u00e9phane\",\"Boisset Laurent\",\"AUX SINGULIERS\",\"ibis Troyes Centre\",\"Sucr\\u00e9 Sal\\u00e9\",\"Dominique Coiffure\",\"Natur House Troyes\",\"Le Barjo\",\"Amerique Travel\",\"Bds Cabinet Comptable\",\"AXA Assurance EIRL FRANCOIS CYRIL ET STEVENS\",\"Jean Moulin / Argence TCAT - [2][3][4][5][6][9]\",\"Les Frangines\",\"March\\u00e9 des Halles\",\"Hermitchic\",\"D.S Traiteur des Halles\",\"Hamelin-Petetin Fabienne\",\"Cder\",\"L'Oiseau de la Cath\\u00e9drale\",\"Moving\",\"Jou\\u00e9club\",\"Boutique Orange - G\\u00e9n\\u00e9rale de T\\u00e9l\\u00e9phone\",\"Fidutec Europe\",\"Maison Caffet Chocolatier\",\"Billion Massard Richard Six Thibault\",\"Pause Coiffure\",\"InterPro\",\"Zolane Vintage\",\"Alt\\u00e9is Mutuelles\",\"Armand Thiery Soci\\u00e9t\\u00e9 Par Actions Simplifiee\",\"Square des Trois Godets\",\"black and white\",\"France Loisirs\",\"Maison de la Presse\",\"Action Familiale Sociale\",\"Ecole Sainte\",\"Sarl Jade\",\"Hashtaga Cbd Shop\",\"Dahdouh Fadi\",\"PIMKIE\",\"Telmo\",\"Adecco Medical\",\"Auto-Ecole Popeye\",\"L'atelier lahmacun\",\"Blanc Beige\",\"Espace Argence\",\"Deprez Elisabeth\",\"24 City\",\"Synth\\u00e8se\",\"Halle aux Velos\",\"Derrey Christine\",\"Centre De Formation La Salle\",\"Serenicar Troyes\",\"Le Jardin des Fleurs\",\"Laverie Saint Nizier\",\"Busson Anne-Sophie\",\"LA FRAN\\u00c7AISE DE L'OPTIQUE\",\"Telmo\",\"Jet Tours\",\"Appel M\\u00e9dical\",\"Meunier D.N\",\"le dix-dix\",\"Tea\",\"Fac de Droit\",\"Cabinet Docteur Samoun\",\"Vanel P\\u00eache\",\"Gabr Abouelkeir\",\"Mosqu\\u00e9e Imam Ali\",\"Grapin Jean-Luc\",\"Soeurs de la Congr\\u00e9gation Notre Dame\",\"sun event\",\"Transgallia\",\"Mauclair Jean-Louis\",\"Fran\\u00e7oise Boutique M\\u00e9tayer\",\"Randstad Troyes\",\"Le Resto Grill \\u00e0 la Plancha\",\"So Lo Secretariat Ind\\u00e9pendant\",\"Action Logement\",\"Armurerie Auboise\",\"Koboon\",\"Rga Peintures\",\"La Charrette Creole\",\"Pr\\u00eat A Partir\",\"Troyes Aube Habitat\",\"Randstad S.A.S.\",\"Rallye Six\",\"Au Chien Coquet\",\"Tabare Eric\",\"Amnesty International\",\"R\\u00e9sidence Universitaire Geoffroy-de-Villehardouin\",\"The Manathan\",\"Ganesh\",\"Chez Carmen\",\"Le Dropkick Bar\",\"Restaurant la Mar\\u00e9e\",\"Cote Photo\",\"Burton\",\"Chairman\",\"Monast\\u00e8re de la Visitation\",\"Ehpad la Providence\",\"Melagrana\",\"Parking Cath\\u00e9drale\",\"SFR\",\"Silhouette\",\"L'Oasis\",\"Kujawa Marie-Ange\",\"Jeux et Strat\\u00e9gie\",\"Boissonnet Design\",\"MMA Maillet Jean-Marie\",\"Pierre Marie-Pascale\",\"A 3 C\",\"PHILEAS CONSEILS ET D\\u00c9CORATION\",\"IDKIDS : Obaibi-Okaidi-Oxybul TROYES EMILE ZOLA\",\"Lanis_room\",\"rue de la Trinite\",\"Soci\\u00e9t\\u00e9 G\\u00e9n\\u00e9rale\",\"Ultima\",\"Helene Tomasina\",\"Une Maison Pour La Vie\",\"A l'Eph\\u00e9m\\u00e8re\",\"Patrice DELATOUR Conseil\",\"Palais du Chocolat\",\"Selectour - Glob'tour\",\"Immopr\\u00eat Troyes - courtier en pr\\u00eat immobilier\",\"Les Corbeilles de Claude\",\"Soleil de L inde\",\"Cr\\u00eaperie la blanche hermine\",\"Place Saint-Pierre\",\"Otacos\",\"Pinot\",\"Sandra\",\"Ballan Val\\u00e9rie\",\"Les Pavillons Herv\\u00e9\",\"LCL Banque et assurance\",\"Subtilcoaching\",\"New Food\",\"Contact Sant\\u00e9 Services\",\"Rincent Elisabeth\",\"Boutique Orange\",\"Muy Mucho\",\"Les Verts\",\"Soci\\u00e9t\\u00e9 Troyenne de Teinture\",\"Dixi Caf\\u00e9\",\"Optique Mangin\",\"Clinique des Ursulines - ELSAN\",\"Puces musicales de Troyes\",\"Appart du Cirque Centre Historique\",\"Arriba Las Pizzas\",\"R\\u00e9nate Chaussures\",\"Boisseau S.A.\",\"Pharmacie Benneton\",\"Ecole Maternelle Publique Arnaud\",\"Speedy\",\"Duval Marie-Gabrielle - Avocat\",\"Financiere Blival\",\"Photomaton\",\"Gainzbar\",\"St Fran\\u00e7ois De Sales\",\"Parking Lambo\",\"Christine Cottret Massage\",\"Secours Catholique\",\"Cr\\u00e9dit Agricole de Champagne-Bourgogne\",\"E et F Architect\",\"Le Charlemagne\",\"Association Administ & Develop Etudes Medicale Association Administ & Develop Etudes Medicales\",\"Union des Bois de Champagne\",\"Badey Patrick\",\"Paul\",\"TUI STORE\",\"Sakura\",\"Chez Felix\",\"Gillet\",\"Jehanne\",\"Look Voyages Transgallia  Membre du R\\u00e9seau\",\"elixir\",\"Ocs Services\",\"Gaffuri C\\u00e9cile\",\"Barrio Latino\",\"Laet's Coiffure\",\"Au Jardin Gourmand\",\"Adecco\",\"Aralia\",\"Au bon coin\",\"Passeart Espace d'art Contemporain\",\"DACIA TROYES - KEOS\",\"Allo Informatique\",\"S\\u00e9nardes\",\"Agence Partnaire Troyes\",\"Les Jardins du Th\\u00e9\\u00e2tre\",\"spataro\",\"Troyes Cathedral\",\"Paraboot\",\"Banque Europ\\u00e9enne du Cr\\u00e9dit Mutuel\",\"Quiquer\\u00e9 Alain\",\"Ikadia\",\"F\\u00e9d\\u00e9ration UMP AUBE\",\"Le Neuf-Quatre\",\"Garance\",\"Art Et Dance Academy\",\"Jennesseaux-Nonet Val\\u00e9rie\",\"Atelier OASP\",\"Phone Repair\",\"Je Pense \\u00e0 Moi\",\"Assurance Troyes Aviva\",\"Agence Stephane Plaza Immobilier\",\"L\\u00e9vrier G\\u00e9rard\",\"Cabinet Dentaire Thomas Bailly\",\"Sriz'Arts Tattoo\",\"H\\u00f4tel le Relais Saint-Jean\",\"L'illustr\\u00e9\",\"La Banque Postale\",\"Mougnou's Hotel\",\"Cocon d'internat.\",\"Chez Philippe\",\"La Chope\",\"M\\u00e9diath\\u00e8que du Grand Troyes\",\"Cr\\u00e9dit Agricole de Champagne-Bourgogne\",\"La Mutuelle des Etudiants\",\"Kinesitherapie St Maurice\",\"Bang et Olufsen\",\"Little On The Shop Again\",\"Glup's\",\"Image\",\"Le Bistrot du Palais\",\"Le Cosy\",\"Carpy Coiffeur Espace Paillard Coiffure Franchis\\u00e9 ind\\u00e9pendant\",\"Rocky Horror Picture Show\",\"Choupette le Clown\",\"La Poste\",\"Cocorico\",\"Jeune Pousse\",\"Drugstore-Gambetta\",\"Association d'Imagerie M\\u00e9dicale\",\"Meilleurtaux Troyes\",\"Promod\",\"Herard & Da Costa Architectes\",\"McDonald's\",\"Architecture Conception\",\"La Pimpini\\u00e8re\",\"Kiko\",\"Parking MDE\",\"La Galerie du Mail\",\"Western Union\",\"Floril\\u00e8ge\",\"Le Vieux Troyes\",\"\\u0421\\u0435\\u043a\\u0441\\u0443\\u0430\\u043b\\u044c\\u043d\\u044b\\u0439 \\u0421\\u0430\\u0441\\u0430\\u0439 15\",\"HEMA\",\"Passeart\",\"Srize Arts Tattoo\",\"Citypharma\",\"Arret De Bus Saussier\",\"Jacques Dessange\",\"\\u00c9glise Saint Urbain\",\"Aube de Champagne le D\\u00c9PARTEMENT\",\"La Grande Classe\",\"Sauna Eros\",\"Soci\\u00e9t\\u00e9 d' Impression et de Publicit\\u00e9\",\"Multicoach Troyes\",\"Gava Transmission\",\"Sinfin\",\"Union des Associations Familiales\",\"Lafarge\",\"Ice Skate Park\",\"Le Darwin\",\"Syndicat Ogec du Lycee St Joseph\",\"Sous-V\\u00eat-Chic\",\"Hospital Ferraille\",\"Perrier Anne-Marie\",\"Chaussures Bata\",\"Creacommunication\",\"Juste pour Elle\",\"Pascal Caffet\",\"Parking Argence\",\"Cabinet Immobilier Delsaux\",\"Restaurant de l'Alhambra\",\"Carta Informatique\",\"MATMUT\",\"Vival\",\"Bar \\u00e0 Sourcils\",\"Angelus\",\"Photo Chevallier\",\"Revivre-L'Amiti\\u00e9 Sans Alcool\",\"Combarel\",\"L'aures\",\"Le Petit Vapoteur\",\"ID Coiffure\",\"H\\u00f4tel de la Poste\",\"Cr\\u00e9dit Foncier France\",\"Direct Informatique\",\"Sem Energie\",\"Banque Populaire Alsace Lorraine Champagne\",\"Blareau Richard\",\"Coiff'l\",\"Briques et Compagnie\",\"Didec Aube Haute-Marne\",\"Association Yoga L\\u00e0\",\"Training Center Pharmacy\",\"Optique des Ursins\",\"Auto Ecole Coralie\",\"3 Consulting\",\"Fer \\u00c0 Gus\",\"La Mignardise\",\"Alerte\",\"Au Petit Charlot\",\"Sandwicherie le 15\",\"Restaurant Tablapizza Troyes\",\"Le R\\u00e9tro\",\"L'OCCITANE EN PROVENCE\",\"La Table de Fran\\u00e7ois\",\"Mutuelle G\\u00e9n\\u00e9rale des Etudiants de l'Establissements\",\"Pharmacie Bailly\",\"Direction des Routes et de l'action territoriale du D\\u00e9partement de l'Aube\",\"Sarl Domera Developpement\",\"IFAC\",\"Centre Des Congr\\u00e8s De Troyes\",\"Le Potron Minet\",\"C.R.O.U.S de Reims Champagne Ardenne\",\"FAAC AUTOMATISME D'ACCES\",\"Boutique Orange - Direct T\\u00e9l\\u00e9com\",\"Le M\\u00e9kong\",\"Chez F\\u00e9lix\",\"Allianz Florent Esprit\",\"La Soupr\\u00e9f Errante\",\"Ophtalmo Odile Brochier\",\"Le Loft\",\"Maison de Justice et du Droit\",\"Direction Departemental D'incendie Et De Secours\",\"Pressing Discount Saint Urbain\",\"G\\u00e9rard\",\"Le Royaume\",\"Les M\\u00e9galithes\",\"Soft Coiffure\",\"Sebbane Abdelmajid\",\"l'atelier des gourmandises\",\"Renault Rent Star Franchis\\u00e9 ind\\u00e9pendant\",\"Main Bazar\",\"Librairie les Passeurs de Textes\",\"TOTAL\",\"MARTINE ROUSSEL VOYAGES\",\"Bricot Dep\\u00f4t\",\"Fournil St Pierre\",\"Gap Kebab\",\"Mus\\u00e9um d'Histoire Naturelle\",\"JPR\",\"Body Minute\",\"Cama\\u00efeu\",\"Troyes Gymnique Natation\",\"Mag 2 Equipement\",\"Figiel-Fortier Sylvie\",\"Troyes\",\"H\\u00f4tel-Dieu-le-Comte\",\"Le Gotham\",\"Presbyt\\u00e8re\",\"Horizon Vert\",\"Kaffee Paulette\",\"Aux Noces d'Or\",\"C.G.I\",\"H\\u00f4tel Du Petit Louvre\",\"Equinox\",\"Adeca 10\",\"Place du March\\u00e9 au Pain\",\"ABS\",\"Le Resto\",\"L'Engrenage\",\"Le Balnot\",\"Rincent Jean-Louis\",\"Footlocker\",\"GAN PATRIMOINE : David Flipo\",\"Leader Price\",\"LMDE\",\"Domino's Pizza Troyes\",\"Empruntis l'agence TROYES courtier en cr\\u00e9dit immobilier\",\"French Coffee Shop\",\"Thoumyre-Le Guen Fabienne\",\"Cr\\u00eaperie La Tourelle\",\"Appart Troyes\",\"Maxime\",\"Bouchon de Champagne\",\"ibis Styles Troyes Centre\",\"Galerie d'art Carr\\u00e9 d'artistes Troyes\",\"Aromes Et Gourmandises\",\"Degouy Philippe\",\"L'aube Des D\\u00e9lices\",\"Le Grill Saint-Jean\",\"La Vie Claire\",\"Minelli\",\"Tabis\",\"Jules\",\"Freecom Freecom'Sarl\",\"Andr'immo\",\"Cour d'Appel de Reims\",\"All Seasons Troyes Centre\",\"Yves Rocher\",\"Le Moulin de Pierre\",\"Cynthia\",\"Centre So'Ham\",\"Le Fournil d'Isaline\",\"V.R Alimentation Exotique\",\"Le Paillot\",\"Le Vinotier\",\"Poussi\\u00e8res d'\\u00e9toiles Bijoux\",\"Origin'Halle\",\"Crit Int\\u00e9rim\",\"Mission Locale Pour la Jeunesse\",\"O'p'tit Gourmet\",\"Octave\",\"Clivot Fr\\u00e9d\\u00e9ric\",\"Maison du cano\\u00eb\",\"Banque Kolb\",\"La Piazza\",\"Financi\\u00e8re Tuffery S.A.R.L.\",\"C.R.S 35\",\"France Immo\",\"DEVRED 1902\",\"Velo & Oxygen Troyes\",\"Le Chat de la Cath\\u00e9drale\",\"appart'hotel\",\"Eovi Mcd mutuelle\",\"Borne d'impression photo Speedlab\",\"Centre Contr\\u00f4le Technique des Charmilles\",\"Neut S.A.\",\"Millelly's Boutique\",\"Edito Coiffeur\",\"Guenot S\\u00e9duction\",\"Rougier & Pl\\u00e9\",\"Vb Boutique\",\"\\u00c0 Faire\",\"C.L.C.T.\",\"Trinite Beaute\",\"MACIF Assurances\",\"Le Libanais\",\"Trattoria\",\"LIP Int\\u00e9rim Troyes\",\"Troyes\",\"Brin de D\\u00e9co\",\"Alexandre Coiffure\",\"Comptoir De Mathilde\",\"Asahi\",\"Point Vue Opticiens\",\"Maison de retraite ORPEA\",\"Mine de Rien\",\"Western Union\",\"Exploit Chemiserie Jean Pierre\",\"Les Doigts Baladeuses\",\"Abithea Troyes\",\"Agence web Marketing digital Tourak corporation\",\"Dixi\",\"Mae\",\"Colruyt\",\"Eva Voyages\",\"Vidya Patrimoine\",\"Institut Universitaire Des Metiers Et Du Patrimoine\",\"Boutique Sud express - Troyes\",\"L'Essentiel\",\"Champenoise des Services\",\"Cosson Sylvie\",\"Traiteur d'Ailleurs\",\"T2 Bouchon de Champagne\",\"Berg\\u00e8re de France\",\"Jean Louis David Diffusion\",\"Ch\\u00e9rouvrier\",\"Le Moine Gourmand\",\"Assage\",\"France Cars\",\"C.R.2.I\",\"Parti Socialiste\",\"Mix cit\\u00e9\",\"S.O.C.O.T.E.C\",\"P\\u00e9diatre Dr Quevreu\",\"Les Cieux de la Cath\\u00e9drale\",\"Galerie Chloe Van Dongen\",\"Eaagency\",\"Don't Call Me Jennyfer\",\"Joris Aubert\",\"La Pause\",\"Mus\\u00e9es de Troyes\",\"Immobiliere Euro Fonciere\",\"Jugnot G\\u00e9rard\",\"Tratoria\",\"Mon Droguiste\",\"Progressive Insurance\",\"orane bernard\",\"Centre Municipal d'Action Sociale\",\"1 Rue Begand Troyes\",\"Pharmacie de Beurnonville\",\"La Rose des Sables\",\"Tcat Place Des Halles\",\"Sushi Shop\",\"Le Midway\",\"Place Vernier\",\"Sonance Audition Troyes\",\"Allianz Philippe Patrois\",\"R\\u00e9sidence Sainte-Bernadette\",\"FNATH\",\"marie laure\",\"La Marmite Cr\\u00e9ole\",\"Maison de Vins Edouard Joseph Rigot\",\"Centre Culturel Marguerite Bourgeoys\",\"Hentinger Loic\",\"Rue Champeaux\",\"Gite du Beffroy\",\"Chocolatier Jean-Philippe Charpot\",\"Caumont Herv\\u00e9\",\"Musee St Loup\",\"Cabinet Dentaire Montabert\",\"\\u00c9couter Voir Optique Mutualiste\",\"Lacoste Christelle\",\"R\\u00e9volution'Hair\",\"Accompagnement Conseil et Strat\\u00e9gie\",\"MARIONNAUD\",\"Antiquit\\u00e9s Cola Loic\",\"Cano\\u00eb\",\"Centre d'Accueil Baltet\",\"Depan' Micro\",\"Allo Pizza\",\"l'alsace restaurant\",\"Aza\\u00e9 Troyes - Aide \\u00e0 domicile et femme de m\\u00e9nage\",\"SamSam Caf\\u00e9\",\"Troyes\",\"Biesemans Benoit\",\"Amplifon Audioproth\\u00e9siste Troyes\",\"Heldenbergh Franck\",\"Mercier Philippe\",\"Departement de l'Aube\",\"Hesl Ingrid Emilienne\",\"Comit\\u00e9 D\\u00e9partemental du Tourisme de l'Aube en Champagne\",\"Grain de Malice\",\"Photomaton\",\"Hippopotamus\",\"Amandry Patrick\",\"Anne Boutique\",\"Jmv Coiffure\",\"Keslick Fran\\u00e7oise\",\"Myriam Sangnier Fleuriste\",\"Tr\\u00e9sorerie de Troyes Municipale\",\"In&Fi cr\\u00e9dits\",\"Parking Michel Laclos\",\"D\\u00e9pann'gaz\",\"LIP Industrie & B\\u00e2timent Troyes\",\"Restaurant Universitaire\",\"Jeff de Bruges\",\"Paillard Francis\",\"\\u00c9glise Saint-R\\u00e9mi\",\"O'Gourmand\",\"Les Caillotins\",\"Grenadine\",\"AXA Assurance Pierre Bulete\",\"La Kasbah\",\"Calipage\",\"Parking Aristide Briand\",\"Comit\\u00e9 D\\u00e9partemental de Tourisme de l'Aube\",\"Plaza Lounge\",\"Mus\\u00e9e d'Art Moderne\",\"Speed Rabbit Pizza\",\"Espace Glamour\",\"La Cabane de l'Ecailler\",\"Troyes Habitat\",\"Le Saint Urbain\",\"Coworking - Wojo Spot - ibis Styles Troyes Centre\",\"Choose\",\"Haba\",\"Adia\",\"L'Atelier du Cadeau\",\"Association Jeune Champagne\",\"Mahnouf Myriam\",\"Bruneau Jean-Yves\",\"Virtuel Center\",\"Tchip\",\"Tartines et Bulles\",\"Lycee Camille Claudel\",\"Kiabi\",\"Ecoles Maternelles\",\"Opticien Krys\",\"\\u00c9glise Saint-Nizier\",\"Cottage\",\"Le Champo\",\"MG Rotisserie\",\"Brasserie des Vosges\",\"Mutuelle De Poitiers Elisabeth Moreau Agent G\\u00e9n\\u00e9ral d'Assurance Exclusif\",\"Watteau\",\"VivaSon\",\"l\\u2019angelot\",\"Jettel\",\"Girard Emmanuelle\",\"Profil Conseils Expertise Comptable\",\"Bar le Saint R\\u00e9my\",\"Eric Fernandes\",\"Ev\\u00each\\u00e9\",\"A.G.G.M\",\"Cabinet Catherine FELIX\",\"Foot Locker\",\"Optique Turenne\",\"SND\",\"Centre Laser Beaut\\u00e9 Troyes\",\"La Table De Francois\",\"Halle TCAT - [1][1A][2][3][4][5][6][7][8][9]\",\"Cr\\u00e9dit Agricole\",\"Malkoun G\\u00e9rald\",\"A Et B Conseil Immobilier\",\"Jaillant Venon\",\"Carrefour Express\",\"Ranssen\",\"Invest\",\"G\\u00eete les Cordeliers\",\"Les Cabaretiers\",\"Le Chalet\",\"Le Bar D'en Face\",\"Cabinet de radiologie \\\"les urselines\\\"\",\"H&M\",\"Kickers\",\"Numero 6\",\"Auto-\\u00e9cole Saint Jacques\",\"Garage Renault\",\"Shop In\",\"Colombelle N. Mahnouf M. Dos Santos F.\",\"Les Arcades\",\"Direction des Services Departementaux de l'Education Nationale\",\"La Chapelle Saint Luc\",\"R\\u00e8sidence la grande courtine\",\"C\\u00e9line Rouilly\",\"Caig\",\"Soeurs de la Providence\",\"Pompon et Basilic\",\"Centre de Formation de la Pharmacie\",\"Lady A Coiffure\",\"Xanaka\",\"Saveur d'Asie\",\"La Taverne\",\"Beauty Success\",\"Maison Des Syndicats\",\"Gar\\u00e7on Fran\\u00e7ais\",\"Aube immobilier\",\"Le Victoria\",\"H\\u00f4tel du Lion noir\",\"Bambouseraie des pandas\",\"A.G.P.L.A\",\"Discotheque l'amphy\",\"Smok & Co Eolios\",\"Paynat Michel\",\"Quevreux Sylvie\",\"L'Envie du Jour\",\"Kiwi Bar\",\"Roux Laurence\",\"LORENOVE Troyes Ghm PVC\",\"Captain Repair Troyes - R\\u00e9paration Smartphones & Tablettes\",\"D\\u00e9cibel 35\",\"Union Locale CGT Troyes\",\"Universite de Reims Champagne-Ardenne Antenne Ufr Droit Sciences Politiques\",\"The Loop\",\"Monsallier Fran\\u00e7oise\",\"Le Bistroquet\",\"Inter Conseil\",\"Pharmacie Fernandes\",\"A.P.E.I. de l'Aube Accueil Familial-Suivi Social Adultes\",\"\\u00c9couter Voir Audition Mutualiste\",\"Comptoir de Th\\u00e9\",\"Lucquin Pascale\",\"Antalya\",\"Agence routi\\u00e8re du D\\u00e9partement\",\"Supplay Industrie Tertiare\",\"La Romana\",\"Saveurs et F\\u00e9licit\\u00e9\",\"Bhv\",\"Le Champ des Oiseaux\",\"Mulgi Food\",\"Chez Yemma\",\"L'entracte\",\"Poinsignon Eric\",\"Studio Juliette\",\"Billion Thierry\",\"Intermarch\\u00e9 SUPER Troyes\",\"La Bodega\",\"G\\u00e9rard Jean-Pierre\",\"Ivoirine\",\"Norgil\",\"Bel Appartement Coeur de Ville\",\"Musique Plus\",\"Degouy Couvreurs\",\"La Perliere Creation\",\"Coll\\u00e8ge les Jacobins\",\"Perron-Bonnefoy Mich\\u00e8le\",\"Photocit\\u00e9\",\"New Baby\",\"Club Med Voyages\",\"Agence d'Architecture 2A\",\"Le Pavillon de Champagne\",\"CMAS Troyes\",\"Le Vieux Crouton\",\"Cabinet Robert Thierry et Associ\\u00e9s\",\"Le Camion Gourmet\",\"Roussel Jeanne\",\"Coeur Glace\",\"Xerox Oxodoc\",\"ESAA\",\"L\\u00e9vy Claude\",\"XXL\",\"Mail Des Charmilles\",\"Pharmacie Layrisse Catherine Creney-pr\\u00e8s-Troyes\",\"L'Arquebuse\",\"Xplicit Store\",\"Auto Ecole Allyson\",\"Cath\\u00e9drale Saint-Pierre-et-Saint-Paul\",\"La Taverne de l'Ours\",\"SPV\",\"Bazin Anne\",\"Spa NUXE Troyes\",\"Jean-Louis David \\u2013 Just A Cut\",\"Electric Charging Station\",\"Place Saint-R\\u00e9my\",\"18B\",\"Piscine des Vouldy\",\"Troyes Parc-Auto\",\"Couples et Familles\",\"Banque Kolb\",\"Chez Sari\",\"Domaliance Champagne Ardennes - Aide \\u00e0 domicile et femme de m\\u00e9nage\",\"Bijouterie Coiffard-Loubatier\",\"Arr\\u00eat Foch TCAT - [2, 3, 4, 6]\",\"Boulangerie Pandolfi\",\"Gava Sophie, Ecrivain Public\",\"Optimum Groupes Voyages\",\"Cit\\u00e9 Dahomey\",\"Tourak Corporation\",\"Pompiers\",\"Lire et Ecrire\",\"Ecole de danse Javelle Emmanuel\",\"Best Western De La Poste\",\"Laboratoire Dentaire Champenois\",\"Coccinelle\",\"Thieblemont Brigitte\",\"Poste de Police Municipale\",\"L\\u00e9vy Armand\",\"L'auberge de la Poste\",\"Maison Fenek\",\"Apothicairerie de l'h\\u00f4tel Dieu-le-Comte\",\"Notre Dame en l'Isle\",\"Sauvegarde et Avenir de Troyes\",\"La Tourelle\",\"Cnidff\",\"L'echoppe De Bi\\u00e8re\",\"Stade Troyen\",\"La Bonne Maison\",\"Le Cotton Bar\",\"Cap Decouverte Sud Cameroun\",\"Laverie R\\u00e9volution\",\"Soci\\u00e9t\\u00e9 des Eaux de l'Agglom\\u00e9ration Troyenne\",\"Idea3 Junior Entreprise\",\"Le Petit Tandem\",\"Le Salsa Caf\\u00e9\",\"Day By Day (Mon epicerie en vrac)\",\"Boucherie Orientale\",\"Le Rouge Et Noir\",\"Chavanne Jean-Claude\",\"Dolce Italia\",\"O.N.F\",\"Fen\\u00eatre sur Cour\",\"Chanson Contemporaine\",\"Cabourdin Beauquin\",\"Taverne Karlsbrau\",\"Maison de la Famille\",\"Barci Barla\",\"G.T.E. Geie\",\"Siaba\",\"Cicas\",\"Harmonie Mutuelle\",\"YACK-CONCEPTION\",\"Instant d'Exception\",\"Urban'styl\",\"Le bon vivent\",\"Cosa Nostra Shop\",\"Du Pareil au Meme Dpam Rayon Enfants\",\"Encre Moderne\",\"Tourisme et Loisirs\",\"Pont sur Seine\",\"Paris Pressing\",\"Association Sociale Sanitaire Gestion Ehpad Saint Vincent de Paul\",\"Bijouterie Schall\",\"Fermetures Concept\",\"Caf\\u00e9 LeFoy\",\"Argyrios STAMOU\",\"Aube Placards\",\"L'H\\u00f4tel de Marisy\",\"Quai 39\",\"Lazeo\",\"Guy de Beyrac S.A.\",\"Business-Data-Bews.com\",\"CAROLINE Coiffure\",\"Dethune Marie Joseph\",\"OPAC de l'Aube\",\"Fac&Spera by Michel Chapoutier\",\"Sextant\",\"DPAM\",\"L'Occitane\",\"Pharmacie Saint Jean\",\"Activ'Assurances\",\"Jouin Traiteur\",\"Contact H\\u00f4tel Services\",\"Secc\",\"Restaurants les Gourmets\",\"MSI\",\"Bleu Persan\",\"Parzy-Betriou Anne\",\"Maison Du Dauphin\",\"Cache Cache\",\"La Fontaine Argence\",\"Gauffre Benoit\",\"Pascal Caffet\",\"Cr\\u00e9dit Immobilier de France\",\"Tentation Chocolat\",\"Tandji Tresse\",\"Gl Outillage\",\"Devred\",\"5 Club\",\"Le Meltdown Troyes\",\"Fidal\",\"Cottage-Champagne\",\"\\u00c9glise R\\u00e9form\\u00e9e de Troyes\",\"M\\u00e9tropolitain\",\"Parashop\",\"B&B H\\u00f4tel\",\"Haltes Garderies\",\"Murielle Puvilland - Au fil des Maux\",\"Swisslife Li\\u00e9geon S\\u00e9bastien Agent G\\u00e9n\\u00e9ral\",\"La Maison De Rhodes Hotel Troyes\",\"Champagne Ardennes\",\"Institut Le Temple d\\u2019\\u00c9ph\\u00e9lide\",\"Expert B\\u00e2timent RIVET\",\"Chatman\",\"Just 'immo-agence Immobili\\u00e8re Troyes\",\"Le Nombre d'Or\",\"Cr\\u00e9dit Social des Fonctionnaires\",\"All Music Hall\",\"Games and Strategy\",\"LA BOUCHERIE MODERNE SARL\",\"Factory Design Lighting\",\"Parfumerie de la Place\",\"Version Coiffure\",\"Centre De Formation la Salle\",\"Chicken Wood\",\"Salon Gaia\",\"VIPiercing\",\"D\\u00e9m\\u00e9nagements Michel et Alex Martin\",\"Fjords France\",\"H\\u00f4tel Argence Troyes\",\"Photomaton\",\"Cabinet medical des Charmille\",\"Pizzeria St. Jean\",\"L'Univers Informatique\",\"Rendez-Vous des Maraichers\",\"Kamikaze Noon\",\"Ys\\u00e9al Coiffure\",\"E.C.A. Conseil\",\"Etamine Encadrement\",\"Planet' Pizzas\",\"Parking Langevin\",\"AXA Assurance Musset Et Viard\",\"Pandora\",\"Gueler Immobilier\",\"Parking les Halles\",\"L'Arlequin\",\"Nguyen Anthony\",\"Le Montana\",\"Le Ranch\",\"Equivalenza Troyes\",\"Hamelin Franck\",\"L'Union Champeaux\",\"2 la Balle\",\"Electric Charging Station\",\"La Carterie\",\"Rosaparks\"]],[\"address\",{\"type\":\"ndarray\",\"array\":[\"48-50 boulevard du Quatorze Juillet\",\"18 rue Paillot de Montabert\",\"27 boulevard du Quatorze Juillet\",null,\"48 Mail des Charmilles\",\"53, boulevard 14 Juillet\",\"18 quai de Dampierre\",\"1 Place Saint-Pierre\",\"33 rue Claude Huez\",\"48 rue Kl\\u00e9ber\",\"28/30 rue Emile Zola\",\"Place de la Lib\\u00e9ration\",null,null,\"Boulevard Du 14 Juillet\",\"17 rue Eug\\u00e8ne Belgrand\",\"23 rue des Quinze Vingts\",\"70 rue du G\\u00e9n\\u00e9ral de Gaulle\",\"24 rue de Borgogne\",\"20 quai de Dampierre\",\"47 rue Georges Clemenceau\",null,\"100/102 RUE EMILE ZOLA\",\"4 rue Charles Thibault\",\"33 rue Emile Zola\",\"27 Rue Urbain IV\",\"12 boulevard Danton\",\"1 rue Vauluisant\",\"40 boulevard Jules Guesde\",\"20 rue G\\\\u00e9n\\\\u00e9ral de Gaulle\",\"55 rue du G\\u00e9n\\u00e9ral de Gaulle\",\"11 rue de la Planche Cl\\u00e9ment\",\"57 rue Andr\\\\u00e9 Beury\",\"28 boulevard 14 Juillet BP 730\",null,null,\"Place de la Lib\\u00e9ration\",\"20 rue De La R\\u00e9publique\",\"53 boulevard 14 Juillet\",\"59 rue Raymond Poincar\\\\u00e9\",\"44 rue Kleber\",\"81 rue Raymond Poincar\\u00e9\",\"13 rue Emile Zola\",\"17 rue Pithou\",\"17 boulevard 14 Juillet BP 271\",\"40 rue G\\u00e9n\\u00e9ral Saussier\",\"Esplanade du Parc des Expositions boulevard Charles Delestrain\",null,\"40 boulevard Jules Guesde\",null,\"5 bis de preize\",\"65 rue Andr\\u00e9 Beury BP 97\",\"89 rue de la Cit\\u00e9\",\"7 boulevard 1er rue A M\",\"13 avenue Pierre Brossolette\",\"8 rue Kl\\u00e9ber\",\"4 chemin de la Tortue\",\"14 rue Jean Louis Delaporte\",\"20 all\\u00e9e Gaspard\",\"14 rue Pithou\",\"37 rue Paillot de Montabert\",\"5 rue de la R\\u00e9publique\",\"19 Place Alexandre Isra\\u00ebl\",\"Quai de Dampierre\",\"13 rue des Bas Tr\\u00e9vois\",\"6 rue Kl\\u00e9ber\",\"15 rue Kl\\u00e9ber\",\"1-9 rue Champeaux\",\"26 rue Mitantier\",\"4 Rue Aristide Briand\",\"18 Rue Paillot de Montabert\",\"13 rue Pithou\",\"38 rue Emile Zola\",\"1 place Vernier\",\"42 Rue Champeaux\",\"60 Rue du G\\u00e9n\\u00e9ral Saussier\",\"Rue pithou\",\"31 rue Claude Huez\",\"39 rue Paillot de Montabert\",\"boulevard du G\\u00e9n\\u00e9ral Charles Delestraint\",\"30 Mail des Charmilles\",\"Rue de la mol\\u00e9\",\"68 rue Urbain IV\",\"2 rue Emile Zola\",\"4 rue Champeaux\",\"72 rue du R\\u00e9v\\u00e9rant P\\u00e8re Lafra\",\"les halles de l'H\\u00f4tel de Ville\",\"7 place Audiffred\",\"42 rue Urbain IV\",\"7 PLACE MARECHAL FOCH\",\"31 Rue Mol\\u00e9\",\"14 All\\u00e9e du Joli Saut\",\"15 quai la Fontaine\",\"2 rue Champeaux\",\"52-56 rue Emile Zola\",\"18 rue de la Cit\\u00e9\",\"18 rue du chapitre\",\"1 place Saint Pierre\",\"17 rue du G\\u00e9n\\u00e9ral Saussier\",\"17 rue Kl\\u00e9ber\",\"4 rue de Gournay BP 605\",\"14 rue Georges Clemenceau\",null,\"Place Alexandre Isra\\u00ebl\",null,\"7 Bld du Premier Ram\",\"36 rue Georges Clemenceau\",null,\"21 Avenue Pierre Brossolette\",\"121 rue Emile Zola\",\"15 rue Pithou\",\"Rue Emile Zola\",\"18 rue de Turenne\",\"57 rue Emile Zola\",\"32 rue de Turenne\",\"35 rue Louis Mony\",\"32 Mail des Charmilles\",\"91 rue Emile Zola\",\"18 rue du Chapitre\",\"45 boulevard du Quatorze Juillet\",\"21 rue du Clo\\u00eetre Saint-Etienne\",\"5 bis rue Charlemagne\",null,\"7 place Langevin\",\"45 rue de Turenne\",\"39 boulevard du Quatorze Juillet\",\"36 rue Georges Clemenceau\",\"92 rue G\\u00e9n\\u00e9ral de Gaulle\",\"58 Rue Emile Zola\",\"35 rue des Bas-Trevois BP 104\",\"31 rue Andr\\\\u00e9 Beury\",\"1 rue Jean Nesmy\",\"14 Place Jean de Mauroy\",\"15 boulevard Danton\",\"24 mail des Charmilles\",\"22 rue Georges Clemenceau\",\"1 place Audiffred\",\"16 Rue Aristide Briand\",\"56, rue Emile Zola\",null,\"74 rue Urbain IV\",\"22 rue Gregoire Pierre Herluison Cite Adm des Vassaules\",\"7 Boulevard Du 1er Ram\",\"42 rue Paillot de Montabert\",\"2 rue Pierre Labonde\",\"6 rue de la R\\u00e9publique\",\"11 rue du Chevalier au Lion\",\"28 rue Louis Ulbach\",\"83 AV PIERRE BROSSOLETTE\",\"12 rue Mitantier\",\"15 rue Pithou\",null,\"20 rue Louis Ulbach\",\"33 boulevard Jules Guesde\",\"Rue Champeaux\",\"28 rue du G\\u00e9n\\u00e9ral de Gaulle\",\"5 Rue Pierre Labonde\",\"53 boulevard 14 Juillet\",\"16 rue de l'Ancien Stade\",\"5 rue de la R\\u00e9publique\",\"28 Bis boulevard Jules Guesde\",\"15 rue \\u00c9mile Zola\",\"37, rue Mol\\u00e9\",\"2, Rue Pithou\",\"13 rue Passerat\",\"60 rue Emile Zola\",\"4 avenue Pierre Brossolette\",null,\"6 quai de Dampierre\",\"1 rue des Bas Tr\\u00e9vois\",null,\"14 rue Jean-Louis Delaporte\",\"20 Bis boulevard Gambetta\",\"place Saint R\\u00e9my\",\"3 boulevard 14 Juillet\",\"9 rue Anselme\",\"26 avenue Pierre Brossolette\",\"98 rue du G\\u00e9n\\u00e9ral de Gaulle\",\"17 Place Jean de Mauroy\",\"1 rue Pithou\",\"69 rue Andr\\u00e9 Beury\",\"53 Rue Du General De Gaulle\",\"26 rue Georges Clemenceau\",\"11 rue de la R\\u00e9publique\",\"65 rue Emile Zola\",\"3 Place Saint-R\\u00e9my\",\"27 rue raymond pointcarre\",\"7 rue de la Trinit\\u00e9\",\"4 rue Raymond Poincar\\u00e9\",\"2 rue Pierre Labonde BP 394\",null,\"40 rue du G\\u00e9n\\u00e9ral de Gaulle\",\"15 rue Eug\\u00e8ne Belgrand\",\"31 rue Claude Huez\",\"10 rue Pithou\",\"18 rue Champeaux\",\"18 rue Paillot de Montabert\",\"11 rue du G\\u00e9n\\u00e9ral de Gaulle\",\"94 rue Emile Zola\",null,\"10 rue G\\u00e9n\\u00e9ral de Gaulle, Grand Est\",\"51 Rue Paillot De Montabert\",\"6 Rue du Pont Royal\",\"69 rue Urbain IV\",\"Rue Urbain IV\",\"5 rue Viardin\",null,\"14 rue des Bas Tr\\u00e9vois, Centre-Ville\",\"28-30 rue Turenne\",\"8 rue Raymond Poincar\\u00e9\",\"6 rue Larivey\",null,\"halles H\\u00f4tel de Ville\",\"127 rue Emile Zola\",\"2 rue de la R\\u00e9publique\",\"20 rue de l'Eau Benite\",\"33 boulevard du 14-Juillet\",\"63 rue Kleber\",\"22 rue Louis Ulbach\",\"1 rue Armand Poron\",\"53 rue Louis Ulbach\",\"halles H\\u00f4tel de Ville\",\"25 Bis rue Hennequin\",\"1 rue Georges Clemenceau\",\"33 rue Urbain IV\",\"Hles Hotel de Ville halles H\\u00f4tel de Ville\",null,\"14 rue de la R\\u00e9publique\",\"1 rue Urbain IV\",\"39 rue Louis Mony\",\"19 Rue Paillot De Montabert\",\"18 rue Paillot de Montabert\",\"3 rue Raymond Poincar\\u00e9\",null,\"Place du Pr\\u00e9au\",\"21 rue Jules Lebocey\",\"40 boulevard Jules Guesde\",\"3 place Audiffred\",\"40 boulevard Jules Guesde\",\"41 rue Urbain IV\",\"82 rue urbain IV\",\"4 rue Charles Thibault\",\"50 Rue Turenne\",\"125 Rue Emile Zola\",\"25 rue Raymond Poincarr\\u00e9\",\"5 rue Nicolas Siret\",\"52 rue du G\\u00e9n\\u00e9ral Saussier\",null,\"14 rue de la R\\u00e9publique\",\"13 rue Aristide Briand et 015\",\"35 rue Champeaux\",\"33 rue du G\\u00e9n\\u00e9ral de Gaulle\",\"9 rd-pt Europe\",\"16 rue de la R\\u00e9publique\",\"67 rue de Turenne\",\"2 avenue Chomedey de Maisonneuve\",\"2 rue du G\\u00e9n\\u00e9ral de Gaulle\",\"117 rue Emile Zola\",null,\"8 rue de la R\\u00e9publique\",null,null,null,\"101 bis rue de la Cit\\u00e9\",\"14 rue Bas Tr\\u00e9vois\",\"7 rue de la Cite\",\"8 place Mar\\u00e9chal Foch\",null,\"6 rue Simart\",\"4 Rue Aristide Briand\",\"6 Rue de la Petite Courtine\",\"44 avenue Pierre Brossolette\",\"29 Rue Raymond Poincar\\u00e9\",\"rue Mignard\",\"1 Rue Vauluisant\",\"halles de l'H\\u00f4tel de Ville\",\"4 rue Pithou\",\"Rue Pithou\",\"1 rue Salomon Rachi\",\"20 Chauss\\u00e9e du Vouldy\",\"5 rue du Gros Raisin\",\"45 rue de la Cit\\u00e9\",\"7 place Audiffred\",\"26 r Paillot de Montabert\",\"56 Mail des Charmilles\",null,\"15 boulevard du Quatorze Juillet\",\"31 rue Andr\\u00e9 Beury\",\"54 Rue Georges Clemenceau\",\"51 Rue de la Cit\\u00e9\",\"4 rue des Bas Trevois\",\"Ruelle des Chats\",\"34 rue Champeaux\",\"20 Rue de Preize\",\"28 rue Champeaux\",\"13 avenue Pierre Brossolette\",\"Place Vernier\",\"17 rue Raymond Poincar\\u00e9\",\"46 rue Charles Gros\",null,\"40 boulevard Du 14 Juillet\",null,\"1 boulevard 1Er rue avenue M\",\"55 avenue du Premier Mai\",\"cours de l'H\\u00f4tel de Ville\",null,\"71 RUE ANDRE BEURY\",\"59 rue de la Cite\",\"quai de Dampierre\",\"53 rue Simart\",\"le Tertial 2 place Vouldy\",\"27 rue Champeaux\",\"30 boulevard 14 Juillet\",\"39 rue Urbain IV\",\"88 rue Emile Zola\",\"18 rue Paillot de Montabert\",\"14 rue claude huez\",\"31 rue Claude Huez\",\"3 boulevard Danton\",\"3 place Audiffred\",\"29 rue Champeaux\",\"10 rue Charles Gros\",\"12 rue Gambey\",\"14 rue Jean Louis Delaporte\",\"11 Boulevard du 14 Juillet\",\"57 rue Georges Clemenceau\",null,\"25-57 rue Paillot de Montabert\",\"140.0 rue Emile Zola\",\"10 place Mar\\u00e9chal Foch\",null,\"17 boulevard du Quatorze Juillet\",\"14 rue Claude Huez\",\"19 rue du G\\u00e9n\\u00e9ral Saussier\",\"38 rue Louis Ulbach\",\"18 rue Paillot de Montabert\",\"18 rue Paillot de Montabert\",null,\"13 Rue Passerat\",\"35 rue Louis Mony\",\"Rue Louis Mony\",\"11 rue des bas Tr\\u00e9vois\",\"29 rue Mol\\u00e9\",\"21 rue Eug\\u00e8ne Belgrand\",\"50 rue Georges Clemenceau\",\"5 Rue des Terrasses\",\"93 rue Kl\\u00e9ber\",\"77 avenue Pierre Brossolette\",null,\"42 avenue Pierre Brossolette\",\"23 rue de la cit\\u00e9\",\"63 rue de Kl\\u00e9ber\",\"5 rue Louis Mony\",\"Place Alexandre Isra\\u00ebl\",\"15 boulevard Du 14 Juillet\",\"6 rue Louis Ulbach\",\"17 rue Louis Mony\",\"5 place du Mar\\u00e9chal Foch\",\"20 quai Dampierre\",\"8 rue Passerat\",\"20 Rue Louis Ulbach\",\"11 rue Gambey\",\"14 place Saint-Pierre\",\"86 rue Charles Gros\",\"13 rue des Terrasses\",\"Rue Gambey\",\"29 boulevard 14 Juillet\",\"25 rue des Quinze Vingt\",null,\"28A rue Largentier\",\"26 Mail des Charmilles\",\"33 rue Urbain IV\",\"67 rue de Turenne\",\"43 rue Paillot de Montabert\",\"125 rue Emile Zola\",\"13 rue des Bas Trevois\",\"2 rue Raymond Poincar\\u00e9\",\"38 rue du G\\u00e9n\\u00e9ral de Gaulle\",\"12 avenue Pierre Brossolette\",\"10 place Foch\",\"16 rue Paillot de Montabert\",\"45 rue des Quinze Vingts\",\"69 rue Emile Zola\",\"67 rue Andr\\u00e9 Beury\",\"4 rue Charles Thibault\",\"22 rue Michelet\",\"17 quai des Comtes de Champagne\",null,\"53 rue Simart\",\"Halles H\\u00f4tel de Ville\",\"29 rue Andr\\u00e9 Beury\",\"4 Rue Passerat\",\"2Bis rue du G\\u00c8n\\u00c8ral de Gaulle\",\"4 rue Jean Louis Delaporte\",\"29 Bd du 14 juillet\",\"Quai La Fontaine\",\"11 rue Brissonnet\",\"2 place des Charmilles\",\"19 boulevard Danton\",\"3 rue Aristide Briand\",\"10 place Audiffred\",\"31 quai des Comtes de Champagne\",null,\"11 place Saint R\\u00e9my\",\"16 rue des Terrasses\",\"2 rue Kl\\u00e9ber\",\"22 rue de la R\\u00e9publique\",\"25 27 place Alexandre Isra\\u00ebl\",\"10 rue du G\\u00e9n\\u00e9ral de Gaulle\",\"3 rue Saint Frobert\",\"8 Rue de la R\\u00e9publique\",\"2, Rue Raymond Poincare\",\"115, rue Emile-Zola\",\"18 rue Larivey\",\"5 RUE DE LA REPUBLIQUE\",\"116 Rue Emile Zola\",\"90 Rue Urbain IV\",\"28 avenue Pierre Brossolette\",\"29 rue de Turenne\",\"10 rue Saint Martin-Es-Aires\",null,\"1 rue des Bas Tr\\u00e9vois\",\"2 PLACE CHAUSS\\u00c9E DU VOULDY\",\"4 place Mar\\u00e9chal Foch\",\"18 place du Mar\\u00e9chal Foch\",\"19 rue Turenne\",\"28 boulevard Danton\",\"6 rue Nicolas Siret\",\"rue Viardin\",\"23 rue Paillot de Montabert\",\"10 rue G\\u00e9n\\u00e9ral Saussier\",\"76 rue Georges Clemenceau\",\"15 rue Urbain IV\",\"24 rue Georges Clemenceau\",\"45 Boulevard du 14 Juillet\",null,\"21 rue Simart\",\"6 rue de Turenne\",\"49 rue Raymond Poincare\",\"63 rue Kl\\u00e9ber\",\"13 rue du G\\u00e9n\\u00e9ral de Gaulle\",\"1 Chauss\\u00e9e du Vouldy\",\"6 rue du G\\u00e9n\\u00e9ral de Gaulle\",\"16 boulevard Jules Guesde\",\"18 rue Emile Zola\",\"1 Cours Jacquin\",\"Route de G\\u00e9raudot Rouilly Sacey\",\"58 rue de Turenne\",null,\"41 rue G\\u00e9n\\u00e9ral de Gaulle, Centre-Ville\",null,\"22 rue de la Trinit\\u00e9\",\"9 rue Passerat\",\"40 rue Urbain IV\",\"Place Mar\\u00e9chal Foch\",\"42 rue du Reverend Pere Lafra\",\"4 rue Aristide Briand\",\"1 Rue Emile Zola\",\"30 boulevard 14 Juillet\",null,\"5 avenue Pierre Brossolette\",\"64 Mail des Charmilles\",\"11 rue Claude Huez\",\"30 rue Georges Clemenceau\",null,\"38 rue Emile Zola\",\"15 Boulevard Danton\",\"37 rue Raymond Poincar\\u00e9\",\"6 ruelle des Chats\",\"16 rue du G\\u00e9n\\u00e9ral de Gaulle\",\"76 rue G\\u00e9n\\u00e9ral de Gaulle, Centre-Ville\",\"58 Mail des Charmilles\",null,\"67 rue Urbain IV\",\"4 rue Aristide Briand\",null,\"7 rue de la Madeleine\",null,\"17 Rue Champeaux\",\"46 Avenue Pierre Brossolette\",\"3 rue du Cloitre Saint Etienne\",\"62 rue Emile Zola\",null,\"15 rue Emile Zola\",\"20 Chauss\\u00e9e du Vouldy\",\"41 rue Urbain IV\",\"2 Mail des Charmilles\",\"4 rue de la R\\u00e9publique\",\"32 Mail des Charmilles\",\"9 rue de la R\\u00e9publique\",\"33 Rue Andr\\u00e9 Beury\",\"31 rue Andr\\u00e9 Beury\",\"15 rue des Bas Tr\\u00e9vois\",\"11 Rue Champeaux\",\"29 rue Mol\\u00e9\",null,null,\"22 rue G\\u00e9n\\u00e9ral Saussier\",\"CONSULTATIONS A DOMICILE TROYES ET AGGLOMERATION\",\"Rue Emile Zola\",\"9 ruelle des Chats\",\"60 rue Georges Clemenceau\",\"2 rue du petit Cr\\u00e9do\",\"29 rue Jules Lebocey\",\"42  mail Des Charmilles\",\"38 rue de Turenne\",\"30 Mail des Charmilles\",null,null,null,\"65 Rue Georges Clemenceau\",\"25 rue Raymond Poincarr\\u00e9\",\"110 rue Emile Zola\",\"112 rue Emile Zola\",\"39 Rue Paillot De Montabert\",null,\"24 rue du G\\u00e9n\\u00e9ral de Gaulle\",\"24 Rue Georges Clemenceau\",\"60 rue du G\\u00e9n\\u00e9ral Saussier\",\"73 rue Andr\\u00e9 Beury\",\"20 Bis quai Dampierre\",\"5 rue Viardin\",\"2 rue de Preize\",\"12 rue Aristide Briand\",\"24 rue Champeaux\",\"11 rue Pithou\",\"55 rue Urbain IV\",\"10 place Audiffred\",\"8 rue du G\\u00e9n\\u00e9ral de Gaulle\",\"11 rue de la Trinit\\u00e9\",\"10 rue Breslay\",\"3 Quai La Fontaine\",\"72, rue du g\\u00e9n\\u00e9ral de Gaulle\",\"58 rue G\\u00e9n\\u00e9ral de Gaulle\",\"94 rue du G\\u00e9n\\u00e9ral de Gaulle\",\"12 rue Aristide Briand\",\"9 Rue Kl\\u00e9ber\",\"33 boulevard du Quatorze Juillet\",\"80 rue Urbain IV\",\"11 rue Pithou\",\"9 rue G\\u00e9n\\u00e9ral de Gaulle\",\"6 rue de l'Isle\",\"51 Boulevard Du 14 Juillet\",\"14 rue Boucherat\",\"11 rue des Bas Tr\\u00e9vois, Espace Cin\\u00e9 City\",null,\"quai des Comtes de Champagne\",\"6 rue du G\\u00e9n\\u00e9ral de Gaulle\",\"7 rue de la Cit\\u00e9\",\"8 rue des Chats\",null,\"33 rue Urbain IV\",\"138 rue Emile Zola, Troyes\",\"24B Rue Louis Ulbach\",\"21 avenue Major G\\u00e9n\\u00e9ral Georges Vanier\",\"46 rue du G\\u00e9n\\u00e9ral de Gaulle\",null,\"76 rue Georges Cl\\u00e9menceau\",\"9-13 cour de la Rencontre\",\"18 rue Paillot de Montabert\",\"3 rue de la Vieille Rome\",\"4 rue Georges Clemenceau\",\"21 rue du Clo\\u00eetre Saint-\\u00c9tienne\",\"75 Bis rue Andr\\u00e9 Beury\",\"63 rue Urbain IV\",\"11 rue Gambey\",\"rue Weber Prolong\\u00e9e\",\"22 rue du G\\u00e9n\\u00e9ral de Gaulle\",null,\"3 rue Pierre Labonde\",\"12 rue Aristide Briand\",\"39 boulevard du Quatorze Juillet\",null,\"44 rue Emile Zola\",\"10 rue de Turenne\",\"place du Pr\\u00e9au\",\"29 rue Jules Lebocey\",\"8 rue Nicolas Siret\",\"6 rue Nicolas Siret\",\"13 rue Raymond Poincar\\u00e9\",\"40 rue du G\\u00e9n\\u00e9ral Saussier\",\"5 rue de Turenne\",\"82 rue G\\u00e9n\\u00e9ral de Gaulle\",\"32 rue Georges Clemenceau\",null,\"79 rue du G\\u00e9n\\u00e9ral de Gaulle\",\"10 rue Emile Zola\",null,\"55 Rue Turenne\",\"30 Mail des Charmilles\",null,\"80 RUE EMILE ZOLA\",\"15 rue Champeaux\",\"3 place Jean de Mauroy\",null,\"10 place Mar\\u00e9chal Foch, 54 rue \\u00c9mile Zola\",\"35 rue Paillot de Montabert\",\"62 rue Emile Zola\",\"44 rue de la R\\u00e9publique\",null,null,\"69/71 rue Urbain IV\",\"28 boulevard Jules Guesde\",\"40 boulevard Jules Guesde\",\"2 rue Pierre Labonde\",\"2 rue de la R\\u00e9publique\",\"cit\\u00e9 administartive des Vassaules\",\"41 rue du G\\u00e9n\\u00e9ral de Gaulle\",\"69 rue Emile Zola\",\"27 rue des Quinze Vingts\",\"31 Rue Andr\\u00e9 Beury\",null,\"12 rue Aristide Briand\",\"42 Rue Emile Zola\",\"Faubourg Croncel\",\"12 rue de l'Isle\",\"5 rue de la R\\u00e9publique\",\"65 rue de Turenne\",\"16 rue General Saussier\",null,\"74 rue Kl\\u00e9ber\",\"33 rue Emile Zola\",\"100 rue du G\\u00e9n\\u00e9ral de Gaulle\",\"57 Rue Urbain Iv\",\"40 rue G\\u00e9n\\u00e9ral Saussier\",\"38 rue Louis Ulbach\",\"47  rue Andre Beury\",null,null,\"42 Rue Champeaux\",null,\"2 Mail Saint Dominique\",\"37 rue Emile Zola\",\"20 bis quai de Dampierre\",null,\"7 rue Emile Zola\",null,\"12 rue des Bas Trevois\",null,null,\"27-29 rue du G\\u00e9n\\u00e9ral Saussier\",\"41 rue Urbain Iv\",\"83 rue Kleber\",\"9 rue G\\u00e9n Saussier\",\"4 rue de la mont\\u00e9e des changes\",\"1 rue Emile Zola\",\"3 Bis rue Neuve Petit\",\"111 rue Emile Zola\",null,\"5 rue du Gros Raisin\",\"38 bis avenue Pierre Brossolette\",\"27 boulevard du Quatorze Juillet\",\"Rue des Chats\",null,\"11 rue Clo\\\\u00eetre Saint Etienne\",\"26 Rue de Preize\",\"4 rue des Bas Tr\\u00e9vois\",null,\"30 rue Georges Clemenceau\",\"96 rue du G\\u00e9n\\u00e9ral de Gaulle\",null,\"31 Rue Andr\\u00e9 Beury\",\"81 rue Emile Zola\",\"8 Ruelle des chats\",\"16 avenue Chomedey de Maisonneuve\",\"1 Bis rue du Cardinal Ancher\",\"63 rue Georges Clemenceau\",\"23 rue Urbain IV\",\"11 rue Champeaux\",\"7 Place Marechal Foch\",\"21 Avenue Major G\\u00e9n\\u00e9ral Georges Vanier\",\"28 Rue Hennequin\",\"52 rue du G\\u00e9n\\u00e9ral de Gaulle\",\"112 Rue Emile Zola\",\"53 rue Andre Beury\",\"20 Rue de la R\\u00e9publique\",\"45 47 rue Raymond Poincar\\u00e9\",\"35 rue Simart\",null,\"15 rue Kl\\u00e9ber\",\"57 Boulevard du 14 Juillet\",\"51 rue de la Cit\\u00e9\",\"55 rue Georges Clemenceau, Centre-Ville\",\"32 rue Claude Huez\",\"36 rue des Terrasses\",\"3 place du Professeur Langevin\",\"86 rue du G\\u00e9n\\u00e9ral de Gaulle\",\"18B boulevard du Quatorze Juillet\",\"30 Mail des Charmilles\",\"79 Rue Urbain IV\",\"13 place Jean de Mauroy\",\"45 rue Kl\\u00e9ber\",\"1 B rue des Bas Trevois\",\"7 rue de l'Isle\",\"53 boulevard du Quatorze Juillet\",\"5 rue du Gros Raisin 1Er Etage\",\"19 rue Larivey\",null,\"3 avenue Pierre Brossolette\",\"34 quai dampierre\",\"Halles Hotel Ville Stand Nx Halles H\\u00f4tel de Ville\",\"31 rue Paillot de Montabert\",\"60 rue G\\u00e9n\\u00e9ral Saussier\",\"23 Boulevard du 14 Juillet\",\"12 boulevard Jules Guesde\",\"48 rue du Grand Saussier\",\"38 rue Champeaux\",\"13 rue Passerat\",\"20 quai de Dampierre\",\"15 rue Emile Zola\",\"45 rue Louis Mony\",null,null,null,null,\"6 Rue Nicolas Siret\",\"6 Bis place Jean de Mauroy\",\"101 rue de la Cit\\u00e9\",\"33 rue de Turenne\",\"36 rue Georges Clemenceau\",\"23 rue de Larivey\",\"16 rue des Terrasses\",null,\"2 place du Vouldy\",\"2 rue Pierre Jean Grosley\",\"93 rue Kl\\u00e9ber\",\"92 rue du G\\u00e9n\\u00e9ral de Gaulle\",\"4, rue des anciennes tanneries\",\"16 rue des Terrasses\",\"34 rue du G\\u00e9n\\u00e9ral Saussier\",\"124 rue \\u00c9mile Zola\",\"13 rue des Bas Tr\\u00e9vois\",\"11 rue de la R\\u00e9publique\",\"19 Boulevard Danton\",null,null,\"12, Rue de Gambay 10000 TROYES France\",\"11 rue de la Cit\\u00e9\",\"21 bis rue des Bas Tr\\u00e9vois\",null,\"18 rue Emile Zola\",\"39 rue de la cit\\u00e9\",\"24 rue Louis Ulbach\",\"42 rue Paillot de Montabert\",\"80, Rue G\\u00e9n\\u00e9ral de Gaulle\",\"115 rue Emile Zola, Troyes\",\"68 Mail des Charmilles\",\"18 rue Paillot de Montabert\",\"15 quai des Comtes de Champagne\",\"121 rue Emile Zola\",\"32 rue des Quinze-Vingts\",\"5 7 rue Urbain Iv\",\"41 rue du G\\u00e9n\\u00e9ral de Gaulle\",\"25 boulevard 14 Juillet\",\"51 rue de Turenne\",\"7 Place Jean de Mauroy\",\"89 rue Emile Zola\",\"18 B rue du voyer\",\"18 rue Emile Zola\",\"33 rue Claude Huez\",\"30 d Mail des Charmilles\",\"29 rue Urbain IV\",\"68 Rue Emile Zola\",\"28 rue Claude Huez\",\"57 rue de Turenne\",\"20 rue de la R\\u00e9publique\",\"6 rue de la Monnaie\",\"17 place Jean Jaur\\u00e8s\",\"4 rue Raymond Poincar\\u00e9\",\"2 rue du Champeaux\",\"8 rue C\\u00e9lestin Philbois\",\"40 boulevard Jules Guesde\",\"18 Quai de Dampierre\",\"6 avenue Pierre Brossolette, Cabinet Dentaire\",\"10 rue Champeaux\",\"52 bis boulevard du Quatorze Juillet\",\"5 bis rue de Preize\",\"10 Boulevard Gambetta\",\"25 Place Alexandre Isra\\u00ebl\",\"14 Bis place Jean de Mauroy\",\"2 place Jean de Mauroy\",\"6 rue Nicolas Siret\",\"Quai du Compte Henri\",\"93 rue Emile Zola\",\"33 rue Raymond Poincarr\\u00e9\",\"38 Ter avenue Pierre Brossolette\",\"23 boulevard Georges Pompidou\",\"20 boulevard du Quatorze Juillet\",\"50 rue de Preize\",\"34 rue Champeaux\",\"21 rue des Quinze Vingts\",\"24 boulevard Gambetta\",\"113 rue Emile Zola\",\"72 rue Emile Zola\",\"5 Rue de la R\\u00e9publique\",\"1 rue Andr\\u00e9 Mutter\",\"5 rue Jules Lebocey\",\"5 rue Louis Mony\",null,\"32 rue Georges Clemenceau\",\"40 bis boulevard du Quatorze Juillet\",\"14 rue de Turenne\",\"21, Rue Des Quinze Vingt\",\"Rue Pithou\",\"61 rue Emile Zola\",\"101 bis rue de la Cit\\u00e9\",\"62 avenue Pierre Brossolette\",\"7 place Saint Remy\",\"54 avenue Pierre Brossolette\",null,\"14 rue du G\\u00e9n\\u00e9ral de Gaulle\",\"9 quai des Comtes de Champagne\",\"68 Mail des Charmilles\",\"16 avenue Chomedey de Maisonneuve\",\"3 rue Boucher de Perthes\",\"6 rue du Paon\",\"76 Rue Urbain Iv\",\"42 Rue Georges Clemenceau\",\"10 rue des Terrasses\",\"26 rue de la Cite\",\"47 rue Louis Mony\",\"40 Boulevard Jules Guesde\",\"42-46 rue du G\\u00e9n\\u00e9ral-de-Gaulle\",\"6 place de la Lib\\u00e9ration\",\"61 rue de la Cite\",\"27 Chauss\\u00e9e du Vouldy\",\"20 rue des Gayettes\",\"77 rue Emile Zola\",\"26 Boulevard du 14 Juillet\",\"Rue Champeaux\",null,\"51 rue Raymond Poincar\\\\u00e9\",\"5 B Rue De La Republique\",null,\"rue paillot de montabert\",null,\"9 Avenue Pierre Brosselette\",\"33 rue Louis Mony\",null,\"11 rue du Clo\\u00eetre Saint-\\u00c9tienne\",null,\"10 quater, rue des Bas-Tr\\u00e9vois\",\"47 rue Louis Mony\",\"5 rue Etienne P\\u00e9dron\",\"8 rue charbonnet\",\"4 place de la Lib\\u00e9ration\",\"13 place Mar\\u00e9chal Foch\",null,\"71 Chemin de Biancon\",\"45 ter Chauss\\u00e9e du Vouldy\",null,\"15 boulevard Jules Guesde\",\"40 boulevard 14 Juillet\",\"7 Rue De La Republique\",\"13 boulevard Henri Barbusse\",\"55 rue Andr\\u00e9 Beury\",\"29, place Alexandre Isra\\u00ebl\",\"65 rue Georges Clemenceau\",\"17 avenue Pierre Brossolette\",\"43 rue du G\\u00e9n\\u00e9ral Saussier\",null,\"4 boulevard du 1Er R.A.M.\",\"14 Rue Louis Ulbach\",\"78 Rue Emile Zola\",\"2 rue Arnaud\",null,null,\"2 place du Vouldy\",\"18 rue Paillot de Montabert\",\"14 rue Jean Louis Delaporte\",\"47 Rue G\\u00e9n\\u00e9ral Saussier\",\"Rue Camille Claudel\",\"5 rue Pithou\",\"3 rue Urbain IV\",\"10 Ter rue des Bas Trevois\",null,\"1 Bis rue du Cardinal Ancher\",null,\"25 Avenue Major G\\u00e9n\\u00e9ral Georges Vanier\",null,null,\"Rue Claude Huez\",\"40 Boulevard Jules Guesde\",\"Marche Central\",\"18 rue Paillot de Montabert\",\"49 boulevard 14 Juillet\",\"26 rue Brissonnet\",\"21 bis rue des Bas Tr\\u00e9vois\",\"76 rue Georges Clemenceau\",\"89 Rue Emile Zola\",\"12 rue des Bas Tr\\u00e9vois\",\"March\\u00e9 des Halles, rue Claude Huez\",\"12 rue Aristide Briand\",\"50 rue du G\\u00e9n\\u00e9ral de Gaulle\",\"54 avenue Pierre Brossolette\",\"42 rue du R\\u00e9v\\u00e9rend-P\\u00e8re-Lafra\",\"28 rue Claude Huez\",\"117 rue Emile Zola\",null,\"Rue Charles Gros\",\"28 rue Champeaux\",\"31 rue \\u00c9mile Zola\",\"34 rue Louis Ulbach\",\"19 boulevard Danton\",\"14 rue du G\\u00e9n\\u00e9ral Saussier\",\"44 rue Turenne\",\"22 boulevard du Quatorze Juillet\",\"109 rue Emile Zola\",\"route Claude Bertrand\",\"2 rue de la R\\u00e9publique\",\"6 place de la Lib\\u00e9ration\",\"5 rue Georges Clemenceau\",\"1 Rue Urbain IV\",\"20 bis, Avenue Gambetta\",\"12 rue Paillot de Montabert\",\"24 rue de la Cit\\u00e9\",\"22 avenue Pierre Brossolette\",\"25 rue Louis-Ulbach\",\"21 Bis rue Mitantier\",null,\"16 boulevard Georges Pompidou\",\"27 avenue Pierre Brossolette\",\"107 r R\\u00e9v\\u00e9rend P\\u00e8re Lafra\",\"18 rue Paillot de Montabert\",\"14Bis Avenue Chomedey de Maisonneuve\",\"2 place du Vouldy\",\"2 rue Aristide Briand\",\"12 rue Raymond Poincar\\u00e9\",\"2 rue des Moulins de Brule\",\"21 rue de la Cite\",\"40 boulevard Jules Guesde\",null,null,\"12 rue Simart\",\"2 rue du Chapitre\",\"42 rue Charles Gros\",\"15 rue Eug\\u00e8ne Belgrand\",\"5 rue Charbonnet\",null,\"35 rue du G\\u00e9n\\u00e9ral de Gaulle\",\"28 boulevard 14 Juillet BP 730\",\"35-37 rue Urbain IV\",\"12 RUE RAYMOND POINCARE\",\"7 place Saint-R\\u00e9my\",\"38 Avenue Pierre Brossolette\",\"24 Boulevard du 14 Juillet\",\"28 rue Mol\\u00e9\",null,\"27 rue Fortier\",\"63-65 Rue Turenne\",\"38 rue Emile Zola\",\"47 rue Louis Ulbach\",\"65 rue Andr\\u00e9 Beury\",null,\"30 Mail des Charmilles\",\"15 quai des Comtes de Champagne\",\"63 avenue Pasteur\",\"11-13 rue de Qu\\u00e9bec\",null,\"46 rue du G\\u00e9n\\u00e9ral Saussier\",\"12 Rue Pithou\",\"Rue de la Cite\",\"11 rue des Bas Tr\\u00e9vois\",\"6 rue de la R\\u00e9publique\",\"51 rue Emile Zola, 51 et 53\",\"2 Bis rue Jean Nesmy\",\"75 rue Andr\\u00e9 Beury\",\"17 rue des Terrasses\",\"16 rue Louis Ulbach\",\"quai du Comte Henri\",\"69 rue Emile Zola\",\"36 rue Emile Zola\",\"23 rue des Bas Tr\\u00e9vois\",\"1 rue Nicolas Siret\",\"5 rue Aristide Briand\",\"5 Place Vernier\",\"24 Rue de Preize\",\"45 rue Kl\\u00e9ber\",\"14 C chauss\\u00e9e du vouldy\",\"63 Rue Du G\\u00e9n\\u00e9ral Saussier\",\"59 Rue Emile Zola\",null,null,\"11 Place du Marechal Foch\",\"70 rue Urbain IV\",\"5 Rue Paillot de Montabert\",\"42 Rue Turenne\",\"90 rue Urbain IV\",\"2 Place du Vouldy\",\"2 rue de la Monnaie\",\"17 boulevard Du 14 Juillet\",\"45 rue Andr\\u00e9 Beury\",\"Halles de l'H\\u00f4tel-de-Ville\",\"33 Rue de la Cit\\u00e9\",\"22 rue G\\u00e9n\\u00e9ral Saussier\",\"Place Saint-Pierre\",\"78 bis rue Urbain IV\",null,\"69 rue Andr\\u00e9 Beury\",\"3 boulevard 14 Juillet\",\"33 cours Jacquin\",\"22 rue De La Republique\",\"4 rue Charles Thibault\",\"11 rue Georges Clemenceau\",\"4 rue Gournay\",\"28 rue Largentier\",\"26 Rue de la R\\u00e9publique\",null,\"7 rue Passerat\",\"13 rue Largentier\",\"11-15 rue Pithou\",\"22 Rue Champeaux\",\"17 rue Raymond Poincar\\u00e9\",\"Chapelle Argence ( derri\\u00e8re l'Espace argence) rue Gambetta\",\"7 rue de Preize\",\"1 rue des Bas Tr\\u00e9vois\",\"25 rue Urbain IV\",\"4 rue Fortier\",\"12 rue Raymond Poincar\\u00e9\",\"2 rue Arnaud\",\"86 rue Charles Gros\",\"4 Rue Aristide Briand\",\"61 rue Georges Clemenceau\",\"71 Rue Emile Zola\",null,\"11 rue du G\\u00e9n\\u00e9ral Saussier\",null,\"4 rue Charles Thibault\",\"2 rue de Preize\",\"13 rond-point De L'Europe\",\"12 rue Aristide Briand\",\"1 rue Charlemagne\",\"10 Q rue des Bas Trevois\",\"4 rue de Gournay BP 605\",\"19 rue des Quinze Vingts\",\"Rue De La R\\u00e9publique\",\"70 rue Du G\\u00e9n\\u00e9ral De Gaulle\",null,null,\"35 rue Urbain IV\",\"36 rue Mol\\u00e9 41 rue Quinze Vingts\",\"35 rue du G\\u00e9n\\u00e9ral-de-Gaulle\",null,\"21 rue des Bas Trevois\",\"18 rue Claude Huez\",\"27 Rue G\\u00e9n\\u00e9ral Saussier\",\"11 avenue Pierre Brossolette\",null,\"2 rue de la R\\u00e9publique\",\"76 rue Georges Clemenceau\",\"Boulevard du 14 juillet\",\"15 rue Passerat\",\"15 Bd Danton\",\"4 rue du Gros Raisin\",null,\"89 avenue Pierre Brossolette\",\"35-37 37 rue Jules Lebocey\",null,\"place Saint-Pierre\",\"5 rue du G\\u00e9n\\u00e9ral Saussier\",\"2 Place Du Vouldy\",\"20 quai de Dampierre\",\"27 rue des Quinze Vingts\",\"20, Rue Claude Huez 10002 TROYES France\",null,\"39 rue Urbain IV\",\"52 boulevard du Quatorze Juillet\",\"19 rue Eug\\u00e8ne Belgrand\",\"1 rue Th\\u00e9r\\u00e8se Bordet\",\"21 rue du G\\u00e9n\\u00e9ral de Gaulle\",\"89 rue Kl\\u00e9ber\",\"43 boulevard Du 14 Juillet\",\"54 boulevard 14 Juillet\",\"36 rue des Terrasses\",\"15 rue du G\\u00e9n\\u00e9ral de Gaulle\",\"16 rue de la Trinit\\u00e9\",\"51 rue Paillot de Montabert\",null,\"95 rue Kleber\",\"111 Rue Emile Zola\",null,\"11 Rue Champeaux\",\"Place Jean Moulin\",\"rue des Filles Dieu\",\"93-95 avenue Pierre Brossolette\",\"58 rue du G\\u00e9n\\u00e9ral Saussier\",\"45 rue Kl\\u00e9ber\",\"1 rue Urbain Ivv\",\"22 Rue Georges Clemenceau\",\"18 rue Champeaux\",\"7 rue de la R\\u00e9publique\",\"25/27 place Alexandre Isra\\u00ebl\",\"3 rue Saint-Lambert\",\"31 Place Alexandre Isra\\u00ebl\",\"Bd Gambetta ( Chapelle Argence)\",\"1 Impasse du Voyer\",\"95 rue Kleber\",null,\"11 rue Raymond Poincar\\u00e9\",\"4 boulevard Gambetta\",\"65 rue Raymond Poincar\\u00e9\",\"8 rue Aristide Briand\",\"85 rue Emile Zola\",\"25 rue de Preize\",\"Boulevard Gambetta\",\"33 rue Jules Lebocey\",\"46 Rue Charles Gros\",null,null,\"5 rue de la R\\u00e9publique\",\"40 boulevard Jules Guesde\",\"23 rue Emile Zola\",\"15 rue Gambey\",null,\"76-78, rue Emile Zola\",\"15 rue Passerat\",\"35 rue de Turenne\",\"12 rue de la R\\u00e9publique\",null,null,\"place Vernier\",\"1 rue Charles Gros\",\"5 rue Claude Huez\",\"36 Mail des Charmilles 10000 Troyes France\",\"41 rue Raymond Poincar\\u00e9\",\"7 rue Ganguerie\",\"7 Rue Kl\\u00e9ber\",\"14 rue Bas Tr\\u00e9vois\",\"34 rue Louis Ulbach\",\"84 rue Emile Zola\",null,\"23 Rue Urbain IV\",\"21 rue du Clo\\u00eetre Saint-\\u00c9tienne\",\"13 rue du G\\u00e9n\\u00e9ral Saussier\",\"1 rue de la Tour\",\"31 rue Claude Huez\",\"91 rue Emile Zola\",\"14 rue Paillot de Montabert, Centre-Ville\",\"15 rue de Turenne\",\"rue Claude Huez\",\"rue Louis Mony\",\"28 quai de Dampierre\",\"31 rue Champeaux\",\"6 rue Nicolas Siret\",\"17/19 Rue Urbain IV\",\"34 rue Klebert\",\"74-78 rue Emile Zola\",\"Halles Hotel de Ville\",\"12 rue de la Trinit\\u00e9\",\"26 rue des Quinze Vingts\",\"24 Rue Raymond Poincar\\u00e9\",\"39 rue du G\\u00e9n\\u00e9ral de Gaulle\",\"140 rue Emile Zola\",\"10 boulevard Danton\",\"35 rue \\u00c9mile-Zola\",\"10 rue Aristide Briand\",\"11 rue Jules Lebocey\",\"place Alexandre Israel, Hotel de Ville\",\"16 place De La Lib\\u00e9ration\",\"30 avenue Pierre Brossolette\",\"26 quai de Dampierre\",\"105 Rue R\\u00e9v\\u00e9rend P\\u00e8re Lafra\",\"12 rue de l'Isle\",\"14 rue des Quinze Vingts\",\"10Quater rue des Bas Trevois\",\"25 rue Champeaux\",\"5 rue Georges Clemenceau\",\"89 avenue Pierre Brossolette\",\"24 rue Louis Ulbach\",\"1 ruelle des Chats\",\"23 rue Hennequin\",\"Rue de la R\\u00e9publique\",\"15 Rue Paillot de Montabert\",\"13 rue des Bas Trevois Cgr Cinemas\",\"33 Rue Champeaux\",\"38, rue Emile Zola Passage Dermet\",\"4-12 rue Champeaux\",\"64 rue G\\u00e9n\\u00e9ral de Gaulle\",\"2 rue Georges Clemenceau\",\"2 rue Pierre Labonde\",\"23 rue Urbain IV\",\"28 Boulevard du 14 Juillet\",null,\"1 Cour du Mortier d'Or\",\"6 rue de la Petite Courtine\",\"14 Rue Rebaudis\",\"39 Rue Emile Zola\",\"15 rue Paillot de Montabert\",\"5 Ruelle des Chats\",\"16 rue De La Cite\",\"17 Place de la Lib\\u00e9ration\",null,null,\"4 rue Jaillard\",null,\"13 rue Urbain IV\",\"42 rue Emile Zola\",\"18 rue Pithou\",\"10 place du Mar\\u00e9chal-Foch\",\"9 Place Saint-R\\u00e9my\",\"56 rue Kl\\u00e9ber\",null,\"15 boulevard Danton\",\"3 rue de Turenne\",\"5 rue Emile Zola\",\"1 Chauss\\u00e9e du Vouldy\",\"2 Rue Aristide Briand\",\"RN 19 Barberey Centre Commercial\",null,\"41 Rue Louis Mony\",\"4 rue Chrestiens de Troyes\",\"38 rue Emile Zola\",\"63 rue Georges Clemenceau\",\"77, Rue Emile Zola\",\"place du Vouldy\",\"52 Mail des Charmilles\",\"17 rue Larivey\",null,\"9 Rue de la Cit\\u00e9\",\"1 cour du Mortier d'Or\",\"5 rue Charbonnet\",\"18 rue du Monceau\",null,\"53 boulevard du 14-Juillet\",\"12 rue des Bas Trevois\",\"2\",\"1 Bis rue Arnaud\",\"14 rue Jean Louis Delaporte\",\"Place du March\\u00e9 au Pain\",\"18 rue Clos Bersat\",null,\"33 rue Raymond Poincare\",\"87 avenue Pierre Brossolette\",\"28 rue Largentier\",null,\"13 Place Jean de Mauroy\",\"boulevard Edouard Herriot Les Chartreux\",\"58 rue du G\\u00e9n\\u00e9ral Saussier\",\"2 Bis Carrefour Du Vouldy\",\"2 place Vouldy\",\"38 rue Champeaux\",\"18 rue Paillot de Montabert\",\"Rue Champeaux\",null,\"5 place du March\\u00e9 au Pain\",null,\"Rue Camille Claudel\",\"127 rue \\u00c9mile Zola\",\"Rue G\\u00e9n\\u00e9ral Saussier\",\"81 rue Raymond Poincar\\u00e9\",null,\"19 rue Champeaux\",\"Rue G\\u00e9n\\u00e9ral de Gaulle\",\"90 Rue \\u00c9mile Zola\",\"2 place du Vouldy\",\"103-105 Rue Emile Zola\",\"80 rue Emile Zola\",\"35 rue Louis Mony\",\"4 rue de Jaillard\",\"rue Camille Claudel\",\"79 rue Emile Zola\",null,\"21 boulevard du Quatorze Juillet\",\"7 rue Passerat\",\"9 avenue Pierre Brossolette\",\"3 chauss Vouldy\",\"37 rue Paillot de Montabert Troyes\",\"42 rue du G\\u00e9n\\u00e9ral Saussier\",\"132 rue Emile Zola\",\"Halles de l'H\\u00f4tel de Ville\",\"7 rue du G\\u00e9n\\u00e9ral de Gaulle\",\"6 rue du Pont Royal\",\"46 rue Turenne\",null,\"45 rue Kl\\u00e9ber\",\"2 boulevard Henri BarbusseLes Acacias\",\"1-3 rue de la R\\u00e9publique\",\"21 rue des Quinze Vingts\",\"36 rue des Terrasses\",\"1 rue Jean Nesmy\",\"4 avenue Pierre Brossolette\",\"45 Rue Emile Zola\",\"53 rue Georges Clemenceau\",\"24/26 rue Brissonnet\",null,\"18 Rue de la R\\u00e9publique\",\"71 Rue Emile Zola\",\"42 place des Charmilles\",\"12 rue Emile Zola\",\"43 rue paillot de montabert\",\"19 rue Louis Mony\",\"6 rue du G\\u00e9n\\u00e9ral Saussier\",\"27 Rue \\u00c9mile Zola\",\"36 rue Urbain IV\",null,\"4 quai de l'Abattoir\",\"24 rue de la Trinit\\u00e9\",\"48 boulevard Du 14 Juillet\",\"20 rue Georges Clemenceau\",\"17 place de la Lib\\u00e9ration\",\"36 Avenue Pierre Brossolette\",null,\"7 rue Pithou\",\"1 rue Emile Zola\",null,\"21 rue de la Cit\\u00e9\",\"16 avenue Chomedey de Maisonneuve\",\"10 rue de la Petite Courtine, Grand Est\",\"16 Rue Pithou\",\"95 rue Kleber\",\"70 rue Georges Clemenceau\",null,\"3 rue Louis Mony\",\"2 rue Charles Gros\",\"11-15 rue Pithou\",\"23 rue Raymond Poincare\",null,\"38 rue Emile Zola\",\"18 boulevard du Quatorze Juillet\",null,\"110, Rue Emile Zola\",null,\"51 rue G\\u00e9n\\u00e9ral de Gaulle, Centre-Ville\",\"18 rue Paillot de Montabert\",\"17 rue Louis Mony\",\"69 rue Kl\\u00e9ber\",\"87 rue Emile Zola\",\"55 rue Emile Zola\",\"45 47 rue Raymond Poincar\\u00e9\",\"71 r Raymond Poincar\\u00e9\",\"3 rue Boucher de Perthes\",\"33 cours Jacquin\",\"58 rue du G\\u00e9n\\u00e9ral de Gaulle\",\"12 rue Gambey\",\"49 rue de la cit\\u00e9\",\"59 rue Raymond Poincar\\u00e9\",null,\"26 rue Brissonnet\",\"18 rue des Quinze-Vingts\",\"14 rue des Bas Tr\\u00e9vois\",\"97 rue Emile Zola\",\"2 place du Vouldy\",\"26 rue des Quinze Vingts\",\"quai des Comtes de Champagne\",\"6 boulevard Gambetta\",\"41 rue du G\\u00e9n\\u00e9ral de Gaulle\",null,\"22 rue du G\\u00e9n\\u00e9ral de Saussier\",\"10929 Disk Dr\",\"92 rue du g\\u00e9n\\u00e9ral de gaulle\",null,null,\"69 rue de Turenne\",\"28 quai Dampierre\",null,\"5 rue Raymond Poincar\\u00e9\",\"20 Rue Louis Ulbach\",\"Place Vernier\",\"65 rue Andr\\u00e9 Beury\",\"66/68 rue Du General De Gaulle\",\"10 Place Saint Denis\",\"2 A boulevard du 1er R.A.M\",\"4 Rue Aristide Briand\",\"6 rue Pithou\",\"30 rue de Turenne\",\"38 rue Georges Clemenceau\",\"40 Boulevard Jules Guesde\",null,\"appartement n\\u00b08 2 i\\u00e8m \\u00e9tage 1 rue du Clo\\u00eetre Saint-Etienne\",\"30 C Mail des Charmilles\",\"1 rue Eug\\u00e8ne Belgrand\",\"1 rue Chrestien de Troyes\",\"18 rue Paillot de Montabert\",\"19 rue Emile Zola\",\"11 place Jean de Mauroy\",\"26 quai Dampierre\",\"1 Bis boulevard Danton\",\"66 RUE EMILE ZOLA\",\"41 rue de la Cit\\u00e9\",\"4 Passage Hugues de Payns\",null,\"30 rue Mol\\u00e9\",\"85, Avenue Pierre Brossolette\",\"espace Cin\\u00e9 City\",\"10 Rue G\\u00e9n\\u00e9ral De Gaulle\",\"Rue du g\\u00e9n\\u00e9ral de Gaulle\",null,\"26 Mail des Charmilles\",\"45 boulevard du 14 Juillet\",\"18 rue Paillot de Montabert\",\"30 boulevard 14 Juillet\",\"15 boulevard Jules Guesde\",\"10 boulevard Danton\",\"34 quai de Dampierre\",\"95 rue Emile Zola\",\"64B Mail des Charmilles\",null,\"18 rue Paillot de Montabert\",\"38 rue Emile Zola\",\"6 rue de Gournay\",\"33 rue Mol\\u00e9\",\"11 rue Raymond Poincar\\u00e9\",\"7 rue Louis Ulbach\",\"37 Rue Turenne\",\"1 rue du Premier B C P\",\"59 rue Simart\",\"36 Avenue Pierre Brossolette\",null,\"6 place Mar\\u00e9chal Foch\",\"31 place Alexandre Isra\\u00ebl\",\"3 Rue Pithou\",null,\"18 rue Pithou\",\"14 Rue Louis Ulbach\",\"6 RUE ARISTIDE BRIAND\",\"37 rue Mol\\u00e9\",\"rue Nicolas Siret 6\",\"31 rue Claude Huez\",\"34 quai de Dampierre\",\"1 rue de la Cit\\u00e9\",null,\"8 route Departeme Point de l'Europe\",\"43 bis rue du G\\u00e9n\\u00e9ral Saussier\",\"27 rue Champeaux\",\"4 Place Professeur Langevin\",\"34 rue Urbain IV\",\"rue Camille Claudel\",\"38 rue Emile Zola\",null,\"31 rue Louis Mony\",\"39 rue Urbain IV\",\"125 avenue Robert Schumann, Maison des Activites Associatives\",\"14 rue Jean Louis Delaporte\",\"37 rue Louis Mony\",\"5 avenue Pierre Brossolette\",null,\"Rue de la Cit\\u00e9\",null,\"Rn 19 Barberey-Saint-Sulpice\",\"2 boulevard 14 Juillet\",\"61 Rue Emile Zola\",null,\"18 bis rue du G\\u00e9n\\u00e9ral Saussier\",\"12 rue de Champeaux\",\"Halles de l'H\\u00f4tel-de-Ville\",\"61 rue de Turenne\",\"111 Rue Emile Zola\",\"14 rue Boucherat\",\"24 rue de la R\\u00e9publique\",null,\"134 rue Emile Zola\",\"12 rue Mitantier\",\"4 rue Aristide Briand\",\"3 place Saint Remy\",\"12 rue de la R\\u00e9publique\",\"3 rue du Cloitre Saint Etienne\",\"6 rue du Pont Royal\",\"33 rue Urbain IV\",\"65, Rue Emile Zola\",\"12 rue de Turenne\",\"56 Mail des Charmilles, Decot\",\"4 quai Dampierre\",null,null,\"4 place Audiffred\",\"21 rue Eug\\u00e8ne Belgrand\",\"15 Place Audiffred\",\"49 rue Georges Clemenceau Newbaby 49 A 53\",\"28 Bd Jules Guesde\",\"15 rue des Bas Tr\\u00e9vois\",\"4 Passage Hugues de Payns\",\"13 rue des Cordeliers\",\"35 Rue Mol\\u00e9\",null,\"Rue Paillot De Montabert\",\"Rue Raymond Poincarr\\u00e9\",\"107 rue Emile Zola\",\"voie Bois\",\"6 rue Kl\\u00e9ber\",\"2 rue Raymond Poincar\\u00e9\",null,\"9 avenue Pierre Brossolette\",\"14 rue Jean Louis Delaporte\",\"6 rue Pont Royal Bp 719\",\"30 rue Mitantier\",null,null,\"2 Rue Hugues de Payns\",\"51 rue Raymond Poincar\\u00e9\",\"21 rue des Terrasses\",\"32 rue Claude Huez\",\"10 Quater rue Bas Tr\\u00e9vois Bp 40 100\",\"7 rue Pithou\",\"95 rue Emile Zola\",\"39 rue du G\\u00e9n\\u00e9ral de Gaulle\",\"26 rue Mole\",\"centre commercial Le Mail\",null,\"50 rue Georges Clemenceau\",null,\"34 rue du G\\u00e9n\\u00e9ral Saussier\",\"111 Rue Emile Zola\",null,\"46 Bis avenue Pierre Brossolette\",\"5 rue de la R\\u00e9publique\",\"39 rue Emile Zola\",\"22 Boulevard du 14 Juillet\",\"15 quai des Comtes de Champagne\",\"9 rue du G\\u00e9n\\u00e9ral de Gaulle\",\"26 rue des Quinze Vingts\",\"18 rue Paillot de Montabert\",\"47 Rue Andr\\u00e9 Beury\",\"Troyes\",null,\"7 rue Charles Desguerrois\",\"place du Pr\\u00e9au\",null,\"59 rue Georges Clemenceau\",\"10 rue Louis Ulbach\",\"125 avenue Pierre Brossolette\",\"10-12 rue de la R\\u00e9publique\",\"29 B avenue Martyrs de la Resistance\",\"98 avenue Chomedey De Maisonneuve\",\"13 place Audiffred\",\"17 rue Raymond Poincar\\u00e9\",\"38 rue Urbain IV\",\"17 place de la Lib\\u00e9ration\",\"27 boulevard du 14 juillet\",\"29 place Alexandre Isra\\u00ebl\",\"15 rue Georges Clemenceau\",\"22 rue Claude huez\",\"20 rue Linard Gonthier\",null,\"12 rue Pithou\",\"17 rue Jules Lebocey\",\"2 Bis quai de Dampierre\",\"halles H\\\\u00f4tel de Ville\",\"12 rue Aristide Briand\",\"64B Mail des Charmilles\",\"2 Rue de la Trinit\\u00e9\",\"42 Rue Emile Zola\",\"44 rue du G\\u00e9n\\u00e9ral Saussier\",\"26 avenue Pierre Brossolette\",\"15 rue Emile Zola\",\"4 boulevard Danton\",\"81 rue Raymond Poincar\\u00e9\",\"21 place du March\\u00e9 au Pain\",\"3 rue d'Arbois de Jubainville\",\"48 rue du G\\u00e9n\\u00e9ral de Gaulle\",\"28 rue Champeaux Boutique France Loisirs\",\"60 rue Georges Cl\\u00e9menceau\",\"29 RUE URBAIN IV\",\"12 rue Mitantier\",\"51 rue Raymond Poincar\\\\u00e9\",\"1 Rue De La Tour\",\"73 avenue Brossolette\",\"1 rue Andre Mutter, 68 Mail des Charmilles\",\"16 rue Marc-Verdier\",\"14 rue Cite\",\"48 rue Georges Clemenceau\",\"6 rue Nicolas Siret\",\"13 boulevard Henri Barbusse\",\"32 rue Emile Zola\",null,null,\"36 Claude Bertrand\",\"43 rue de la Planche Cl\\u00e9ment\",\"18 rue Claude Huez\",\"53 Rue Andr\\u00e9 Beury\",\"Place Saint-Pierre\",\"12 rue Champeaux\",\"8 r G\\u00e9n de Gaulle\",\"3 rue du Pont Royal\",\"3 rue Raymond Poincare\",\"69 rue Emile Zola\",\"13-15 boulevard Danton\",\"Place Saint-R\\u00e9my\",\"18B, rue du Voyer\",\"place du Vouldy\",\"5 place du Professeur Langevin\",\"3 rue du Gros Raisin\",\"23 avenue Pierre Brossolette, 23 A 27\",\"72 Rue Urbain IV\",\"10 Rue du G\\u00e9n\\u00e9ral de Gaulle\",\"4 Rue Raymond Poincar\\u00e9\",null,\"56 rue de Turenne\",\"7 Rue Kl\\u00e9ber\",\"48 rue Georges Clemenceau\",\"15 rue de la Cit\\u00e9\",\"2 rue Charles Gros\",\"27 Chaussee du Vouldy\",\"38 rue de la Cit\\u00e9\",\"4 rue des Gayettes\",\"35 Rue Emile Zola\",\"41 bis rue du G\\u00e9n\\u00e9ral de Gaulle\",\"30 rue de la R\\u00e9publique\",\"45 boulevard du Quatorze Juillet\",\"28 rue Claude Huez\",\"127 rue Emile Zola\",null,\"31 rue Champeaux\",\"31 quai des comtes de Champagne\",\"10 rue de l'Isle\",\"24 quai de Dampierre\",\"26-38 Rue Paillot de Montabert\",\"14 rue Jean-Louis Delaporte\",null,\"26 avenue Pierre Brossolette\",\"Halles de l'H\\u00f4tel de Ville\",null,\"7 rue G\\u00e9n\\u00e9ral de Gaulle\",\"64 Mail des Charmilles\",\"37 rue des Bas Tr\\u00e9vois\",\"Technopole l'Aube 32 rue Beau Toquat, Centre-Ville\",\"49 rue de la Cite\",null,\"32 Rue \\u00c9mile Zola\",\"2 rue des Bas Trevois\",\"13 Rue Champeaux\",\"3 Bis boulevard du Quatorze Juillet\",\"3 place du Professeur Langevin\",\"Cit\\u00e9 administrative des Vassaules 38 rue Gr\\u00e9goire Pierre Herluison BP 198\",\"38 rue Georges Clemenceau\",\"3 rue de la Vieille Rome\",\"9 boulevard Danton\",null,\"34 rue Louis Ulbach\",\"Rue Georges Clemenceau\",\"rue William et Catherine Booth\",\"7 rue Jean Louis Delaporte\",\"6 rue du Pont Royal\",\"28 Rue Claude Huez\",\"38 Rue Charles Gros\",\"2 place du Vouldy\",\"15 rue Urbain IV\",\"Rue Turenne\",\"19 rue Paillot de Montabert\",\"67 rue Emile Zola\",\"19 rue Paillot de Montabert\",\"18 place de Saint-Nizier\",null,\"88 rue du G\\u00e9n\\u00e9ral de Gaulle\",\"3 rue de la Tour, Ehpad Saint Vincent de Paul\",\"14 rue Emile Zola\",\"4 avenue Pierre Brossolette\",\"13 place Mar\\u00e9chal Foch\",\"6 rue Eug\\u00e8ne Belgrand\",\"21 avenue Pierre Brossolette\",\"rue Charbonnet\",null,\"18 quai de Dampierre\",\"2 Bis rue Jean Nesmy\",\"Paris\",\"40bis boulevard du Quatorze Juillet\",\"45 boulevard 14 Juillet\",\"47 rue Louis Ulbach\",\"Halles de Troyes\",\"17 rue des Bas Trevois\",\"67 rue  Emile Zola\",\"38 rue Emile Zola\",\"57 rue Urbain IV\",\"7 rue du Gros Raisin\",\"58 avenue Pierre Brossolette\",\"2 rue de Preize\",\"68 Mail des Charmilles\",\"3 rue Raymond Poincar\\u00e9\",\"1 place Jean de Mauroy Bp 737\",\"35 rue Mol\\u00e9\",\"4 rue Charbonnet\",null,\"124 Rue Emile Zola\",\"70 Pl. Jean Moulin\",\"2 place du Vouldy\",\"rue de la monnaie\",\"3 rue du Gros Raisin\",\"43 rue des Quinze Vingts\",\"5 avenue du 1Er Mai\",\"3 rue de Chaillouet\",null,\"21 BIS rue des bas trevois\",\"20 Rue Louis Ulbach\",\"12 rue Aristide Briand\",\"50 rue du R\\u00e9v\\u00e9rend-P\\u00e8re-Laffra\",\"1 quai des Comtes de Champagne\",\"55 rue Georges Clemenceau\",\"93 rue Emile Zola\",\"51 boulevard du Quatorze Juillet\",\"16 rue Aristide Briand\",\"4 Rue la Mont\\u00e9e des Changes\",\"3 quai Comtes de Champagne\",\"18 Rue Linard Gonthier\",null,\"54 rue Du G\\u00e9n\\u00e9ral De Gaulle\",\"2 Place du Vouldy\",\"22 rue Boucherat\",\"4 avenue Pierre Brossolette\",\"26 rue Brissonnet\",\"5 rue Geoffroy de Villehardouin\",\"72 rue du G\\u00e9n\\u00e9ral de Gaulle\",\"5 rue Aristide Briand\",\"Halles H\\u00f4tel De Ville\",null,\"2 place Mar\\u00e9chal Foch\",\"25 rue Emile Zola\",\"12 rue du Cloitre Saint Etienne\",\"10 rue Kl\\u00e9ber\",null,\"16 rue du G\\u00e9n\\u00e9ral Saussier\",\"105 rue du R\\u00e9v\\u00e9rend P\\u00e8re Lafra\",\"7 passage Hugues de Payns\",\"5 bis Rue de Preize\",\"5 Rue de la R\\u00e9publique\",null,null,\"59 rue du G\\u00e9n\\u00e9ral Saussier\",\"32 rue du G\\u00e9n\\u00e9ral de Gaulle\",null,\"136 rue Emile Zola\",\"1 rue Louis Mony, Bp 126\",\"64 avenue Pierre Brossolette\",\"81, Avenue Pierre Brossolette\",\"rue de Jargondis\",\"2 Rue Charles Thibault\",\"84 rue Emile Zola\",\"32 boulevard du Quatorze Juillet\",\"rue Gambey\",\"50, rue de Turennes\",\"22 rue Cit\\u00e9\",\"5 rue de la R\\u00e9publique\",\"46, Rue Georges Clemenceau\",\"112 rue Emile Zola\",\"16 rue de la Cite\",\"34 rue Champeaux\",\"1 bis quai des Comtes de Champagne\",\"18 rue Linard Gonthier\",\"14 rue Louis Ulbach\",\"35 rue Champeaux\"],\"shape\":[1738],\"dtype\":\"object\",\"order\":\"little\"}]]}}},\"view\":{\"type\":\"object\",\"name\":\"CDSView\",\"id\":\"p2114\",\"attributes\":{\"filter\":{\"type\":\"object\",\"name\":\"AllIndices\",\"id\":\"p2115\"}}},\"glyph\":{\"type\":\"object\",\"name\":\"Scatter\",\"id\":\"p2110\",\"attributes\":{\"tags\":[\"apply_ranges\"],\"x\":{\"type\":\"field\",\"field\":\"Longitude\"},\"y\":{\"type\":\"field\",\"field\":\"Latitude\"},\"size\":{\"type\":\"value\",\"value\":5.477225575051661},\"line_color\":{\"type\":\"value\",\"value\":\"red\"},\"line_alpha\":{\"type\":\"value\",\"value\":0.8},\"line_width\":{\"type\":\"value\",\"value\":0.5},\"fill_color\":{\"type\":\"value\",\"value\":\"red\"},\"fill_alpha\":{\"type\":\"value\",\"value\":0.8},\"hatch_color\":{\"type\":\"value\",\"value\":\"red\"},\"hatch_alpha\":{\"type\":\"value\",\"value\":0.8}}},\"selection_glyph\":{\"type\":\"object\",\"name\":\"Scatter\",\"id\":\"p2118\",\"attributes\":{\"tags\":[\"apply_ranges\"],\"x\":{\"type\":\"field\",\"field\":\"Longitude\"},\"y\":{\"type\":\"field\",\"field\":\"Latitude\"},\"size\":{\"type\":\"value\",\"value\":5.477225575051661},\"angle\":{\"type\":\"value\",\"value\":0.0},\"line_color\":{\"type\":\"value\",\"value\":\"red\"},\"line_alpha\":{\"type\":\"value\",\"value\":0.8},\"line_width\":{\"type\":\"value\",\"value\":0.5},\"line_join\":{\"type\":\"value\",\"value\":\"bevel\"},\"line_cap\":{\"type\":\"value\",\"value\":\"butt\"},\"line_dash\":{\"type\":\"value\",\"value\":[]},\"line_dash_offset\":{\"type\":\"value\",\"value\":0},\"fill_color\":{\"type\":\"value\",\"value\":\"red\"},\"fill_alpha\":{\"type\":\"value\",\"value\":0.8},\"hatch_color\":{\"type\":\"value\",\"value\":\"red\"},\"hatch_alpha\":{\"type\":\"value\",\"value\":0.8},\"hatch_scale\":{\"type\":\"value\",\"value\":12.0},\"hatch_pattern\":{\"type\":\"value\",\"value\":null},\"hatch_weight\":{\"type\":\"value\",\"value\":1.0},\"marker\":{\"type\":\"value\",\"value\":\"circle\"}}},\"nonselection_glyph\":{\"type\":\"object\",\"name\":\"Scatter\",\"id\":\"p2111\",\"attributes\":{\"tags\":[\"apply_ranges\"],\"x\":{\"type\":\"field\",\"field\":\"Longitude\"},\"y\":{\"type\":\"field\",\"field\":\"Latitude\"},\"size\":{\"type\":\"value\",\"value\":5.477225575051661},\"line_color\":{\"type\":\"value\",\"value\":\"red\"},\"line_alpha\":{\"type\":\"value\",\"value\":0.8},\"line_width\":{\"type\":\"value\",\"value\":0.5},\"fill_color\":{\"type\":\"value\",\"value\":\"red\"},\"fill_alpha\":{\"type\":\"value\",\"value\":0.8},\"hatch_color\":{\"type\":\"value\",\"value\":\"red\"},\"hatch_alpha\":{\"type\":\"value\",\"value\":0.1}}},\"muted_glyph\":{\"type\":\"object\",\"name\":\"Scatter\",\"id\":\"p2112\",\"attributes\":{\"tags\":[\"apply_ranges\"],\"x\":{\"type\":\"field\",\"field\":\"Longitude\"},\"y\":{\"type\":\"field\",\"field\":\"Latitude\"},\"size\":{\"type\":\"value\",\"value\":5.477225575051661},\"line_color\":{\"type\":\"value\",\"value\":\"red\"},\"line_alpha\":{\"type\":\"value\",\"value\":0.2},\"line_width\":{\"type\":\"value\",\"value\":0.5},\"fill_color\":{\"type\":\"value\",\"value\":\"red\"},\"fill_alpha\":{\"type\":\"value\",\"value\":0.2},\"hatch_color\":{\"type\":\"value\",\"value\":\"red\"},\"hatch_alpha\":{\"type\":\"value\",\"value\":0.2}}}}}],\"toolbar\":{\"type\":\"object\",\"name\":\"Toolbar\",\"id\":\"p2070\",\"attributes\":{\"tools\":[{\"type\":\"object\",\"name\":\"WheelZoomTool\",\"id\":\"p2043\",\"attributes\":{\"tags\":[\"hv_created\"],\"renderers\":\"auto\",\"zoom_on_axis\":false,\"zoom_together\":\"none\"}},{\"type\":\"object\",\"name\":\"HoverTool\",\"id\":\"p2060\",\"attributes\":{\"tags\":[\"hv_created\"],\"renderers\":[{\"id\":\"p2113\"}],\"tooltips\":[[\"Longitude\",\"$x{custom}\"],[\"Latitude\",\"$y{custom}\"],[\"name\",\"@{name}\"],[\"address\",\"@{address}\"]],\"formatters\":{\"type\":\"map\",\"entries\":[[\"$x\",{\"type\":\"object\",\"name\":\"CustomJSHover\",\"id\":\"p2116\",\"attributes\":{\"code\":\"\\n        const projections = Bokeh.require(\\\"core/util/projections\\\");\\n        const {snap_x, snap_y} = special_vars\\n        const coords = projections.wgs84_mercator.invert(snap_x, snap_y)\\n        return \\\"\\\" + (coords[0]).toFixed(4)\\n    \"}}],[\"$y\",{\"type\":\"object\",\"name\":\"CustomJSHover\",\"id\":\"p2117\",\"attributes\":{\"code\":\"\\n        const projections = Bokeh.require(\\\"core/util/projections\\\");\\n        const {snap_x, snap_y} = special_vars\\n        const coords = projections.wgs84_mercator.invert(snap_x, snap_y)\\n        return \\\"\\\" + (coords[1]).toFixed(4)\\n    \"}}]]}}},{\"type\":\"object\",\"name\":\"SaveTool\",\"id\":\"p2083\"},{\"type\":\"object\",\"name\":\"PanTool\",\"id\":\"p2084\"},{\"type\":\"object\",\"name\":\"BoxZoomTool\",\"id\":\"p2085\",\"attributes\":{\"overlay\":{\"type\":\"object\",\"name\":\"BoxAnnotation\",\"id\":\"p2086\",\"attributes\":{\"syncable\":false,\"line_color\":\"black\",\"line_alpha\":1.0,\"line_width\":2,\"line_dash\":[4,4],\"fill_color\":\"lightgrey\",\"fill_alpha\":0.5,\"level\":\"overlay\",\"visible\":false,\"left\":{\"type\":\"number\",\"value\":\"nan\"},\"right\":{\"type\":\"number\",\"value\":\"nan\"},\"top\":{\"type\":\"number\",\"value\":\"nan\"},\"bottom\":{\"type\":\"number\",\"value\":\"nan\"},\"left_units\":\"canvas\",\"right_units\":\"canvas\",\"top_units\":\"canvas\",\"bottom_units\":\"canvas\",\"handles\":{\"type\":\"object\",\"name\":\"BoxInteractionHandles\",\"id\":\"p2092\",\"attributes\":{\"all\":{\"type\":\"object\",\"name\":\"AreaVisuals\",\"id\":\"p2091\",\"attributes\":{\"fill_color\":\"white\",\"hover_fill_color\":\"lightgray\"}}}}}},\"match_aspect\":true}},{\"type\":\"object\",\"name\":\"ResetTool\",\"id\":\"p2093\"}],\"active_drag\":{\"id\":\"p2084\"}}},\"toolbar_location\":\"above\",\"left\":[{\"type\":\"object\",\"name\":\"LinearAxis\",\"id\":\"p2078\",\"attributes\":{\"ticker\":{\"type\":\"object\",\"name\":\"MercatorTicker\",\"id\":\"p2096\",\"attributes\":{\"mantissas\":[1,2,5],\"dimension\":\"lat\"}},\"formatter\":{\"type\":\"object\",\"name\":\"MercatorTickFormatter\",\"id\":\"p2097\",\"attributes\":{\"dimension\":\"lat\"}},\"axis_label\":\"y\",\"major_label_policy\":{\"type\":\"object\",\"name\":\"AllLabels\",\"id\":\"p2081\"}}}],\"below\":[{\"type\":\"object\",\"name\":\"LinearAxis\",\"id\":\"p2073\",\"attributes\":{\"ticker\":{\"type\":\"object\",\"name\":\"MercatorTicker\",\"id\":\"p2094\",\"attributes\":{\"mantissas\":[1,2,5],\"dimension\":\"lon\"}},\"formatter\":{\"type\":\"object\",\"name\":\"MercatorTickFormatter\",\"id\":\"p2095\",\"attributes\":{\"dimension\":\"lon\"}},\"axis_label\":\"x\",\"major_label_policy\":{\"type\":\"object\",\"name\":\"AllLabels\",\"id\":\"p2076\"}}}],\"center\":[{\"type\":\"object\",\"name\":\"Grid\",\"id\":\"p2077\",\"attributes\":{\"axis\":{\"id\":\"p2073\"},\"grid_line_color\":null}},{\"type\":\"object\",\"name\":\"Grid\",\"id\":\"p2082\",\"attributes\":{\"dimension\":1,\"axis\":{\"id\":\"p2078\"},\"grid_line_color\":null}}],\"frame_width\":1200,\"frame_height\":600,\"background_fill_color\":\"lightgray\",\"min_border_top\":10,\"min_border_bottom\":10,\"min_border_left\":10,\"min_border_right\":10,\"output_backend\":\"webgl\",\"match_aspect\":true}},{\"type\":\"object\",\"name\":\"Spacer\",\"id\":\"p2120\",\"attributes\":{\"name\":\"HSpacer03929\",\"stylesheets\":[\"\\n:host(.pn-loading):before, .pn-loading:before {\\n  background-color: #c3c3c3;\\n  mask-size: auto calc(min(50%, 400px));\\n  -webkit-mask-size: auto calc(min(50%, 400px));\\n}\",{\"id\":\"p2026\"},{\"id\":\"p2024\"},{\"id\":\"p2025\"}],\"margin\":0,\"sizing_mode\":\"stretch_width\",\"align\":\"start\"}}]}}],\"defs\":[{\"type\":\"model\",\"name\":\"ReactiveHTML1\"},{\"type\":\"model\",\"name\":\"FlexBox1\",\"properties\":[{\"name\":\"align_content\",\"kind\":\"Any\",\"default\":\"flex-start\"},{\"name\":\"align_items\",\"kind\":\"Any\",\"default\":\"flex-start\"},{\"name\":\"flex_direction\",\"kind\":\"Any\",\"default\":\"row\"},{\"name\":\"flex_wrap\",\"kind\":\"Any\",\"default\":\"wrap\"},{\"name\":\"gap\",\"kind\":\"Any\",\"default\":\"\"},{\"name\":\"justify_content\",\"kind\":\"Any\",\"default\":\"flex-start\"}]},{\"type\":\"model\",\"name\":\"FloatPanel1\",\"properties\":[{\"name\":\"config\",\"kind\":\"Any\",\"default\":{\"type\":\"map\"}},{\"name\":\"contained\",\"kind\":\"Any\",\"default\":true},{\"name\":\"position\",\"kind\":\"Any\",\"default\":\"right-top\"},{\"name\":\"offsetx\",\"kind\":\"Any\",\"default\":null},{\"name\":\"offsety\",\"kind\":\"Any\",\"default\":null},{\"name\":\"theme\",\"kind\":\"Any\",\"default\":\"primary\"},{\"name\":\"status\",\"kind\":\"Any\",\"default\":\"normalized\"}]},{\"type\":\"model\",\"name\":\"GridStack1\",\"properties\":[{\"name\":\"mode\",\"kind\":\"Any\",\"default\":\"warn\"},{\"name\":\"ncols\",\"kind\":\"Any\",\"default\":null},{\"name\":\"nrows\",\"kind\":\"Any\",\"default\":null},{\"name\":\"allow_resize\",\"kind\":\"Any\",\"default\":true},{\"name\":\"allow_drag\",\"kind\":\"Any\",\"default\":true},{\"name\":\"state\",\"kind\":\"Any\",\"default\":[]}]},{\"type\":\"model\",\"name\":\"drag1\",\"properties\":[{\"name\":\"slider_width\",\"kind\":\"Any\",\"default\":5},{\"name\":\"slider_color\",\"kind\":\"Any\",\"default\":\"black\"},{\"name\":\"value\",\"kind\":\"Any\",\"default\":50}]},{\"type\":\"model\",\"name\":\"click1\",\"properties\":[{\"name\":\"terminal_output\",\"kind\":\"Any\",\"default\":\"\"},{\"name\":\"debug_name\",\"kind\":\"Any\",\"default\":\"\"},{\"name\":\"clears\",\"kind\":\"Any\",\"default\":0}]},{\"type\":\"model\",\"name\":\"FastWrapper1\",\"properties\":[{\"name\":\"object\",\"kind\":\"Any\",\"default\":null},{\"name\":\"style\",\"kind\":\"Any\",\"default\":null}]},{\"type\":\"model\",\"name\":\"NotificationAreaBase1\",\"properties\":[{\"name\":\"js_events\",\"kind\":\"Any\",\"default\":{\"type\":\"map\"}},{\"name\":\"position\",\"kind\":\"Any\",\"default\":\"bottom-right\"},{\"name\":\"_clear\",\"kind\":\"Any\",\"default\":0}]},{\"type\":\"model\",\"name\":\"NotificationArea1\",\"properties\":[{\"name\":\"js_events\",\"kind\":\"Any\",\"default\":{\"type\":\"map\"}},{\"name\":\"notifications\",\"kind\":\"Any\",\"default\":[]},{\"name\":\"position\",\"kind\":\"Any\",\"default\":\"bottom-right\"},{\"name\":\"_clear\",\"kind\":\"Any\",\"default\":0},{\"name\":\"types\",\"kind\":\"Any\",\"default\":[{\"type\":\"map\",\"entries\":[[\"type\",\"warning\"],[\"background\",\"#ffc107\"],[\"icon\",{\"type\":\"map\",\"entries\":[[\"className\",\"fas fa-exclamation-triangle\"],[\"tagName\",\"i\"],[\"color\",\"white\"]]}]]},{\"type\":\"map\",\"entries\":[[\"type\",\"info\"],[\"background\",\"#007bff\"],[\"icon\",{\"type\":\"map\",\"entries\":[[\"className\",\"fas fa-info-circle\"],[\"tagName\",\"i\"],[\"color\",\"white\"]]}]]}]}]},{\"type\":\"model\",\"name\":\"Notification\",\"properties\":[{\"name\":\"background\",\"kind\":\"Any\",\"default\":null},{\"name\":\"duration\",\"kind\":\"Any\",\"default\":3000},{\"name\":\"icon\",\"kind\":\"Any\",\"default\":null},{\"name\":\"message\",\"kind\":\"Any\",\"default\":\"\"},{\"name\":\"notification_type\",\"kind\":\"Any\",\"default\":null},{\"name\":\"_destroyed\",\"kind\":\"Any\",\"default\":false}]},{\"type\":\"model\",\"name\":\"TemplateActions1\",\"properties\":[{\"name\":\"open_modal\",\"kind\":\"Any\",\"default\":0},{\"name\":\"close_modal\",\"kind\":\"Any\",\"default\":0}]},{\"type\":\"model\",\"name\":\"BootstrapTemplateActions1\",\"properties\":[{\"name\":\"open_modal\",\"kind\":\"Any\",\"default\":0},{\"name\":\"close_modal\",\"kind\":\"Any\",\"default\":0}]},{\"type\":\"model\",\"name\":\"TemplateEditor1\",\"properties\":[{\"name\":\"layout\",\"kind\":\"Any\",\"default\":[]}]},{\"type\":\"model\",\"name\":\"MaterialTemplateActions1\",\"properties\":[{\"name\":\"open_modal\",\"kind\":\"Any\",\"default\":0},{\"name\":\"close_modal\",\"kind\":\"Any\",\"default\":0}]},{\"type\":\"model\",\"name\":\"ReactiveESM1\"},{\"type\":\"model\",\"name\":\"JSComponent1\"},{\"type\":\"model\",\"name\":\"ReactComponent1\"},{\"type\":\"model\",\"name\":\"AnyWidgetComponent1\"},{\"type\":\"model\",\"name\":\"request_value1\",\"properties\":[{\"name\":\"fill\",\"kind\":\"Any\",\"default\":\"none\"},{\"name\":\"_synced\",\"kind\":\"Any\",\"default\":null},{\"name\":\"_request_sync\",\"kind\":\"Any\",\"default\":0}]}]}};\n",
       "  var render_items = [{\"docid\":\"4d1fe71d-5777-4f23-8ff6-a3bfab4a287a\",\"roots\":{\"p2023\":\"ef9fd52b-3076-47b6-941e-38567871a6fc\"},\"root_ids\":[\"p2023\"]}];\n",
       "  var docs = Object.values(docs_json)\n",
       "  if (!docs) {\n",
       "    return\n",
       "  }\n",
       "  const py_version = docs[0].version.replace('rc', '-rc.').replace('.dev', '-dev.')\n",
       "  async function embed_document(root) {\n",
       "    var Bokeh = get_bokeh(root)\n",
       "    await Bokeh.embed.embed_items_notebook(docs_json, render_items);\n",
       "    for (const render_item of render_items) {\n",
       "      for (const root_id of render_item.root_ids) {\n",
       "\tconst id_el = document.getElementById(root_id)\n",
       "\tif (id_el.children.length && id_el.children[0].hasAttribute('data-root-id')) {\n",
       "\t  const root_el = id_el.children[0]\n",
       "\t  root_el.id = root_el.id + '-rendered'\n",
       "\t  for (const child of root_el.children) {\n",
       "            // Ensure JupyterLab does not capture keyboard shortcuts\n",
       "            // see: https://jupyterlab.readthedocs.io/en/4.1.x/extension/notebook.html#keyboard-interaction-model\n",
       "\t    child.setAttribute('data-lm-suppress-shortcuts', 'true')\n",
       "\t  }\n",
       "\t}\n",
       "      }\n",
       "    }\n",
       "  }\n",
       "  function get_bokeh(root) {\n",
       "    if (root.Bokeh === undefined) {\n",
       "      return null\n",
       "    } else if (root.Bokeh.version !== py_version) {\n",
       "      if (root.Bokeh.versions === undefined || !root.Bokeh.versions.has(py_version)) {\n",
       "\treturn null\n",
       "      }\n",
       "      return root.Bokeh.versions.get(py_version);\n",
       "    } else if (root.Bokeh.version === py_version) {\n",
       "      return root.Bokeh\n",
       "    }\n",
       "    return null\n",
       "  }\n",
       "  function is_loaded(root) {\n",
       "    var Bokeh = get_bokeh(root)\n",
       "    return (Bokeh != null && Bokeh.Panel !== undefined)\n",
       "  }\n",
       "  if (is_loaded(root)) {\n",
       "    embed_document(root);\n",
       "  } else {\n",
       "    var attempts = 0;\n",
       "    var timer = setInterval(function(root) {\n",
       "      if (is_loaded(root)) {\n",
       "        clearInterval(timer);\n",
       "        embed_document(root);\n",
       "      } else if (document.readyState == \"complete\") {\n",
       "        attempts++;\n",
       "        if (attempts > 200) {\n",
       "          clearInterval(timer);\n",
       "\t  var Bokeh = get_bokeh(root)\n",
       "\t  if (Bokeh == null || Bokeh.Panel == null) {\n",
       "            console.warn(\"Panel: ERROR: Unable to run Panel code because Bokeh or Panel library is missing\");\n",
       "\t  } else {\n",
       "\t    console.warn(\"Panel: WARNING: Attempting to render but not all required libraries could be resolved.\")\n",
       "\t    embed_document(root)\n",
       "\t  }\n",
       "        }\n",
       "      }\n",
       "    }, 25, root)\n",
       "  }\n",
       "})(window);</script>"
      ],
      "text/plain": [
       ":Overlay\n",
       "   .Tiles.I  :Tiles   [x,y]\n",
       "   .Points.I :Points   [Longitude,Latitude]   (name,address)"
      ]
     },
     "execution_count": 34,
     "metadata": {
      "application/vnd.holoviews_exec.v0+json": {
       "id": "p2023"
      }
     },
     "output_type": "execute_result"
    }
   ],
   "source": [
    "# Visualization of Fetched Buildings...\n",
    "df_plot = df.hvplot(geo=True, color='red', alpha=0.8, line_width=0.5, title=\"FourSquare POI DataPoints\",hover_cols=['name','address'],)\n",
    "esri_basemap = holoviews.element.tiles.EsriImagery().opts(width=1200, height=600,bgcolor='lightgray',alpha=0.8)\n",
    "plot = esri_basemap * df_plot\n",
    "plot.opts(toolbar='above', title=\"FourSquare POI DataPoints on ESRI Basemap\")"
   ]
  },
  {
   "cell_type": "markdown",
   "metadata": {
    "id": "1zIPneegcr-w"
   },
   "source": [
    "<h2 style=\"text-align: center; color: #e67e22; font-family: Arial, sans-serif;\">\n",
    "  1️⃣ > 🏙️📐 Scalable Google Building Footprint Mining with Dask\n",
    "</h2>\n",
    "<p style=\"text-align: center; font-size: 16px; color: #555;\">\n",
    "  Extract detailed vector data of building footprints from Google at scale, powered by <strong>Dask</strong> for distributed processing. Unlock metadata and geospatial insights with efficiency and precision.\n",
    "</p>\n"
   ]
  },
  {
   "cell_type": "code",
   "execution_count": null,
   "metadata": {
    "id": "kLX5Ws_MGvXl"
   },
   "outputs": [],
   "source": [
    "miner = GoogleBuildingMiner()"
   ]
  },
  {
   "cell_type": "code",
   "execution_count": null,
   "metadata": {
    "colab": {
     "base_uri": "https://localhost:8080/"
    },
    "id": "pwWHKq4WG1rN",
    "outputId": "2c1063d7-36f4-4f3c-b126-83c6e5b56e27"
   },
   "outputs": [],
   "source": [
    "%%time\n",
    "# Define the latitude and longitude of the center point\n",
    "lat, lon = 26.44363424, 74.64098615\n",
    "\n",
    "# Define the radius in meters for fetching data around the center point\n",
    "radius = 200\n",
    "\n",
    "# Fetch data using lat/lon and radius\n",
    "df = miner.fetch(lat, lon, radius)\n",
    "\n",
    "# Note: Polygon input is also available for polygon based geospatial queries"
   ]
  },
  {
   "cell_type": "code",
   "execution_count": null,
   "metadata": {
    "colab": {
     "base_uri": "https://localhost:8080/",
     "height": 206
    },
    "id": "NhzT9YCNITa4",
    "outputId": "139f6b72-c3b6-4e78-b895-13bc9377b845"
   },
   "outputs": [],
   "source": [
    "df.head()"
   ]
  },
  {
   "cell_type": "code",
   "execution_count": null,
   "metadata": {
    "colab": {
     "base_uri": "https://localhost:8080/",
     "height": 687
    },
    "id": "dzwS_XP-uZle",
    "outputId": "8be6a32a-042b-40c6-a821-214a6af0f37e"
   },
   "outputs": [],
   "source": [
    "# Visualization of Fetched Buildings...\n",
    "\n",
    "df_plot = df.hvplot(geo=True, color='red', alpha=0.4, line_width=0.5, title=\"Building Footprints\")\n",
    "esri_basemap = holoviews.element.tiles.EsriImagery().opts(width=1200, height=600,bgcolor='lightgray')\n",
    "plot = esri_basemap * df_plot\n",
    "plot.opts(toolbar='above', title=\"Google Building Footprint on ESRI Basemap\")"
   ]
  },
  {
   "cell_type": "markdown",
   "metadata": {
    "id": "RnYu0k3gaJmu"
   },
   "source": [
    "<br><h2 style=\"text-align: center; color: #e74c3c; font-family: Arial, sans-serif;\">\n",
    "  2️⃣ > 🌍📊 Advanced Google Earth (with metadata)\n",
    "Mining with MapMiner\n",
    "</h2>\n",
    "<p style=\"text-align: center; font-size: 16px; color: #555;\">\n",
    "  Unlock high-quality geospatial basemap tiles from Google with advanced automation, while also extracting valuable metadata such as capture date for deeper Earth observation insights.\n",
    "</p>\n"
   ]
  },
  {
   "cell_type": "code",
   "execution_count": null,
   "metadata": {
    "colab": {
     "base_uri": "https://localhost:8080/"
    },
    "id": "nm6GTHVqkxZD",
    "outputId": "42c2c2ce-fc53-405e-8bd3-8585223b57b8",
    "tags": []
   },
   "outputs": [],
   "source": [
    "%%time\n",
    "miner = GoogleBaseMapMiner()\n",
    "\n",
    "# IF Chrome version mismatch with your system drivers, run below to get latest chromedrivers\n",
    "# GoogleBaseMapMiner.install_chrome(None)"
   ]
  },
  {
   "cell_type": "code",
   "execution_count": null,
   "metadata": {
    "colab": {
     "base_uri": "https://localhost:8080/"
    },
    "id": "Gz9W5B8zlH9c",
    "outputId": "16bafc28-62d4-4341-a8ed-647f1b5eb349",
    "tags": []
   },
   "outputs": [],
   "source": [
    "%%time\n",
    "lat,lon = 26.44363424,74.64098615\n",
    "radius = 200\n",
    "\n",
    "ds = miner.fetch(lat,lon,radius)"
   ]
  },
  {
   "cell_type": "code",
   "execution_count": null,
   "metadata": {
    "colab": {
     "base_uri": "https://localhost:8080/",
     "height": 306
    },
    "id": "ssAzCqpyalja",
    "outputId": "881130c7-2ac1-474f-8cc4-f475260e900f",
    "tags": []
   },
   "outputs": [],
   "source": [
    "ds"
   ]
  },
  {
   "cell_type": "code",
   "execution_count": null,
   "metadata": {
    "colab": {
     "base_uri": "https://localhost:8080/",
     "height": 827
    },
    "id": "ibDaJIfHuivB",
    "outputId": "69d5a0e2-e1cf-4a1b-d931-e3e0fdd89354",
    "tags": []
   },
   "outputs": [],
   "source": [
    "ds.hvplot(x='x',y='y',height=800,width=800,title='Google Earth Basemap')"
   ]
  },
  {
   "cell_type": "markdown",
   "metadata": {
    "id": "WMl5J9FzcK0w"
   },
   "source": [
    "<br><h2 style=\"text-align: center; color: #3498db; font-family: Arial, sans-serif;\">\n",
    "  3️⃣ > 🌐📈 Precision Mining of ESRI Basemaps with MapMiner\n",
    "</h2>\n",
    "<p style=\"text-align: center; font-size: 16px; color: #555;\">\n",
    "  Extract high-resolution basemap tiles from ESRI, enriched with essential metadata like capture date, utilizing cutting-edge geospatial automation tools for unparalleled insights.\n",
    "</p>\n"
   ]
  },
  {
   "cell_type": "code",
   "execution_count": null,
   "metadata": {
    "colab": {
     "base_uri": "https://localhost:8080/"
    },
    "id": "_eg_qhl-F4aB",
    "outputId": "e524578c-c8b4-4866-f0a2-b18cfffc950d"
   },
   "outputs": [],
   "source": [
    "%%time\n",
    "miner = ESRIBaseMapMiner()"
   ]
  },
  {
   "cell_type": "code",
   "execution_count": null,
   "metadata": {
    "colab": {
     "base_uri": "https://localhost:8080/"
    },
    "id": "aG3M9lr0ErJv",
    "outputId": "7f942466-637e-480b-d512-69230d8ac6cc"
   },
   "outputs": [],
   "source": [
    "%%time\n",
    "lat,lon = 26.44363424,74.64098615\n",
    "radius = 200\n",
    "\n",
    "ds = miner.fetch(lat,lon,radius,resolution=1)"
   ]
  },
  {
   "cell_type": "code",
   "execution_count": null,
   "metadata": {
    "colab": {
     "base_uri": "https://localhost:8080/",
     "height": 237
    },
    "id": "M3mUyE3DGDYx",
    "outputId": "5144cdf2-ca6a-43b1-80b3-db516b4c8d73"
   },
   "outputs": [],
   "source": [
    "ds"
   ]
  },
  {
   "cell_type": "code",
   "execution_count": null,
   "metadata": {
    "colab": {
     "base_uri": "https://localhost:8080/",
     "height": 827
    },
    "id": "ibzhXlcWF_t-",
    "outputId": "41de7f06-be7f-4aec-ddb4-0e058b14a385"
   },
   "outputs": [],
   "source": [
    "ds.hvplot.rgb(x='x',y='y',height=800,width=800,title='Google Earth Basemap',bands='band')"
   ]
  },
  {
   "cell_type": "markdown",
   "metadata": {
    "id": "Gpv1BtYicY4o"
   },
   "source": [
    "<br><h2 style=\"text-align: center; color: #9b59b6; font-family: Arial, sans-serif;\">\n",
    "  4️⃣ > 🛰️⏳ Dynamic Sentinel-2 Basemap Mining with Temporal Insights\n",
    "</h2>\n",
    "<p style=\"text-align: center; font-size: 16px; color: #555;\">\n",
    "  Seamlessly mine high-resolution Sentinel-2 imagery with advanced temporal data capabilities, extracting basemaps and metadata across multiple timestamps for comprehensive Earth observation analysis.\n",
    "</p>\n"
   ]
  },
  {
   "cell_type": "code",
   "execution_count": null,
   "metadata": {
    "id": "W2mMbfGQGW_y"
   },
   "outputs": [],
   "source": [
    "miner = Sentinel2Miner()"
   ]
  },
  {
   "cell_type": "code",
   "execution_count": null,
   "metadata": {
    "colab": {
     "base_uri": "https://localhost:8080/"
    },
    "id": "Hlg81d_iGBfy",
    "outputId": "201de654-40f1-4281-9e72-87a93f5ad4b3"
   },
   "outputs": [],
   "source": [
    "%%time\n",
    "lat,lon = 26.44363424,74.64098615\n",
    "radius = 2000\n",
    "\n",
    "ds = miner.fetch(lat,lon,radius,daterange=\"2024-10-01/2024-10-24\")"
   ]
  },
  {
   "cell_type": "code",
   "execution_count": null,
   "metadata": {
    "colab": {
     "base_uri": "https://localhost:8080/",
     "height": 270
    },
    "id": "e5saJZIZGZ1d",
    "outputId": "c1bde968-eeff-4d1e-8193-75a83214477f"
   },
   "outputs": [],
   "source": [
    "ds"
   ]
  },
  {
   "cell_type": "code",
   "execution_count": null,
   "metadata": {
    "colab": {
     "base_uri": "https://localhost:8080/",
     "height": 718
    },
    "id": "qMwDAY5LyEsh",
    "outputId": "a998f321-2d47-4855-dcc2-23f3023ad809"
   },
   "outputs": [],
   "source": [
    "ds_sentinel2 = ds\n",
    "pn.extension()\n",
    "\n",
    "variables = list(ds_sentinel2.data_vars)\n",
    "\n",
    "def plot_variable(variable):\n",
    "    return ds_sentinel2[variable].hvplot.image(\n",
    "        groupby='time',\n",
    "        cmap='viridis',  # Choose a colormap (adjust as needed)\n",
    "        title=f\"{variable} over Time\",\n",
    "        frame_width=500,\n",
    "        frame_height=400,\n",
    "        colorbar=True,widget_location='top_left'\n",
    "    )\n",
    "\n",
    "# Define a function to create a histogram for the selected variable\n",
    "def plot_histogram(variable):\n",
    "    return ds_sentinel2[variable].hvplot.hist(\n",
    "        bins=50,\n",
    "        color='blue',\n",
    "        title=f\"Histogram of {variable}\",\n",
    "        width=600,\n",
    "        height=300,grid=True,\n",
    "    )\n",
    "\n",
    "# Define a function to create a line chart showing the mean over time\n",
    "def plot_mean_over_time(variable):\n",
    "    return ds_sentinel2[variable].mean(dim=['x', 'y']).hvplot.line(\n",
    "        title=f\"Mean {variable} Over Time\",\n",
    "        ylabel=variable,\n",
    "        xlabel='Time',\n",
    "        width=600,\n",
    "        height=300,grid=True,\n",
    "    )\n",
    "\n",
    "# Create a dropdown for selecting variables\n",
    "variable_selector = pn.widgets.Select(name='Select Variable', options=variables)\n",
    "\n",
    "# Create an interactive plot that updates based on the selected variable\n",
    "@pn.depends(variable_selector)\n",
    "def interactive_plot(variable):\n",
    "    return plot_variable(variable)\n",
    "\n",
    "@pn.depends(variable_selector)\n",
    "def histogram_plot(variable):\n",
    "    return plot_histogram(variable)\n",
    "\n",
    "@pn.depends(variable_selector)\n",
    "def mean_over_time_plot(variable):\n",
    "    return plot_mean_over_time(variable)\n",
    "\n",
    "# Display the dropdown and the plot together in a Panel layout\n",
    "dashboard = pn.Row(\n",
    "    pn.Column(\n",
    "        pn.pane.Markdown(\"## Sentinel-2 Data Interactive Visualization\"),\n",
    "        variable_selector,\n",
    "        interactive_plot\n",
    "    ),\n",
    "    pn.Column(\n",
    "        pn.pane.Markdown(\"### Additional Insights\"),\n",
    "        mean_over_time_plot,  # Line chart showing mean over time\n",
    "        histogram_plot  # Histogram of selected variable\n",
    "    )\n",
    ")\n",
    "\n",
    "# Serve the dashboard\n",
    "dashboard\n"
   ]
  },
  {
   "cell_type": "markdown",
   "metadata": {
    "id": "Z2cE22TNcbAD"
   },
   "source": [
    "<br><h2 style=\"text-align: center; color: #1abc9c; font-family: Arial, sans-serif;\">\n",
    "  5️⃣ > 🛰️🌍 Advanced Landsat Basemap Mining with MapMiner\n",
    "</h2>\n",
    "<p style=\"text-align: center; font-size: 16px; color: #555;\">\n",
    "  Effortlessly mine high-quality Landsat imagery with precision, extracting basemaps along with detailed metadata, including capture date and temporal layers for deep geospatial analysis.\n",
    "</p>\n"
   ]
  },
  {
   "cell_type": "code",
   "execution_count": null,
   "metadata": {
    "id": "nhpJqaCXGclB"
   },
   "outputs": [],
   "source": [
    "miner = LandsatMiner()"
   ]
  },
  {
   "cell_type": "code",
   "execution_count": null,
   "metadata": {
    "colab": {
     "base_uri": "https://localhost:8080/"
    },
    "id": "zYs9GrzWGt5t",
    "outputId": "6d12c6ee-9c09-401e-d79f-ead33247792a"
   },
   "outputs": [],
   "source": [
    "%%time\n",
    "lat,lon = 26.44363424,74.64098615\n",
    "radius = 2000\n",
    "\n",
    "ds = miner.fetch(lat,lon,radius,daterange=\"2023-09-01/2023-10-20\")"
   ]
  },
  {
   "cell_type": "code",
   "execution_count": null,
   "metadata": {
    "colab": {
     "base_uri": "https://localhost:8080/",
     "height": 270
    },
    "id": "pdyI5s22IWKF",
    "outputId": "eb97e412-8207-4c37-e4b0-13366ccb8409"
   },
   "outputs": [],
   "source": [
    "ds"
   ]
  },
  {
   "cell_type": "code",
   "execution_count": null,
   "metadata": {
    "colab": {
     "base_uri": "https://localhost:8080/",
     "height": 718
    },
    "id": "VNUTns4-z2a3",
    "outputId": "b92b72a3-5767-447c-cd9a-f0e1fe000e6e"
   },
   "outputs": [],
   "source": [
    "pn.extension()\n",
    "variables = list(ds.data_vars)\n",
    "\n",
    "def plot_variable(variable):\n",
    "    return ds[variable].hvplot.image(\n",
    "        groupby='time',\n",
    "        cmap='viridis',  # Choose a colormap (adjust as needed)\n",
    "        title=f\"{variable} over Time\",\n",
    "        frame_width=500,\n",
    "        frame_height=400,\n",
    "        colorbar=True,widget_location='top_left'\n",
    "    )\n",
    "\n",
    "# Define a function to create a histogram for the selected variable\n",
    "def plot_histogram(variable):\n",
    "    return ds[variable].hvplot.hist(\n",
    "        bins=50,\n",
    "        color='blue',\n",
    "        title=f\"Histogram of {variable}\",\n",
    "        width=600,\n",
    "        height=300,grid=True,\n",
    "    )\n",
    "\n",
    "# Define a function to create a line chart showing the mean over time\n",
    "def plot_mean_over_time(variable):\n",
    "    return ds[variable].mean(dim=['x', 'y']).hvplot.line(\n",
    "        title=f\"Mean {variable} Over Time\",\n",
    "        ylabel=variable,\n",
    "        xlabel='Time',\n",
    "        width=600,\n",
    "        height=300,grid=True,\n",
    "    )\n",
    "\n",
    "# Create a dropdown for selecting variables\n",
    "variable_selector = pn.widgets.Select(name='Select Variable', options=variables)\n",
    "\n",
    "# Create an interactive plot that updates based on the selected variable\n",
    "@pn.depends(variable_selector)\n",
    "def interactive_plot(variable):\n",
    "    return plot_variable(variable)\n",
    "\n",
    "@pn.depends(variable_selector)\n",
    "def histogram_plot(variable):\n",
    "    return plot_histogram(variable)\n",
    "\n",
    "@pn.depends(variable_selector)\n",
    "def mean_over_time_plot(variable):\n",
    "    return plot_mean_over_time(variable)\n",
    "\n",
    "# Display the dropdown and the plot together in a Panel layout\n",
    "dashboard = pn.Row(\n",
    "    pn.Column(\n",
    "        pn.pane.Markdown(\"## Landsat Data Interactive Visualization\"),\n",
    "        variable_selector,\n",
    "        interactive_plot\n",
    "    ),\n",
    "    pn.Column(\n",
    "        pn.pane.Markdown(\"### Additional Insights\"),\n",
    "        mean_over_time_plot,  # Line chart showing mean over time\n",
    "        histogram_plot  # Histogram of selected variable\n",
    "    )\n",
    ")\n",
    "\n",
    "# Serve the dashboard\n",
    "dashboard.servable()\n"
   ]
  },
  {
   "cell_type": "markdown",
   "metadata": {
    "id": "PTFj7KepfJ7R"
   },
   "source": [
    "<hr><h2 style=\"text-align: center; color: #2ecc71; font-family: Arial, sans-serif;\">\n",
    "  🚀 Join the MapMiner Journey: We Want Your Contribution!\n",
    "</h2>\n",
    "<p style=\"text-align: center; font-size: 18px; color: #555;\">\n",
    "  MapMiner is an evolving tool designed to unlock the power of geospatial data. Whether you're a developer, data scientist, or Earth observation enthusiast, your insights can make a difference.\n",
    "  <br>\n",
    "  We welcome your contributions to help us grow and innovate further! Head over to our <a href=\"https://github.com/gajeshladhar/mapminer\" style=\"color: #3498db; font-weight: bold;\" target=\"_blank\">GitHub repository</a> and be a part of this open-source revolution!\n",
    "</p>\n"
   ]
  }
 ],
 "metadata": {
  "colab": {
   "provenance": []
  },
  "kernelspec": {
   "display_name": "Python 3 (ipykernel)",
   "language": "python",
   "name": "python3"
  },
  "language_info": {
   "codemirror_mode": {
    "name": "ipython",
    "version": 3
   },
   "file_extension": ".py",
   "mimetype": "text/x-python",
   "name": "python",
   "nbconvert_exporter": "python",
   "pygments_lexer": "ipython3",
   "version": "3.11.5"
  }
 },
 "nbformat": 4,
 "nbformat_minor": 4
}
