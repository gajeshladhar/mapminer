{
 "cells": [
  {
   "cell_type": "code",
   "execution_count": 17,
   "id": "03c00dc8-ec61-4dae-b28a-2e6d4a4d0ce7",
   "metadata": {
    "tags": []
   },
   "outputs": [],
   "source": [
    "from mapminer.miner import GoogleMiner\n",
    "import numpy as np\n",
    "import pandas as pd\n",
    "import xarray as xr\n",
    "import rioxarray\n",
    "import hvplot.xarray\n",
    "from shapely import Polygon, Point, box"
   ]
  },
  {
   "cell_type": "markdown",
   "id": "124ab5a5-6d9b-4f16-892b-2c39cc08fb02",
   "metadata": {},
   "source": [
    "**<br><br>Initialization MapMiner Object & Visualizing the Dataset (GoogleMiner)**"
   ]
  },
  {
   "cell_type": "code",
   "execution_count": 18,
   "id": "5447d72a-aabd-4cf3-aaac-b841b7feb58a",
   "metadata": {
    "tags": []
   },
   "outputs": [
    {
     "name": "stderr",
     "output_type": "stream",
     "text": [
      "Neither CUDA nor MPS are available - defaulting to CPU. Note: This module is much faster with a GPU.\n"
     ]
    },
    {
     "name": "stdout",
     "output_type": "stream",
     "text": [
      "CPU times: user 4.64 s, sys: 709 ms, total: 5.34 s\n",
      "Wall time: 12.3 s\n"
     ]
    }
   ],
   "source": [
    "%%time\n",
    "miner = GoogleMiner()"
   ]
  },
  {
   "cell_type": "code",
   "execution_count": 19,
   "id": "dec86c2e-6c9c-40de-8753-3fa40a100b4a",
   "metadata": {
    "tags": []
   },
   "outputs": [
    {
     "name": "stdout",
     "output_type": "stream",
     "text": [
      "CPU times: user 4.37 s, sys: 6.52 s, total: 10.9 s\n",
      "Wall time: 34.3 s\n"
     ]
    }
   ],
   "source": [
    "%%time\n",
    "ds = miner.fetch(25.48508688,86.31251038,radius=500,resolution=0.5)"
   ]
  },
  {
   "cell_type": "code",
   "execution_count": null,
   "id": "41f6b3b4-3c5c-49f2-b41c-fb17ab47d51f",
   "metadata": {
    "tags": []
   },
   "outputs": [],
   "source": [
    "ds.hvplot(bands='band',x='x',y='y',height=900,width=900,rasterize=True)"
   ]
  },
  {
   "cell_type": "code",
   "execution_count": null,
   "id": "5d85a7e2-42c6-4505-90f6-c839e6c72ac9",
   "metadata": {},
   "outputs": [],
   "source": []
  }
 ],
 "metadata": {
  "kernelspec": {
   "display_name": "Python 3 (ipykernel)",
   "language": "python",
   "name": "python3"
  },
  "language_info": {
   "codemirror_mode": {
    "name": "ipython",
    "version": 3
   },
   "file_extension": ".py",
   "mimetype": "text/x-python",
   "name": "python",
   "nbconvert_exporter": "python",
   "pygments_lexer": "ipython3",
   "version": "3.11.5"
  }
 },
 "nbformat": 4,
 "nbformat_minor": 5
}
